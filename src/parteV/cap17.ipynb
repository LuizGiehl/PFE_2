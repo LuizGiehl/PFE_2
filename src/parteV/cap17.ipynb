{
 "cells": [
  {
   "cell_type": "markdown",
   "metadata": {},
   "source": [
    "CAPÍTULO 17 - Vida além do Pandas\n",
    "-\n"
   ]
  },
  {
   "cell_type": "markdown",
   "metadata": {},
   "source": [
    "17.2.1 Medindo o tempo de execução do seu código"
   ]
  },
  {
   "cell_type": "markdown",
   "metadata": {},
   "source": [
    "O IPython também inclui \"comandos mágicos\" que oferecem mais resurcos para melhorar a liguagem. Temos o comando timeit que mede o tempo de execução de uma instrução ou expressão Python. Essa função pode ser usada para fazer um benchmark do seu código."
   ]
  },
  {
   "cell_type": "code",
   "execution_count": 18,
   "metadata": {},
   "outputs": [],
   "source": [
    "import pandas as pd\n",
    "import numpy as np\n",
    "import timeit\n",
    "\n",
    "\n",
    "df = pd.DataFrame({'a': [10,20,30],\n",
    "                   'b': [20,30,40]})\n",
    "\n",
    "def avg_2_apply(row):\n",
    "    x = row.iloc[0]\n",
    "    y = row.iloc[1] \n",
    "\n",
    "    if (x == 20):\n",
    "        return np.nan\n",
    "    else:\n",
    "        return (x + y) / 2"
   ]
  },
  {
   "cell_type": "code",
   "execution_count": 19,
   "metadata": {},
   "outputs": [
    {
     "data": {
      "text/plain": [
       "0    15.0\n",
       "1     NaN\n",
       "2    35.0\n",
       "dtype: float64"
      ]
     },
     "execution_count": 19,
     "metadata": {},
     "output_type": "execute_result"
    }
   ],
   "source": [
    "#vetorizamos nossa função usando numpy\n",
    "\n",
    "# Medindo o tempo de execução usando timeit\n",
    "time_taken = timeit.timeit(lambda: df.apply(avg_2_apply, axis=1), number=10000)\n",
    "df.apply(avg_2_apply, axis=1)"
   ]
  },
  {
   "cell_type": "code",
   "execution_count": 20,
   "metadata": {},
   "outputs": [
    {
     "data": {
      "text/plain": [
       "array([15., nan, 35.])"
      ]
     },
     "execution_count": 20,
     "metadata": {},
     "output_type": "execute_result"
    }
   ],
   "source": [
    "@np.vectorize\n",
    "\n",
    "def v_avg_2_mod(x, y):\n",
    "    if (x == 20):\n",
    "        return(np.NaN)\n",
    "    else:\n",
    "        return (x + y) / 2\n",
    "    \n",
    "v_avg_2_mod(df['a'], df['b'])"
   ]
  }
 ],
 "metadata": {
  "kernelspec": {
   "display_name": "pfe_certo",
   "language": "python",
   "name": "python3"
  },
  "language_info": {
   "codemirror_mode": {
    "name": "ipython",
    "version": 3
   },
   "file_extension": ".py",
   "mimetype": "text/x-python",
   "name": "python",
   "nbconvert_exporter": "python",
   "pygments_lexer": "ipython3",
   "version": "3.12.3"
  }
 },
 "nbformat": 4,
 "nbformat_minor": 2
}

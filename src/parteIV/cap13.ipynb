{
 "cells": [
  {
   "cell_type": "markdown",
   "metadata": {},
   "source": [
    "CAPÍTULO 13 - Modelos Lineares Generalizados\n",
    "-\n"
   ]
  },
  {
   "cell_type": "markdown",
   "metadata": {},
   "source": [
    "13.1 Introdução"
   ]
  },
  {
   "cell_type": "markdown",
   "metadata": {},
   "source": [
    "Nem toda variável de resposta é contínua, portanto nem sempre uma regressão linear será o modelo correto em todas as ocasiões.  \n",
    "Uma classe geral de modelos chamada GLM (Generalizad Linear Models, ou modelos lineares generalizados) pode dar conta desse tipo de dado."
   ]
  },
  {
   "cell_type": "markdown",
   "metadata": {},
   "source": [
    "13.2 Regressão logística"
   ]
  },
  {
   "cell_type": "markdown",
   "metadata": {},
   "source": [
    "Regressão logística é muito usada para uma variável de resposta binária."
   ]
  },
  {
   "cell_type": "code",
   "execution_count": 823,
   "metadata": {},
   "outputs": [
    {
     "name": "stdout",
     "output_type": "stream",
     "text": [
      "Index(['Acres', 'FamilyIncome', 'FamilyType', 'NumBedrooms', 'NumChildren',\n",
      "       'NumPeople', 'NumRooms', 'NumUnits', 'NumVehicles', 'NumWorkers',\n",
      "       'OwnRent', 'YearBuilt', 'HouseCosts', 'ElectricBill', 'FoodStamp',\n",
      "       'HeatingFuel', 'Insurance', 'Language'],\n",
      "      dtype='object')\n"
     ]
    }
   ],
   "source": [
    "import pandas as pd\n",
    "\n",
    "acs = pd.read_csv('../../data/acs_ny.csv')\n",
    "print(acs.columns)"
   ]
  },
  {
   "cell_type": "code",
   "execution_count": 824,
   "metadata": {},
   "outputs": [
    {
     "name": "stdout",
     "output_type": "stream",
     "text": [
      "  Acres  FamilyIncome   FamilyType  NumBedrooms  NumChildren  NumPeople  \\\n",
      "0  1-10           150      Married            4            1          3   \n",
      "1  1-10           180  Female Head            3            2          4   \n",
      "2  1-10           280  Female Head            4            0          2   \n",
      "3  1-10           330  Female Head            2            1          2   \n",
      "4  1-10           330    Male Head            3            1          2   \n",
      "\n",
      "   NumRooms         NumUnits  NumVehicles  NumWorkers   OwnRent    YearBuilt  \\\n",
      "0         9  Single detached            1           0  Mortgage    1950-1959   \n",
      "1         6  Single detached            2           0    Rented  Before 1939   \n",
      "2         8  Single detached            3           1  Mortgage    2000-2004   \n",
      "3         4  Single detached            1           0    Rented    1950-1959   \n",
      "4         5  Single attached            1           0  Mortgage  Before 1939   \n",
      "\n",
      "   HouseCosts  ElectricBill FoodStamp HeatingFuel  Insurance        Language  \n",
      "0        1800            90        No         Gas       2500         English  \n",
      "1         850            90        No         Oil          0         English  \n",
      "2        2600           260        No         Oil       6600  Other European  \n",
      "3        1800           140        No         Oil          0         English  \n",
      "4         860           150        No         Gas        660         Spanish  \n"
     ]
    }
   ],
   "source": [
    "print(acs.head())"
   ]
  },
  {
   "cell_type": "markdown",
   "metadata": {},
   "source": [
    "Para modelar esse dados, devemos inicialmente criar uma variável de resposta binária. Nesse caso a variável FamilyIncome."
   ]
  },
  {
   "cell_type": "code",
   "execution_count": 825,
   "metadata": {},
   "outputs": [
    {
     "name": "stdout",
     "output_type": "stream",
     "text": [
      "ge150k_i\n",
      "0    18294\n",
      "1     4451\n",
      "Name: count, dtype: int64\n"
     ]
    }
   ],
   "source": [
    "acs['ge150k'] = pd.cut(acs['FamilyIncome'], #refencia a coluna que será usada\n",
    "                       [0,150000, acs['FamilyIncome'].max()], #cria dois intervalos, de 0 à 150000 e de 150000 até o valor máximo da coluna\n",
    "                       labels=[0, 1]) #atribuí um rotulo a cada intervalo 0 = renda até 150000, 1 = renda acima de 150000\n",
    "\n",
    "acs['ge150k_i'] = acs['ge150k'].astype('int64') #converte os rotulos para valores inteiros, se não fizesemos isso a coluna sería category\n",
    "\n",
    "print(acs['ge150k_i'].value_counts())"
   ]
  },
  {
   "cell_type": "markdown",
   "metadata": {},
   "source": [
    "Ao fazer isso, criamos uma variável binária"
   ]
  },
  {
   "cell_type": "code",
   "execution_count": 826,
   "metadata": {},
   "outputs": [
    {
     "name": "stdout",
     "output_type": "stream",
     "text": [
      "<class 'pandas.core.frame.DataFrame'>\n",
      "RangeIndex: 22745 entries, 0 to 22744\n",
      "Data columns (total 20 columns):\n",
      " #   Column        Non-Null Count  Dtype   \n",
      "---  ------        --------------  -----   \n",
      " 0   Acres         22745 non-null  object  \n",
      " 1   FamilyIncome  22745 non-null  int64   \n",
      " 2   FamilyType    22745 non-null  object  \n",
      " 3   NumBedrooms   22745 non-null  int64   \n",
      " 4   NumChildren   22745 non-null  int64   \n",
      " 5   NumPeople     22745 non-null  int64   \n",
      " 6   NumRooms      22745 non-null  int64   \n",
      " 7   NumUnits      22745 non-null  object  \n",
      " 8   NumVehicles   22745 non-null  int64   \n",
      " 9   NumWorkers    22745 non-null  int64   \n",
      " 10  OwnRent       22745 non-null  object  \n",
      " 11  YearBuilt     22745 non-null  object  \n",
      " 12  HouseCosts    22745 non-null  int64   \n",
      " 13  ElectricBill  22745 non-null  int64   \n",
      " 14  FoodStamp     22745 non-null  object  \n",
      " 15  HeatingFuel   22722 non-null  object  \n",
      " 16  Insurance     22745 non-null  int64   \n",
      " 17  Language      22745 non-null  object  \n",
      " 18  ge150k        22745 non-null  category\n",
      " 19  ge150k_i      22745 non-null  int64   \n",
      "dtypes: category(1), int64(11), object(8)\n",
      "memory usage: 3.3+ MB\n"
     ]
    }
   ],
   "source": [
    "acs.info()"
   ]
  },
  {
   "cell_type": "markdown",
   "metadata": {},
   "source": [
    "13.2.1 Usando a statsmodels"
   ]
  },
  {
   "cell_type": "markdown",
   "metadata": {},
   "source": [
    "Para fazer a regressão logística, podemos usar a regressão logit. A sintaxe é a mesma usada para regressão linear."
   ]
  },
  {
   "cell_type": "code",
   "execution_count": 827,
   "metadata": {},
   "outputs": [
    {
     "name": "stdout",
     "output_type": "stream",
     "text": [
      "Optimization terminated successfully.\n",
      "         Current function value: 0.391651\n",
      "         Iterations 7\n"
     ]
    }
   ],
   "source": [
    "import statsmodels.formula.api as smf \n",
    "\n",
    "model = smf.logit('ge150k_i ~ HouseCosts + NumWorkers + OwnRent + NumBedrooms + FamilyType',\n",
    "                  data=acs)\n",
    "results = model.fit()"
   ]
  },
  {
   "cell_type": "code",
   "execution_count": 828,
   "metadata": {},
   "outputs": [
    {
     "name": "stdout",
     "output_type": "stream",
     "text": [
      "                           Logit Regression Results                           \n",
      "==============================================================================\n",
      "Dep. Variable:               ge150k_i   No. Observations:                22745\n",
      "Model:                          Logit   Df Residuals:                    22737\n",
      "Method:                           MLE   Df Model:                            7\n",
      "Date:                Sun, 30 Jun 2024   Pseudo R-squ.:                  0.2078\n",
      "Time:                        17:46:40   Log-Likelihood:                -8908.1\n",
      "converged:                       True   LL-Null:                       -11244.\n",
      "Covariance Type:            nonrobust   LLR p-value:                     0.000\n",
      "===========================================================================================\n",
      "                              coef    std err          z      P>|z|      [0.025      0.975]\n",
      "-------------------------------------------------------------------------------------------\n",
      "Intercept                  -5.8081      0.120    -48.456      0.000      -6.043      -5.573\n",
      "OwnRent[T.Outright]         1.8276      0.208      8.782      0.000       1.420       2.236\n",
      "OwnRent[T.Rented]          -0.8763      0.101     -8.647      0.000      -1.075      -0.678\n",
      "FamilyType[T.Male Head]     0.2874      0.150      1.913      0.056      -0.007       0.582\n",
      "FamilyType[T.Married]       1.3877      0.088     15.781      0.000       1.215       1.560\n",
      "HouseCosts                  0.0007   1.72e-05     42.453      0.000       0.001       0.001\n",
      "NumWorkers                  0.5873      0.026     22.393      0.000       0.536       0.639\n",
      "NumBedrooms                 0.2365      0.017     13.985      0.000       0.203       0.270\n",
      "===========================================================================================\n"
     ]
    }
   ],
   "source": [
    "print(results.summary())"
   ]
  },
  {
   "cell_type": "markdown",
   "metadata": {},
   "source": [
    "Interpretar os dados de uma regessão logística não é tão simples quanto interpretar os dados de uma regressão linear. Em uma regressão logística e outros modelos lineares generalizados, há uma transformação na forma de uma função de link que deve ser desfeita para interpretar o resultado."
   ]
  },
  {
   "cell_type": "markdown",
   "metadata": {},
   "source": [
    "Para interpretar o nosso modelo logístico precisamos exponenciar os resultados."
   ]
  },
  {
   "cell_type": "code",
   "execution_count": 829,
   "metadata": {},
   "outputs": [
    {
     "name": "stdout",
     "output_type": "stream",
     "text": [
      "Intercept                  0.003003\n",
      "OwnRent[T.Outright]        6.219147\n",
      "OwnRent[T.Rented]          0.416310\n",
      "FamilyType[T.Male Head]    1.332901\n",
      "FamilyType[T.Married]      4.005636\n",
      "HouseCosts                 1.000731\n",
      "NumWorkers                 1.799117\n",
      "NumBedrooms                1.266852\n",
      "dtype: float64\n"
     ]
    }
   ],
   "source": [
    "import numpy as np\n",
    "\n",
    "odds_ratios = np.exp(results.params)\n",
    "print(odds_ratios)"
   ]
  },
  {
   "cell_type": "markdown",
   "metadata": {},
   "source": [
    "Os valores estão interpretados como razões de probabilidades. Podemos pensar em uma razão de possibilidades como quantas vezes os resultado será \"provável\".   \n",
    "Exemplo: podemos dizer que a cada incremento de unidade em NumBedrooms as chances de FamilyIncome ser maior que 150000 aumenta em 1,27 vezes.  \n",
    "Uma interpretasção semelhante pode ser usada em variáveis categorizadas."
   ]
  },
  {
   "cell_type": "code",
   "execution_count": 830,
   "metadata": {},
   "outputs": [
    {
     "name": "stdout",
     "output_type": "stream",
     "text": [
      "['Mortgage' 'Rented' 'Outright']\n"
     ]
    }
   ],
   "source": [
    "#os três valores de ownrent\n",
    "print(acs.OwnRent.unique())"
   ]
  },
  {
   "cell_type": "markdown",
   "metadata": {},
   "source": [
    "Um exemplo de interpretação seria dizer que as chaces de familyIncome ser maior que 150000 aumenta 1,82 vezes quando a casa é própria em comparação com estar financiada."
   ]
  },
  {
   "cell_type": "markdown",
   "metadata": {},
   "source": [
    "13.2.2 Usando sklearn"
   ]
  },
  {
   "cell_type": "markdown",
   "metadata": {},
   "source": [
    "Lembre-se, ao usar sklear as variáveis dummy precisam ser criadas manualmente."
   ]
  },
  {
   "cell_type": "code",
   "execution_count": 831,
   "metadata": {},
   "outputs": [],
   "source": [
    "predictors = pd.get_dummies(\n",
    "    acs[['HouseCosts', 'NumWorkers', 'OwnRent', 'NumBedrooms', 'FamilyType']],\n",
    "    drop_first=True\n",
    ")"
   ]
  },
  {
   "cell_type": "code",
   "execution_count": 832,
   "metadata": {},
   "outputs": [],
   "source": [
    "from sklearn import linear_model\n",
    "\n",
    "lr = linear_model.LogisticRegression(solver='liblinear', max_iter=900)"
   ]
  },
  {
   "cell_type": "code",
   "execution_count": 833,
   "metadata": {},
   "outputs": [
    {
     "name": "stdout",
     "output_type": "stream",
     "text": [
      "[[ 7.11126999e-04  5.61096857e-01  2.22827789e-01  1.20384554e+00\n",
      "  -7.16411237e-01  3.42249999e-01  1.22562424e+00]] \n",
      "\n",
      "[-5.51245127]\n"
     ]
    }
   ],
   "source": [
    "#adequação de nosso modelo pode ser feita dp mesmo modo que na regressão linear.\n",
    "\n",
    "results = lr.fit(X=predictors, y=acs['ge150k_i'])\n",
    "\n",
    "#obtemos os coeficientes e o intercepto do mesmo modo\n",
    "print(results.coef_, '\\n')\n",
    "print(results.intercept_)"
   ]
  },
  {
   "cell_type": "code",
   "execution_count": 834,
   "metadata": {},
   "outputs": [
    {
     "name": "stdout",
     "output_type": "stream",
     "text": [
      "                          coef\n",
      "intercept            -5.512451\n",
      "HouseCosts            0.000711\n",
      "NumWorkers            0.561097\n",
      "NumBedrooms           0.222828\n",
      "OwnRent_Outright      1.203846\n",
      "OwnRent_Rented       -0.716411\n",
      "FamilyType_Male Head  0.342250\n",
      "FamilyType_Married    1.225624\n"
     ]
    }
   ],
   "source": [
    "#podemos exibir os resultados de forma mais atraente\n",
    "\n",
    "values = np.append(results.intercept_, results.coef_)\n",
    "\n",
    "#obtem os nomes dos valores\n",
    "names = np.append('intercept', predictors.columns)\n",
    "\n",
    "#coloca tudo em um dataframe com rótulos\n",
    "results = pd.DataFrame(values, index = names,\n",
    "                       columns=['coef'] # os colchetes são necessários nesse caso\n",
    "                       )\n",
    "print(results)"
   ]
  },
  {
   "cell_type": "code",
   "execution_count": 835,
   "metadata": {},
   "outputs": [
    {
     "name": "stdout",
     "output_type": "stream",
     "text": [
      "                          coef        or\n",
      "intercept            -5.512451  0.004036\n",
      "HouseCosts            0.000711  1.000711\n",
      "NumWorkers            0.561097  1.752594\n",
      "NumBedrooms           0.222828  1.249605\n",
      "OwnRent_Outright      1.203846  3.332909\n",
      "OwnRent_Rented       -0.716411  0.488502\n",
      "FamilyType_Male Head  0.342250  1.408112\n",
      "FamilyType_Married    1.225624  3.406292\n"
     ]
    }
   ],
   "source": [
    "#Para interpretar nossos coeficientes precisamos exponenciar nossos dados\n",
    "results['or'] = np.exp(results['coef'])\n",
    "print(results)"
   ]
  },
  {
   "cell_type": "markdown",
   "metadata": {},
   "source": [
    "13.3 Regressão de Poisson"
   ]
  },
  {
   "cell_type": "markdown",
   "metadata": {},
   "source": [
    "A regressão de Poisson é usada para modelar contagens ou taxas de eventos que ocorrem de forma independente."
   ]
  },
  {
   "cell_type": "markdown",
   "metadata": {},
   "source": [
    "A regressão de poisson é feita quando nossa variável de resposta possui dados de contador, nos dados acs temos a variável NumChildren"
   ]
  },
  {
   "cell_type": "markdown",
   "metadata": {},
   "source": [
    "13.3.1 Usando a statsmodels"
   ]
  },
  {
   "cell_type": "markdown",
   "metadata": {},
   "source": [
    "Podemos fazer ussa regressão usando a função poisson da statsmodels"
   ]
  },
  {
   "cell_type": "markdown",
   "metadata": {},
   "source": [
    "Precisamos antes escalar os dados"
   ]
  },
  {
   "cell_type": "code",
   "execution_count": 836,
   "metadata": {},
   "outputs": [
    {
     "name": "stdout",
     "output_type": "stream",
     "text": [
      "Optimization terminated successfully.\n",
      "         Current function value: 1.348824\n",
      "         Iterations 7\n"
     ]
    }
   ],
   "source": [
    "from sklearn.preprocessing import StandardScaler\n",
    "\n",
    "# Selecionar as colunas numéricas para escalonamento\n",
    "columns_to_scale = ['FamilyIncome']\n",
    "\n",
    "# Criar um scaler e ajustar e transformar os dados\n",
    "scaler = StandardScaler()\n",
    "acs[columns_to_scale] = scaler.fit_transform(acs[columns_to_scale])\n",
    "\n",
    "# Ajustar o modelo novamente\n",
    "results = smf.poisson('NumChildren ~ FamilyIncome + FamilyType + OwnRent', data=acs).fit()"
   ]
  },
  {
   "cell_type": "code",
   "execution_count": 837,
   "metadata": {},
   "outputs": [
    {
     "name": "stdout",
     "output_type": "stream",
     "text": [
      "                          Poisson Regression Results                          \n",
      "==============================================================================\n",
      "Dep. Variable:            NumChildren   No. Observations:                22745\n",
      "Model:                        Poisson   Df Residuals:                    22739\n",
      "Method:                           MLE   Df Model:                            5\n",
      "Date:                Sun, 30 Jun 2024   Pseudo R-squ.:                0.009627\n",
      "Time:                        17:46:41   Log-Likelihood:                -30679.\n",
      "converged:                       True   LL-Null:                       -30977.\n",
      "Covariance Type:            nonrobust   LLR p-value:                1.190e-126\n",
      "===========================================================================================\n",
      "                              coef    std err          z      P>|z|      [0.025      0.975]\n",
      "-------------------------------------------------------------------------------------------\n",
      "Intercept                  -0.2659      0.021    -12.966      0.000      -0.306      -0.226\n",
      "FamilyType[T.Male Head]    -0.0630      0.038     -1.637      0.102      -0.138       0.012\n",
      "FamilyType[T.Married]       0.1440      0.021      6.707      0.000       0.102       0.186\n",
      "OwnRent[T.Outright]        -1.9737      0.230     -8.599      0.000      -2.424      -1.524\n",
      "OwnRent[T.Rented]           0.4086      0.021     19.772      0.000       0.368       0.449\n",
      "FamilyIncome                0.0544      0.007      8.247      0.000       0.042       0.067\n",
      "===========================================================================================\n"
     ]
    }
   ],
   "source": [
    "print(results.summary())"
   ]
  },
  {
   "cell_type": "markdown",
   "metadata": {},
   "source": [
    "A vantagem de usar modelo linear generalizado é que os únicos dados que devem ser alterados são a family do modelo para a adequação e a função link que transforma nossos dados."
   ]
  },
  {
   "cell_type": "markdown",
   "metadata": {},
   "source": [
    "Podemos usar a função gml para fazer todos os mesmos cálculos."
   ]
  },
  {
   "cell_type": "code",
   "execution_count": 838,
   "metadata": {},
   "outputs": [],
   "source": [
    "import statsmodels\n",
    "import statsmodels.api as sm\n",
    "import statsmodels.formula.api as smf\n"
   ]
  },
  {
   "cell_type": "code",
   "execution_count": 839,
   "metadata": {},
   "outputs": [],
   "source": [
    "model = smf.glm(\n",
    "    'NumChildren ~ FamilyIncome + FamilyType + OwnRent',\n",
    "    data=acs,\n",
    "    #precisamos criar uma instância da classe sm.genmod.families.links.log antes de passá-la para o argumento family.\n",
    "    family=sm.families.Poisson(link=sm.families.links.Log())\n",
    ")"
   ]
  },
  {
   "cell_type": "code",
   "execution_count": 840,
   "metadata": {},
   "outputs": [
    {
     "name": "stdout",
     "output_type": "stream",
     "text": [
      "                 Generalized Linear Model Regression Results                  \n",
      "==============================================================================\n",
      "Dep. Variable:            NumChildren   No. Observations:                22745\n",
      "Model:                            GLM   Df Residuals:                    22739\n",
      "Model Family:                 Poisson   Df Model:                            5\n",
      "Link Function:                    Log   Scale:                          1.0000\n",
      "Method:                          IRLS   Log-Likelihood:                -30679.\n",
      "Date:                Sun, 30 Jun 2024   Deviance:                       34643.\n",
      "Time:                        17:46:41   Pearson chi2:                 3.34e+04\n",
      "No. Iterations:                     6   Pseudo R-squ. (CS):            0.02588\n",
      "Covariance Type:            nonrobust                                         \n",
      "===========================================================================================\n",
      "                              coef    std err          z      P>|z|      [0.025      0.975]\n",
      "-------------------------------------------------------------------------------------------\n",
      "Intercept                  -0.2659      0.021    -12.966      0.000      -0.306      -0.226\n",
      "FamilyType[T.Male Head]    -0.0630      0.038     -1.637      0.102      -0.138       0.012\n",
      "FamilyType[T.Married]       0.1440      0.021      6.707      0.000       0.102       0.186\n",
      "OwnRent[T.Outright]        -1.9737      0.230     -8.599      0.000      -2.424      -1.524\n",
      "OwnRent[T.Rented]           0.4086      0.021     19.772      0.000       0.368       0.449\n",
      "FamilyIncome                0.0544      0.007      8.247      0.000       0.042       0.067\n",
      "===========================================================================================\n"
     ]
    }
   ],
   "source": [
    "results = model.fit()\n",
    "print(results.summary())"
   ]
  },
  {
   "cell_type": "markdown",
   "metadata": {},
   "source": [
    "13.3.2 Regressão binominal negativa para superdispersão"
   ]
  },
  {
   "cell_type": "markdown",
   "metadata": {},
   "source": [
    "Se nossas suposições para regressão de Poisson forem violadas - isto é, se nossos dadods tiverem superdispersão -, podemos fazer uma regressão binominal negativa."
   ]
  },
  {
   "cell_type": "code",
   "execution_count": 841,
   "metadata": {},
   "outputs": [
    {
     "name": "stdout",
     "output_type": "stream",
     "text": [
      "                 Generalized Linear Model Regression Results                  \n",
      "==============================================================================\n",
      "Dep. Variable:            NumChildren   No. Observations:                22745\n",
      "Model:                            GLM   Df Residuals:                    22739\n",
      "Model Family:        NegativeBinomial   Df Model:                            5\n",
      "Link Function:                    Log   Scale:                          1.0000\n",
      "Method:                          IRLS   Log-Likelihood:                -29749.\n",
      "Date:                Sun, 30 Jun 2024   Deviance:                       20731.\n",
      "Time:                        17:46:42   Pearson chi2:                 1.77e+04\n",
      "No. Iterations:                     6   Pseudo R-squ. (CS):            0.01445\n",
      "Covariance Type:            nonrobust                                         \n",
      "===========================================================================================\n",
      "                              coef    std err          z      P>|z|      [0.025      0.975]\n",
      "-------------------------------------------------------------------------------------------\n",
      "Intercept                  -0.2749      0.028     -9.847      0.000      -0.330      -0.220\n",
      "FamilyType[T.Male Head]    -0.0468      0.052     -0.905      0.365      -0.148       0.055\n",
      "FamilyType[T.Married]       0.1529      0.029      5.200      0.000       0.095       0.211\n",
      "OwnRent[T.Outright]        -1.9737      0.243     -8.113      0.000      -2.450      -1.497\n",
      "OwnRent[T.Rented]           0.4164      0.030     13.754      0.000       0.357       0.476\n",
      "FamilyIncome                0.0542      0.010      5.652      0.000       0.035       0.073\n",
      "===========================================================================================\n"
     ]
    }
   ],
   "source": [
    "model = smf.glm(\n",
    "    'NumChildren ~ FamilyIncome + FamilyType + OwnRent',\n",
    "    data=acs,\n",
    "    family=sm.families.NegativeBinomial(alpha=1.0, link=sm.genmod.families.links.Log())\n",
    ")\n",
    "results = model.fit()\n",
    "\n",
    "print(results.summary())"
   ]
  },
  {
   "cell_type": "markdown",
   "metadata": {},
   "source": [
    "13.4 Outros modelos lineares generalizados"
   ]
  },
  {
   "cell_type": "markdown",
   "metadata": {},
   "source": [
    "Na documentação oficial para GLM na statsmdoels lista as várias famílias que podem ser passadas como parâmetro para glm"
   ]
  },
  {
   "cell_type": "markdown",
   "metadata": {},
   "source": [
    "13.5 Análise de sobrevivêmcia"
   ]
  },
  {
   "cell_type": "markdown",
   "metadata": {},
   "source": [
    "Tecnicamente a análise de sobrevivencia não é um método de regressão, porém ela é usada para a modelagem do tempo de determinado evento.   \n",
    "Por exemplo, essa abordagem poderia ser usada em uma pesquisa médica para analisar se um tratamento poderia evitar um evento adverbio sério melhor que um tratamento padrão ou diferente."
   ]
  },
  {
   "cell_type": "markdown",
   "metadata": {},
   "source": [
    "A análise de sobrevivência é feita com a biblioteca lifelines. Nesse caso usaremos os dados bladder do pacote survival de R."
   ]
  },
  {
   "cell_type": "code",
   "execution_count": 842,
   "metadata": {},
   "outputs": [
    {
     "name": "stdout",
     "output_type": "stream",
     "text": [
      "   id  rx  number  size  stop  event  enum\n",
      "0   1   1       1     3     1      0     1\n",
      "1   1   1       1     3     1      0     2\n",
      "2   1   1       1     3     1      0     3\n",
      "3   1   1       1     3     1      0     4\n",
      "4   2   1       2     1     4      0     1\n"
     ]
    }
   ],
   "source": [
    "bladder = pd.read_csv('../../data/bladder.csv')\n",
    "print(bladder.head())"
   ]
  },
  {
   "cell_type": "code",
   "execution_count": 843,
   "metadata": {},
   "outputs": [
    {
     "name": "stdout",
     "output_type": "stream",
     "text": [
      "rx\n",
      "1    188\n",
      "2    152\n",
      "Name: count, dtype: int64\n"
     ]
    }
   ],
   "source": [
    "#aqui os contadores dos diferentes tratamentos\n",
    "print(bladder['rx'].value_counts())"
   ]
  },
  {
   "cell_type": "code",
   "execution_count": 844,
   "metadata": {},
   "outputs": [],
   "source": [
    "from lifelines import KaplanMeierFitter"
   ]
  },
  {
   "cell_type": "markdown",
   "metadata": {},
   "source": [
    "A variável stop informa quando um evento ocorre, enquanto a variável event sinaliza se o evnto de interesse aconteceu.   \n",
    "A variável event pode ser 0 porque as pessoas podem deixar de fazer o retorno. Conforme observamos antes esse tipo de dado é chamado de censurado"
   ]
  },
  {
   "cell_type": "code",
   "execution_count": 845,
   "metadata": {},
   "outputs": [
    {
     "data": {
      "text/plain": [
       "<lifelines.KaplanMeierFitter:\"KM_estimate\", fitted with 340 total observations, 228 right-censored observations>"
      ]
     },
     "execution_count": 845,
     "metadata": {},
     "output_type": "execute_result"
    }
   ],
   "source": [
    "kmf = KaplanMeierFitter()\n",
    "kmf.fit(bladder['stop'],event_observed=bladder['event'])"
   ]
  },
  {
   "cell_type": "markdown",
   "metadata": {},
   "source": [
    "Podemos plotar a curva de sobrevivencia"
   ]
  },
  {
   "cell_type": "code",
   "execution_count": 846,
   "metadata": {},
   "outputs": [
    {
     "data": {
      "image/png": "[encoded data removed]",
      "text/plain": [
       "<Figure size 640x480 with 1 Axes>"
      ]
     },
     "metadata": {},
     "output_type": "display_data"
    }
   ],
   "source": [
    "import matplotlib.pyplot as plt \n",
    "\n",
    "fig, ax = plt.subplots()\n",
    "ax = kmf.survival_function_.plot(ax=ax)\n",
    "ax.set_title('Survival function of political regimes')\n",
    "plt.show()"
   ]
  },
  {
   "cell_type": "code",
   "execution_count": 847,
   "metadata": {},
   "outputs": [
    {
     "data": {
      "image/png": "[encoded data removed]",
      "text/plain": [
       "<Figure size 640x480 with 1 Axes>"
      ]
     },
     "metadata": {},
     "output_type": "display_data"
    }
   ],
   "source": [
    "#podemos exibir o intervalo de confiança da nossa curva de sobrevivência\n",
    "\n",
    "fig, ax = plt.subplots()\n",
    "ax = kmf.plot(ax=ax)\n",
    "ax.set_title('Survival with confidence intervals')\n",
    "plt.show()"
   ]
  },
  {
   "cell_type": "markdown",
   "metadata": {},
   "source": [
    "Plotamos apenas a curva de sobrevivencia, podemos fazer um modelo para prever a taxa de sobrevivência.  \n",
    "Um modelo desse tipo chama-se modelo de risco proporcional de Cox (Cox proportional hazards model)."
   ]
  },
  {
   "cell_type": "code",
   "execution_count": 848,
   "metadata": {},
   "outputs": [],
   "source": [
    "from lifelines import CoxPHFitter\n",
    "\n",
    "cph = CoxPHFitter()"
   ]
  },
  {
   "cell_type": "code",
   "execution_count": 849,
   "metadata": {},
   "outputs": [
    {
     "data": {
      "text/plain": [
       "<lifelines.CoxPHFitter: fitted with 340 total observations, 228 right-censored observations>"
      ]
     },
     "execution_count": 849,
     "metadata": {},
     "output_type": "execute_result"
    }
   ],
   "source": [
    "#passamos então as colunas a serem usadas como preditoras\n",
    "cph_bladder_df = bladder[['rx', 'number', 'size',\n",
    "                          'enum', 'stop', 'event']]\n",
    "cph.fit(cph_bladder_df, duration_col='stop', event_col='event')"
   ]
  },
  {
   "cell_type": "code",
   "execution_count": 850,
   "metadata": {},
   "outputs": [
    {
     "data": {
      "text/html": [
       "<div>\n",
       "<style scoped>\n",
       "    .dataframe tbody tr th:only-of-type {\n",
       "        vertical-align: middle;\n",
       "    }\n",
       "\n",
       "    .dataframe tbody tr th {\n",
       "        vertical-align: top;\n",
       "    }\n",
       "\n",
       "    .dataframe thead th {\n",
       "        text-align: right;\n",
       "    }\n",
       "</style>\n",
       "<table border=\"1\" class=\"dataframe\">\n",
       "  <tbody>\n",
       "    <tr>\n",
       "      <th>model</th>\n",
       "      <td>lifelines.CoxPHFitter</td>\n",
       "    </tr>\n",
       "    <tr>\n",
       "      <th>duration col</th>\n",
       "      <td>'stop'</td>\n",
       "    </tr>\n",
       "    <tr>\n",
       "      <th>event col</th>\n",
       "      <td>'event'</td>\n",
       "    </tr>\n",
       "    <tr>\n",
       "      <th>baseline estimation</th>\n",
       "      <td>breslow</td>\n",
       "    </tr>\n",
       "    <tr>\n",
       "      <th>number of observations</th>\n",
       "      <td>340</td>\n",
       "    </tr>\n",
       "    <tr>\n",
       "      <th>number of events observed</th>\n",
       "      <td>112</td>\n",
       "    </tr>\n",
       "    <tr>\n",
       "      <th>partial log-likelihood</th>\n",
       "      <td>-565.66</td>\n",
       "    </tr>\n",
       "    <tr>\n",
       "      <th>time fit was run</th>\n",
       "      <td>2024-06-30 20:46:42 UTC</td>\n",
       "    </tr>\n",
       "  </tbody>\n",
       "</table>\n",
       "</div><table border=\"1\" class=\"dataframe\">\n",
       "  <thead>\n",
       "    <tr style=\"text-align: right;\">\n",
       "      <th style=\"min-width: 12px;\"></th>\n",
       "      <th style=\"min-width: 12px;\">coef</th>\n",
       "      <th style=\"min-width: 12px;\">exp(coef)</th>\n",
       "      <th style=\"min-width: 12px;\">se(coef)</th>\n",
       "      <th style=\"min-width: 12px;\">coef lower 95%</th>\n",
       "      <th style=\"min-width: 12px;\">coef upper 95%</th>\n",
       "      <th style=\"min-width: 12px;\">exp(coef) lower 95%</th>\n",
       "      <th style=\"min-width: 12px;\">exp(coef) upper 95%</th>\n",
       "      <th style=\"min-width: 12px;\">cmp to</th>\n",
       "      <th style=\"min-width: 12px;\">z</th>\n",
       "      <th style=\"min-width: 12px;\">p</th>\n",
       "      <th style=\"min-width: 12px;\">-log2(p)</th>\n",
       "    </tr>\n",
       "  </thead>\n",
       "  <tbody>\n",
       "    <tr>\n",
       "      <th>rx</th>\n",
       "      <td>-0.60</td>\n",
       "      <td>0.55</td>\n",
       "      <td>0.20</td>\n",
       "      <td>-0.99</td>\n",
       "      <td>-0.20</td>\n",
       "      <td>0.37</td>\n",
       "      <td>0.82</td>\n",
       "      <td>0.00</td>\n",
       "      <td>-2.97</td>\n",
       "      <td>&lt;0.005</td>\n",
       "      <td>8.41</td>\n",
       "    </tr>\n",
       "    <tr>\n",
       "      <th>number</th>\n",
       "      <td>0.22</td>\n",
       "      <td>1.24</td>\n",
       "      <td>0.05</td>\n",
       "      <td>0.13</td>\n",
       "      <td>0.31</td>\n",
       "      <td>1.13</td>\n",
       "      <td>1.36</td>\n",
       "      <td>0.00</td>\n",
       "      <td>4.68</td>\n",
       "      <td>&lt;0.005</td>\n",
       "      <td>18.38</td>\n",
       "    </tr>\n",
       "    <tr>\n",
       "      <th>size</th>\n",
       "      <td>-0.06</td>\n",
       "      <td>0.94</td>\n",
       "      <td>0.07</td>\n",
       "      <td>-0.20</td>\n",
       "      <td>0.08</td>\n",
       "      <td>0.82</td>\n",
       "      <td>1.09</td>\n",
       "      <td>0.00</td>\n",
       "      <td>-0.80</td>\n",
       "      <td>0.42</td>\n",
       "      <td>1.24</td>\n",
       "    </tr>\n",
       "    <tr>\n",
       "      <th>enum</th>\n",
       "      <td>-0.60</td>\n",
       "      <td>0.55</td>\n",
       "      <td>0.09</td>\n",
       "      <td>-0.79</td>\n",
       "      <td>-0.42</td>\n",
       "      <td>0.45</td>\n",
       "      <td>0.66</td>\n",
       "      <td>0.00</td>\n",
       "      <td>-6.42</td>\n",
       "      <td>&lt;0.005</td>\n",
       "      <td>32.80</td>\n",
       "    </tr>\n",
       "  </tbody>\n",
       "</table><br><div>\n",
       "<style scoped>\n",
       "    .dataframe tbody tr th:only-of-type {\n",
       "        vertical-align: middle;\n",
       "    }\n",
       "\n",
       "    .dataframe tbody tr th {\n",
       "        vertical-align: top;\n",
       "    }\n",
       "\n",
       "    .dataframe thead th {\n",
       "        text-align: right;\n",
       "    }\n",
       "</style>\n",
       "<table border=\"1\" class=\"dataframe\">\n",
       "  <tbody>\n",
       "    <tr>\n",
       "      <th>Concordance</th>\n",
       "      <td>0.75</td>\n",
       "    </tr>\n",
       "    <tr>\n",
       "      <th>Partial AIC</th>\n",
       "      <td>1139.32</td>\n",
       "    </tr>\n",
       "    <tr>\n",
       "      <th>log-likelihood ratio test</th>\n",
       "      <td>67.21 on 4 df</td>\n",
       "    </tr>\n",
       "    <tr>\n",
       "      <th>-log2(p) of ll-ratio test</th>\n",
       "      <td>43.37</td>\n",
       "    </tr>\n",
       "  </tbody>\n",
       "</table>\n",
       "</div>"
      ],
      "text/latex": [
       "\\begin{tabular}{lrrrrrrrrrrr}\n",
       " & coef & exp(coef) & se(coef) & coef lower 95% & coef upper 95% & exp(coef) lower 95% & exp(coef) upper 95% & cmp to & z & p & -log2(p) \\\\\n",
       "covariate &  &  &  &  &  &  &  &  &  &  &  \\\\\n",
       "rx & -0.60 & 0.55 & 0.20 & -0.99 & -0.20 & 0.37 & 0.82 & 0.00 & -2.97 & 0.00 & 8.41 \\\\\n",
       "number & 0.22 & 1.24 & 0.05 & 0.13 & 0.31 & 1.13 & 1.36 & 0.00 & 4.68 & 0.00 & 18.38 \\\\\n",
       "size & -0.06 & 0.94 & 0.07 & -0.20 & 0.08 & 0.82 & 1.09 & 0.00 & -0.80 & 0.42 & 1.24 \\\\\n",
       "enum & -0.60 & 0.55 & 0.09 & -0.79 & -0.42 & 0.45 & 0.66 & 0.00 & -6.42 & 0.00 & 32.80 \\\\\n",
       "\\end{tabular}\n"
      ],
      "text/plain": [
       "<lifelines.CoxPHFitter: fitted with 340 total observations, 228 right-censored observations>\n",
       "             duration col = 'stop'\n",
       "                event col = 'event'\n",
       "      baseline estimation = breslow\n",
       "   number of observations = 340\n",
       "number of events observed = 112\n",
       "   partial log-likelihood = -565.66\n",
       "         time fit was run = 2024-06-30 20:46:42 UTC\n",
       "\n",
       "---\n",
       "           coef exp(coef)  se(coef)  coef lower 95%  coef upper 95% exp(coef) lower 95% exp(coef) upper 95%\n",
       "covariate                                                                                                  \n",
       "rx        -0.60      0.55      0.20           -0.99           -0.20                0.37                0.82\n",
       "number     0.22      1.24      0.05            0.13            0.31                1.13                1.36\n",
       "size      -0.06      0.94      0.07           -0.20            0.08                0.82                1.09\n",
       "enum      -0.60      0.55      0.09           -0.79           -0.42                0.45                0.66\n",
       "\n",
       "           cmp to     z      p  -log2(p)\n",
       "covariate                               \n",
       "rx           0.00 -2.97 <0.005      8.41\n",
       "number       0.00  4.68 <0.005     18.38\n",
       "size         0.00 -0.80   0.42      1.24\n",
       "enum         0.00 -6.42 <0.005     32.80\n",
       "---\n",
       "Concordance = 0.75\n",
       "Partial AIC = 1139.32\n",
       "log-likelihood ratio test = 67.21 on 4 df\n",
       "-log2(p) of ll-ratio test = 43.37"
      ]
     },
     "metadata": {},
     "output_type": "display_data"
    },
    {
     "name": "stdout",
     "output_type": "stream",
     "text": [
      "None\n"
     ]
    }
   ],
   "source": [
    "#agora podemos usar o método print_sumarry para exibir os coeficientes.\n",
    "print(cph.print_summary())"
   ]
  },
  {
   "cell_type": "markdown",
   "metadata": {},
   "source": [
    "13.5.1 Testando as suposições do modelo de Cox"
   ]
  },
  {
   "cell_type": "code",
   "execution_count": 851,
   "metadata": {},
   "outputs": [
    {
     "data": {
      "text/plain": [
       "<lifelines.KaplanMeierFitter:\"KM_estimate\", fitted with 152 total observations, 112 right-censored observations>"
      ]
     },
     "execution_count": 851,
     "metadata": {},
     "output_type": "execute_result"
    }
   ],
   "source": [
    "rx1 = bladder.loc[bladder['rx'] == 1]\n",
    "rx2 = bladder.loc[bladder['rx'] == 2]\n",
    "\n",
    "kmf1 = KaplanMeierFitter()\n",
    "kmf1.fit(rx1['stop'], event_observed=rx1['event'])\n",
    "\n",
    "kmf2 = KaplanMeierFitter()\n",
    "kmf2.fit(rx2['stop'], event_observed=rx2['event'])"
   ]
  },
  {
   "cell_type": "code",
   "execution_count": 852,
   "metadata": {},
   "outputs": [
    {
     "data": {
      "text/html": [
       "<div>\n",
       "<style scoped>\n",
       "    .dataframe tbody tr th:only-of-type {\n",
       "        vertical-align: middle;\n",
       "    }\n",
       "\n",
       "    .dataframe tbody tr th {\n",
       "        vertical-align: top;\n",
       "    }\n",
       "\n",
       "    .dataframe thead th {\n",
       "        text-align: right;\n",
       "    }\n",
       "</style>\n",
       "<table border=\"1\" class=\"dataframe\">\n",
       "  <tbody>\n",
       "    <tr>\n",
       "      <th>model</th>\n",
       "      <td>lifelines.CoxPHFitter</td>\n",
       "    </tr>\n",
       "    <tr>\n",
       "      <th>duration col</th>\n",
       "      <td>'stop'</td>\n",
       "    </tr>\n",
       "    <tr>\n",
       "      <th>event col</th>\n",
       "      <td>'event'</td>\n",
       "    </tr>\n",
       "    <tr>\n",
       "      <th>strata</th>\n",
       "      <td>rx</td>\n",
       "    </tr>\n",
       "    <tr>\n",
       "      <th>baseline estimation</th>\n",
       "      <td>breslow</td>\n",
       "    </tr>\n",
       "    <tr>\n",
       "      <th>number of observations</th>\n",
       "      <td>340</td>\n",
       "    </tr>\n",
       "    <tr>\n",
       "      <th>number of events observed</th>\n",
       "      <td>112</td>\n",
       "    </tr>\n",
       "    <tr>\n",
       "      <th>partial log-likelihood</th>\n",
       "      <td>-493.52</td>\n",
       "    </tr>\n",
       "    <tr>\n",
       "      <th>time fit was run</th>\n",
       "      <td>2024-06-30 20:46:43 UTC</td>\n",
       "    </tr>\n",
       "  </tbody>\n",
       "</table>\n",
       "</div><table border=\"1\" class=\"dataframe\">\n",
       "  <thead>\n",
       "    <tr style=\"text-align: right;\">\n",
       "      <th style=\"min-width: 12px;\"></th>\n",
       "      <th style=\"min-width: 12px;\">coef</th>\n",
       "      <th style=\"min-width: 12px;\">exp(coef)</th>\n",
       "      <th style=\"min-width: 12px;\">se(coef)</th>\n",
       "      <th style=\"min-width: 12px;\">coef lower 95%</th>\n",
       "      <th style=\"min-width: 12px;\">coef upper 95%</th>\n",
       "      <th style=\"min-width: 12px;\">exp(coef) lower 95%</th>\n",
       "      <th style=\"min-width: 12px;\">exp(coef) upper 95%</th>\n",
       "      <th style=\"min-width: 12px;\">cmp to</th>\n",
       "      <th style=\"min-width: 12px;\">z</th>\n",
       "      <th style=\"min-width: 12px;\">p</th>\n",
       "      <th style=\"min-width: 12px;\">-log2(p)</th>\n",
       "    </tr>\n",
       "  </thead>\n",
       "  <tbody>\n",
       "    <tr>\n",
       "      <th>number</th>\n",
       "      <td>0.21</td>\n",
       "      <td>1.24</td>\n",
       "      <td>0.05</td>\n",
       "      <td>0.12</td>\n",
       "      <td>0.30</td>\n",
       "      <td>1.13</td>\n",
       "      <td>1.36</td>\n",
       "      <td>0.00</td>\n",
       "      <td>4.60</td>\n",
       "      <td>&lt;0.005</td>\n",
       "      <td>17.84</td>\n",
       "    </tr>\n",
       "    <tr>\n",
       "      <th>size</th>\n",
       "      <td>-0.05</td>\n",
       "      <td>0.95</td>\n",
       "      <td>0.07</td>\n",
       "      <td>-0.19</td>\n",
       "      <td>0.08</td>\n",
       "      <td>0.82</td>\n",
       "      <td>1.09</td>\n",
       "      <td>0.00</td>\n",
       "      <td>-0.77</td>\n",
       "      <td>0.44</td>\n",
       "      <td>1.19</td>\n",
       "    </tr>\n",
       "    <tr>\n",
       "      <th>enum</th>\n",
       "      <td>-0.61</td>\n",
       "      <td>0.55</td>\n",
       "      <td>0.09</td>\n",
       "      <td>-0.79</td>\n",
       "      <td>-0.42</td>\n",
       "      <td>0.45</td>\n",
       "      <td>0.66</td>\n",
       "      <td>0.00</td>\n",
       "      <td>-6.45</td>\n",
       "      <td>&lt;0.005</td>\n",
       "      <td>33.07</td>\n",
       "    </tr>\n",
       "  </tbody>\n",
       "</table><br><div>\n",
       "<style scoped>\n",
       "    .dataframe tbody tr th:only-of-type {\n",
       "        vertical-align: middle;\n",
       "    }\n",
       "\n",
       "    .dataframe tbody tr th {\n",
       "        vertical-align: top;\n",
       "    }\n",
       "\n",
       "    .dataframe thead th {\n",
       "        text-align: right;\n",
       "    }\n",
       "</style>\n",
       "<table border=\"1\" class=\"dataframe\">\n",
       "  <tbody>\n",
       "    <tr>\n",
       "      <th>Concordance</th>\n",
       "      <td>0.74</td>\n",
       "    </tr>\n",
       "    <tr>\n",
       "      <th>Partial AIC</th>\n",
       "      <td>993.04</td>\n",
       "    </tr>\n",
       "    <tr>\n",
       "      <th>log-likelihood ratio test</th>\n",
       "      <td>61.84 on 3 df</td>\n",
       "    </tr>\n",
       "    <tr>\n",
       "      <th>-log2(p) of ll-ratio test</th>\n",
       "      <td>41.93</td>\n",
       "    </tr>\n",
       "  </tbody>\n",
       "</table>\n",
       "</div>"
      ],
      "text/latex": [
       "\\begin{tabular}{lrrrrrrrrrrr}\n",
       " & coef & exp(coef) & se(coef) & coef lower 95% & coef upper 95% & exp(coef) lower 95% & exp(coef) upper 95% & cmp to & z & p & -log2(p) \\\\\n",
       "covariate &  &  &  &  &  &  &  &  &  &  &  \\\\\n",
       "number & 0.21 & 1.24 & 0.05 & 0.12 & 0.30 & 1.13 & 1.36 & 0.00 & 4.60 & 0.00 & 17.84 \\\\\n",
       "size & -0.05 & 0.95 & 0.07 & -0.19 & 0.08 & 0.82 & 1.09 & 0.00 & -0.77 & 0.44 & 1.19 \\\\\n",
       "enum & -0.61 & 0.55 & 0.09 & -0.79 & -0.42 & 0.45 & 0.66 & 0.00 & -6.45 & 0.00 & 33.07 \\\\\n",
       "\\end{tabular}\n"
      ],
      "text/plain": [
       "<lifelines.CoxPHFitter: fitted with 340 total observations, 228 right-censored observations>\n",
       "             duration col = 'stop'\n",
       "                event col = 'event'\n",
       "                   strata = rx\n",
       "      baseline estimation = breslow\n",
       "   number of observations = 340\n",
       "number of events observed = 112\n",
       "   partial log-likelihood = -493.52\n",
       "         time fit was run = 2024-06-30 20:46:43 UTC\n",
       "\n",
       "---\n",
       "           coef exp(coef)  se(coef)  coef lower 95%  coef upper 95% exp(coef) lower 95% exp(coef) upper 95%\n",
       "covariate                                                                                                  \n",
       "number     0.21      1.24      0.05            0.12            0.30                1.13                1.36\n",
       "size      -0.05      0.95      0.07           -0.19            0.08                0.82                1.09\n",
       "enum      -0.61      0.55      0.09           -0.79           -0.42                0.45                0.66\n",
       "\n",
       "           cmp to     z      p  -log2(p)\n",
       "covariate                               \n",
       "number       0.00  4.60 <0.005     17.84\n",
       "size         0.00 -0.77   0.44      1.19\n",
       "enum         0.00 -6.45 <0.005     33.07\n",
       "---\n",
       "Concordance = 0.74\n",
       "Partial AIC = 993.04\n",
       "log-likelihood ratio test = 61.84 on 3 df\n",
       "-log2(p) of ll-ratio test = 41.93"
      ]
     },
     "metadata": {},
     "output_type": "display_data"
    },
    {
     "name": "stdout",
     "output_type": "stream",
     "text": [
      "None\n"
     ]
    },
    {
     "data": {
      "image/png": "[encoded data removed]",
      "text/plain": [
       "<Figure size 640x480 with 1 Axes>"
      ]
     },
     "metadata": {},
     "output_type": "display_data"
    }
   ],
   "source": [
    "fig, axes = plt.subplots()\n",
    "\n",
    "#coloca as duas plotagens nos mesmos eixos\n",
    "kmf1.plot_loglogs(ax=axes)\n",
    "kmf2.plot_loglogs(ax=axes)\n",
    "\n",
    "axes.legend(['rx1', 'rx2'])\n",
    "\n",
    "#como as linhas se cruzam faz sentido estratificar nossa análise\n",
    "cph_strat = CoxPHFitter()\n",
    "cph_strat.fit(cph_bladder_df, duration_col='stop', event_col='event',\n",
    "              strata=['rx'])\n",
    "\n",
    "print(cph_strat.print_summary())\n",
    "\n",
    "plt.show()"
   ]
  }
 ],
 "metadata": {
  "kernelspec": {
   "display_name": "pfe_certo",
   "language": "python",
   "name": "python3"
  },
  "language_info": {
   "codemirror_mode": {
    "name": "ipython",
    "version": 3
   },
   "file_extension": ".py",
   "mimetype": "text/x-python",
   "name": "python",
   "nbconvert_exporter": "python",
   "pygments_lexer": "ipython3",
   "version": "3.12.3"
  }
 },
 "nbformat": 4,
 "nbformat_minor": 2
}

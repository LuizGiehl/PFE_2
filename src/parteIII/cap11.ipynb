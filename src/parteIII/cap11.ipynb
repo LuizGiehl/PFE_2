{
 "cells": [
  {
   "cell_type": "markdown",
   "metadata": {},
   "source": [
    "CAPÍTULO 11 - Tipo de dado datetime\n",
    "-\n"
   ]
  },
  {
   "cell_type": "markdown",
   "metadata": {},
   "source": [
    "Este capítulo ira abordar os tipos de dados datetime, e como podemos trablhar com datas e horas"
   ]
  },
  {
   "cell_type": "markdown",
   "metadata": {},
   "source": [
    "Este capítulo abordará:\n",
    "\n",
    " 1. A biblioteca embutida datetime de python\n",
    " 2. conversão de strings em cada uma data\n",
    " 3. Formatação de datas\n",
    " 4. Extração dos componentes data\n",
    " 5. Cálculos com datas\n",
    " 6. Como trabalhar com datas em um DataFrame\n",
    " 7. Reamostragem\n",
    " 8. Como trabalhar com fusos horários"
   ]
  },
  {
   "cell_type": "markdown",
   "metadata": {},
   "source": [
    "11.2 Objeto datetime de python"
   ]
  },
  {
   "cell_type": "markdown",
   "metadata": {},
   "source": [
    "Python tem um objeto datetime embutito que se econtra na biblioteca datetime.  \n",
    "O date time permite manipular datas e horas e até mesmo fazer cálculos com elas"
   ]
  },
  {
   "cell_type": "code",
   "execution_count": 431,
   "metadata": {},
   "outputs": [
    {
     "name": "stdout",
     "output_type": "stream",
     "text": [
      "2024-06-21 17:25:10.796927\n"
     ]
    }
   ],
   "source": [
    "from datetime import datetime\n",
    "\n",
    "#obtém a data e hora atual\n",
    "now = datetime.now()\n",
    "print(now)"
   ]
  },
  {
   "cell_type": "code",
   "execution_count": 432,
   "metadata": {},
   "outputs": [
    {
     "name": "stdout",
     "output_type": "stream",
     "text": [
      "2024-06-21 17:25:10.812533\n",
      "2001-09-11 09:03:00\n"
     ]
    }
   ],
   "source": [
    "#podemos criar nosso próprio datetime manualmente\n",
    "\n",
    "t1 = datetime.now()\n",
    "t2 = datetime(2001, 9, 11, 9, 3)\n",
    "\n",
    "print(t1)\n",
    "print(t2)"
   ]
  },
  {
   "cell_type": "code",
   "execution_count": 433,
   "metadata": {},
   "outputs": [
    {
     "name": "stdout",
     "output_type": "stream",
     "text": [
      "8319 days, 8:22:10.812533\n"
     ]
    }
   ],
   "source": [
    "#operações matemáticas feitas com datas\n",
    "\n",
    "diff = t1 - t2\n",
    "print(diff)"
   ]
  },
  {
   "cell_type": "markdown",
   "metadata": {},
   "source": [
    "11.3 Converção para datetime"
   ]
  },
  {
   "cell_type": "markdown",
   "metadata": {},
   "source": [
    "Para converter um object para datetime podemos usar a função to_datetime. Vamos usar o conjunto de dados ebola para fazer isso"
   ]
  },
  {
   "cell_type": "code",
   "execution_count": 434,
   "metadata": {},
   "outputs": [
    {
     "name": "stdout",
     "output_type": "stream",
     "text": [
      "         Date  Day  Cases_Guinea  Cases_Liberia  Cases_SierraLeone\n",
      "0    1/5/2015  289        2776.0            NaN            10030.0\n",
      "1    1/4/2015  288        2775.0            NaN             9780.0\n",
      "2    1/3/2015  287        2769.0         8166.0             9722.0\n",
      "3    1/2/2015  286           NaN         8157.0                NaN\n",
      "4  12/31/2014  284        2730.0         8115.0             9633.0\n"
     ]
    }
   ],
   "source": [
    "import pandas as pd\n",
    "\n",
    "ebola = pd.read_csv('../../data/country_timeseries.csv')\n",
    "\n",
    "print(ebola.iloc[:5, :5])"
   ]
  },
  {
   "cell_type": "code",
   "execution_count": 435,
   "metadata": {},
   "outputs": [
    {
     "name": "stdout",
     "output_type": "stream",
     "text": [
      "<class 'pandas.core.frame.DataFrame'>\n",
      "RangeIndex: 122 entries, 0 to 121\n",
      "Data columns (total 18 columns):\n",
      " #   Column               Non-Null Count  Dtype  \n",
      "---  ------               --------------  -----  \n",
      " 0   Date                 122 non-null    object \n",
      " 1   Day                  122 non-null    int64  \n",
      " 2   Cases_Guinea         93 non-null     float64\n",
      " 3   Cases_Liberia        83 non-null     float64\n",
      " 4   Cases_SierraLeone    87 non-null     float64\n",
      " 5   Cases_Nigeria        38 non-null     float64\n",
      " 6   Cases_Senegal        25 non-null     float64\n",
      " 7   Cases_UnitedStates   18 non-null     float64\n",
      " 8   Cases_Spain          16 non-null     float64\n",
      " 9   Cases_Mali           12 non-null     float64\n",
      " 10  Deaths_Guinea        92 non-null     float64\n",
      " 11  Deaths_Liberia       81 non-null     float64\n",
      " 12  Deaths_SierraLeone   87 non-null     float64\n",
      " 13  Deaths_Nigeria       38 non-null     float64\n",
      " 14  Deaths_Senegal       22 non-null     float64\n",
      " 15  Deaths_UnitedStates  18 non-null     float64\n",
      " 16  Deaths_Spain         16 non-null     float64\n",
      " 17  Deaths_Mali          12 non-null     float64\n",
      "dtypes: float64(16), int64(1), object(1)\n",
      "memory usage: 17.3+ KB\n",
      "None\n"
     ]
    }
   ],
   "source": [
    "print(ebola.info())"
   ]
  },
  {
   "cell_type": "markdown",
   "metadata": {},
   "source": [
    "Podemos ver que a coluna date está codificada como um object genérico, logo podemos converter essa coluna para datetime"
   ]
  },
  {
   "cell_type": "code",
   "execution_count": 436,
   "metadata": {},
   "outputs": [
    {
     "name": "stdout",
     "output_type": "stream",
     "text": [
      "         Date  Day  Cases_Guinea  Cases_Liberia  Cases_SierraLeone  \\\n",
      "0    1/5/2015  289        2776.0            NaN            10030.0   \n",
      "1    1/4/2015  288        2775.0            NaN             9780.0   \n",
      "2    1/3/2015  287        2769.0         8166.0             9722.0   \n",
      "3    1/2/2015  286           NaN         8157.0                NaN   \n",
      "4  12/31/2014  284        2730.0         8115.0             9633.0   \n",
      "\n",
      "   Cases_Nigeria  Cases_Senegal  Cases_UnitedStates  Cases_Spain  Cases_Mali  \\\n",
      "0            NaN            NaN                 NaN          NaN         NaN   \n",
      "1            NaN            NaN                 NaN          NaN         NaN   \n",
      "2            NaN            NaN                 NaN          NaN         NaN   \n",
      "3            NaN            NaN                 NaN          NaN         NaN   \n",
      "4            NaN            NaN                 NaN          NaN         NaN   \n",
      "\n",
      "   Deaths_Guinea  Deaths_Liberia  Deaths_SierraLeone  Deaths_Nigeria  \\\n",
      "0         1786.0             NaN              2977.0             NaN   \n",
      "1         1781.0             NaN              2943.0             NaN   \n",
      "2         1767.0          3496.0              2915.0             NaN   \n",
      "3            NaN          3496.0                 NaN             NaN   \n",
      "4         1739.0          3471.0              2827.0             NaN   \n",
      "\n",
      "   Deaths_Senegal  Deaths_UnitedStates  Deaths_Spain  Deaths_Mali    Date_dt  \n",
      "0             NaN                  NaN           NaN          NaN 2015-01-05  \n",
      "1             NaN                  NaN           NaN          NaN 2015-01-04  \n",
      "2             NaN                  NaN           NaN          NaN 2015-01-03  \n",
      "3             NaN                  NaN           NaN          NaN 2015-01-02  \n",
      "4             NaN                  NaN           NaN          NaN 2014-12-31  \n",
      "<class 'pandas.core.frame.DataFrame'>\n",
      "RangeIndex: 122 entries, 0 to 121\n",
      "Data columns (total 19 columns):\n",
      " #   Column               Non-Null Count  Dtype         \n",
      "---  ------               --------------  -----         \n",
      " 0   Date                 122 non-null    object        \n",
      " 1   Day                  122 non-null    int64         \n",
      " 2   Cases_Guinea         93 non-null     float64       \n",
      " 3   Cases_Liberia        83 non-null     float64       \n",
      " 4   Cases_SierraLeone    87 non-null     float64       \n",
      " 5   Cases_Nigeria        38 non-null     float64       \n",
      " 6   Cases_Senegal        25 non-null     float64       \n",
      " 7   Cases_UnitedStates   18 non-null     float64       \n",
      " 8   Cases_Spain          16 non-null     float64       \n",
      " 9   Cases_Mali           12 non-null     float64       \n",
      " 10  Deaths_Guinea        92 non-null     float64       \n",
      " 11  Deaths_Liberia       81 non-null     float64       \n",
      " 12  Deaths_SierraLeone   87 non-null     float64       \n",
      " 13  Deaths_Nigeria       38 non-null     float64       \n",
      " 14  Deaths_Senegal       22 non-null     float64       \n",
      " 15  Deaths_UnitedStates  18 non-null     float64       \n",
      " 16  Deaths_Spain         16 non-null     float64       \n",
      " 17  Deaths_Mali          12 non-null     float64       \n",
      " 18  Date_dt              122 non-null    datetime64[ns]\n",
      "dtypes: datetime64[ns](1), float64(16), int64(1), object(1)\n",
      "memory usage: 18.2+ KB\n",
      "None\n"
     ]
    }
   ],
   "source": [
    "ebola['Date_dt'] = pd.to_datetime(ebola['Date'])\n",
    "\n",
    "print(ebola.head())\n",
    "print(ebola.info())"
   ]
  },
  {
   "cell_type": "markdown",
   "metadata": {},
   "source": [
    "Também podemos ser um pouco mais explícitos em como converter um object para datetime.  \n",
    "datetime possui um parâmetro chamado format que permite especificar o tipo da data, neste caso temo uma data mês/dia/ano"
   ]
  },
  {
   "cell_type": "code",
   "execution_count": 437,
   "metadata": {},
   "outputs": [
    {
     "name": "stdout",
     "output_type": "stream",
     "text": [
      "<class 'pandas.core.frame.DataFrame'>\n",
      "RangeIndex: 122 entries, 0 to 121\n",
      "Data columns (total 19 columns):\n",
      " #   Column               Non-Null Count  Dtype         \n",
      "---  ------               --------------  -----         \n",
      " 0   Date                 122 non-null    object        \n",
      " 1   Day                  122 non-null    int64         \n",
      " 2   Cases_Guinea         93 non-null     float64       \n",
      " 3   Cases_Liberia        83 non-null     float64       \n",
      " 4   Cases_SierraLeone    87 non-null     float64       \n",
      " 5   Cases_Nigeria        38 non-null     float64       \n",
      " 6   Cases_Senegal        25 non-null     float64       \n",
      " 7   Cases_UnitedStates   18 non-null     float64       \n",
      " 8   Cases_Spain          16 non-null     float64       \n",
      " 9   Cases_Mali           12 non-null     float64       \n",
      " 10  Deaths_Guinea        92 non-null     float64       \n",
      " 11  Deaths_Liberia       81 non-null     float64       \n",
      " 12  Deaths_SierraLeone   87 non-null     float64       \n",
      " 13  Deaths_Nigeria       38 non-null     float64       \n",
      " 14  Deaths_Senegal       22 non-null     float64       \n",
      " 15  Deaths_UnitedStates  18 non-null     float64       \n",
      " 16  Deaths_Spain         16 non-null     float64       \n",
      " 17  Deaths_Mali          12 non-null     float64       \n",
      " 18  Date_dt              122 non-null    datetime64[ns]\n",
      "dtypes: datetime64[ns](1), float64(16), int64(1), object(1)\n",
      "memory usage: 18.2+ KB\n",
      "None\n"
     ]
    }
   ],
   "source": [
    "ebola['Date_dt'] = pd.to_datetime(ebola['Date'], format='%m/%d/%Y')\n",
    "\n",
    "print(ebola.info())"
   ]
  },
  {
   "cell_type": "markdown",
   "metadata": {},
   "source": [
    "datetime possui algumas opções embutidasd convenientes. Exemplo, podemos definir dayfirst ou yearfirst caso a data começe com o dia ou ano, 31-01-2009 ou 2009-01-31"
   ]
  },
  {
   "cell_type": "markdown",
   "metadata": {},
   "source": [
    "Para outros tipos de datas podemos especificar manualmente como elas estão representadas"
   ]
  },
  {
   "cell_type": "markdown",
   "metadata": {},
   "source": [
    "11.4 Carregando dados que incluam datas"
   ]
  },
  {
   "cell_type": "markdown",
   "metadata": {},
   "source": [
    "A função read_csv tem muitos parâmetros, e um deles é o parse_date, que permite fazer o parse de um object para datetime diretamente na leitura do arquivo.\n",
    "Basta passar o parâmetro e informar a coluna em que a data está"
   ]
  },
  {
   "cell_type": "code",
   "execution_count": 438,
   "metadata": {},
   "outputs": [
    {
     "name": "stdout",
     "output_type": "stream",
     "text": [
      "<class 'pandas.core.frame.DataFrame'>\n",
      "RangeIndex: 122 entries, 0 to 121\n",
      "Data columns (total 18 columns):\n",
      " #   Column               Non-Null Count  Dtype         \n",
      "---  ------               --------------  -----         \n",
      " 0   Date                 122 non-null    datetime64[ns]\n",
      " 1   Day                  122 non-null    int64         \n",
      " 2   Cases_Guinea         93 non-null     float64       \n",
      " 3   Cases_Liberia        83 non-null     float64       \n",
      " 4   Cases_SierraLeone    87 non-null     float64       \n",
      " 5   Cases_Nigeria        38 non-null     float64       \n",
      " 6   Cases_Senegal        25 non-null     float64       \n",
      " 7   Cases_UnitedStates   18 non-null     float64       \n",
      " 8   Cases_Spain          16 non-null     float64       \n",
      " 9   Cases_Mali           12 non-null     float64       \n",
      " 10  Deaths_Guinea        92 non-null     float64       \n",
      " 11  Deaths_Liberia       81 non-null     float64       \n",
      " 12  Deaths_SierraLeone   87 non-null     float64       \n",
      " 13  Deaths_Nigeria       38 non-null     float64       \n",
      " 14  Deaths_Senegal       22 non-null     float64       \n",
      " 15  Deaths_UnitedStates  18 non-null     float64       \n",
      " 16  Deaths_Spain         16 non-null     float64       \n",
      " 17  Deaths_Mali          12 non-null     float64       \n",
      "dtypes: datetime64[ns](1), float64(16), int64(1)\n",
      "memory usage: 17.3 KB\n",
      "None\n"
     ]
    }
   ],
   "source": [
    "ebola = pd.read_csv('../../data/country_timeseries.csv', parse_dates=[0])\n",
    "\n",
    "print(ebola.info())"
   ]
  },
  {
   "cell_type": "markdown",
   "metadata": {},
   "source": [
    "11.5 Extraindo componentes de datas"
   ]
  },
  {
   "cell_type": "markdown",
   "metadata": {},
   "source": [
    "Agora que temos um objeto datetime podemos extrair qualquer parte que quisermos dessa data"
   ]
  },
  {
   "cell_type": "code",
   "execution_count": 439,
   "metadata": {},
   "outputs": [
    {
     "name": "stdout",
     "output_type": "stream",
     "text": [
      "2016-02-29 00:00:00\n"
     ]
    }
   ],
   "source": [
    "d = pd.to_datetime('2016-02-29')\n",
    "print(d)"
   ]
  },
  {
   "cell_type": "code",
   "execution_count": 440,
   "metadata": {},
   "outputs": [
    {
     "name": "stdout",
     "output_type": "stream",
     "text": [
      "<class 'pandas._libs.tslibs.timestamps.Timestamp'> \n",
      "\n",
      "2016 \n",
      "\n",
      "2 \n",
      "\n",
      "29\n"
     ]
    }
   ],
   "source": [
    "#se a única string for passada teremos um Timestamp\n",
    "print(type(d),'\\n')\n",
    "\n",
    "#podemos acessar os componentes da data\n",
    "print(d.year, '\\n')\n",
    "print(d.month, '\\n')\n",
    "print(d.day)"
   ]
  },
  {
   "cell_type": "markdown",
   "metadata": {},
   "source": [
    "Vamos recriar a coluna date_dt para começar a manipular nossos dados do dataframe"
   ]
  },
  {
   "cell_type": "code",
   "execution_count": 441,
   "metadata": {},
   "outputs": [
    {
     "name": "stdout",
     "output_type": "stream",
     "text": [
      "        Date    date_dt\n",
      "0 2015-01-05 2015-01-05\n",
      "1 2015-01-04 2015-01-04\n",
      "2 2015-01-03 2015-01-03\n",
      "3 2015-01-02 2015-01-02\n",
      "4 2014-12-31 2014-12-31\n"
     ]
    }
   ],
   "source": [
    "ebola['date_dt'] = pd.to_datetime(ebola['Date'])\n",
    "\n",
    "print(ebola[['Date', 'date_dt']].head())"
   ]
  },
  {
   "cell_type": "code",
   "execution_count": 442,
   "metadata": {},
   "outputs": [
    {
     "name": "stdout",
     "output_type": "stream",
     "text": [
      "        Date    date_dt  year  month  day\n",
      "0 2015-01-05 2015-01-05  2015      1    5\n",
      "1 2015-01-04 2015-01-04  2015      1    4\n",
      "2 2015-01-03 2015-01-03  2015      1    3\n",
      "3 2015-01-02 2015-01-02  2015      1    2\n",
      "4 2014-12-31 2014-12-31  2014     12   31\n"
     ]
    }
   ],
   "source": [
    "#podemos criar novas colunas com ano mês e dia\n",
    "\n",
    "ebola['year'], ebola['month'], ebola['day'] = (ebola['date_dt'].dt.year,\n",
    "                                               ebola['date_dt'].dt.month,\n",
    "                                               ebola['date_dt'].dt.day)\n",
    "\n",
    "print(ebola[['Date', 'date_dt', 'year', 'month', 'day']].head())"
   ]
  },
  {
   "cell_type": "markdown",
   "metadata": {},
   "source": [
    "Quando fizemos o parse de nossas datas o type não foi preservado"
   ]
  },
  {
   "cell_type": "code",
   "execution_count": 443,
   "metadata": {},
   "outputs": [
    {
     "name": "stdout",
     "output_type": "stream",
     "text": [
      "<class 'pandas.core.frame.DataFrame'>\n",
      "RangeIndex: 122 entries, 0 to 121\n",
      "Data columns (total 22 columns):\n",
      " #   Column               Non-Null Count  Dtype         \n",
      "---  ------               --------------  -----         \n",
      " 0   Date                 122 non-null    datetime64[ns]\n",
      " 1   Day                  122 non-null    int64         \n",
      " 2   Cases_Guinea         93 non-null     float64       \n",
      " 3   Cases_Liberia        83 non-null     float64       \n",
      " 4   Cases_SierraLeone    87 non-null     float64       \n",
      " 5   Cases_Nigeria        38 non-null     float64       \n",
      " 6   Cases_Senegal        25 non-null     float64       \n",
      " 7   Cases_UnitedStates   18 non-null     float64       \n",
      " 8   Cases_Spain          16 non-null     float64       \n",
      " 9   Cases_Mali           12 non-null     float64       \n",
      " 10  Deaths_Guinea        92 non-null     float64       \n",
      " 11  Deaths_Liberia       81 non-null     float64       \n",
      " 12  Deaths_SierraLeone   87 non-null     float64       \n",
      " 13  Deaths_Nigeria       38 non-null     float64       \n",
      " 14  Deaths_Senegal       22 non-null     float64       \n",
      " 15  Deaths_UnitedStates  18 non-null     float64       \n",
      " 16  Deaths_Spain         16 non-null     float64       \n",
      " 17  Deaths_Mali          12 non-null     float64       \n",
      " 18  date_dt              122 non-null    datetime64[ns]\n",
      " 19  year                 122 non-null    int32         \n",
      " 20  month                122 non-null    int32         \n",
      " 21  day                  122 non-null    int32         \n",
      "dtypes: datetime64[ns](2), float64(16), int32(3), int64(1)\n",
      "memory usage: 19.7 KB\n",
      "None\n"
     ]
    }
   ],
   "source": [
    "print(ebola.info())"
   ]
  },
  {
   "cell_type": "markdown",
   "metadata": {},
   "source": [
    "11.6 Cáculos com datas e timedeltas"
   ]
  },
  {
   "cell_type": "markdown",
   "metadata": {},
   "source": [
    "Uma das vantagens de objetos do tipo data é que podemos fazer cálculos com eles.  \n",
    "Nosso conjunto de dados possui uma coluna chamada Day que informa há quantos dias   \n",
    "ocorre o surto de Ebola em um país. Podemos recrias essa coluna usando aritimética com datas"
   ]
  },
  {
   "cell_type": "code",
   "execution_count": 444,
   "metadata": {},
   "outputs": [
    {
     "name": "stdout",
     "output_type": "stream",
     "text": [
      "          Date  Day  Cases_Guinea  Cases_Liberia  Cases_SierraLeone\n",
      "117 2014-03-27    5         103.0            8.0                6.0\n",
      "118 2014-03-26    4          86.0            NaN                NaN\n",
      "119 2014-03-25    3          86.0            NaN                NaN\n",
      "120 2014-03-24    2          86.0            NaN                NaN\n",
      "121 2014-03-22    0          49.0            NaN                NaN\n"
     ]
    }
   ],
   "source": [
    "print(ebola.iloc[-5:, :5])"
   ]
  },
  {
   "cell_type": "markdown",
   "metadata": {},
   "source": [
    "Se quisermos achar a data mais antiga, no caso do dataframe o primeiro dia de surto podemos usar a função min na coluna"
   ]
  },
  {
   "cell_type": "code",
   "execution_count": 445,
   "metadata": {},
   "outputs": [
    {
     "name": "stdout",
     "output_type": "stream",
     "text": [
      "2014-03-22 00:00:00\n"
     ]
    }
   ],
   "source": [
    "print(ebola['date_dt'].min())"
   ]
  },
  {
   "cell_type": "code",
   "execution_count": 446,
   "metadata": {},
   "outputs": [
    {
     "name": "stdout",
     "output_type": "stream",
     "text": [
      "          Date  Day outbreak_d\n",
      "0   2015-01-05  289   289 days\n",
      "1   2015-01-04  288   288 days\n",
      "2   2015-01-03  287   287 days\n",
      "3   2015-01-02  286   286 days\n",
      "4   2014-12-31  284   284 days\n",
      "..         ...  ...        ...\n",
      "117 2014-03-27    5     5 days\n",
      "118 2014-03-26    4     4 days\n",
      "119 2014-03-25    3     3 days\n",
      "120 2014-03-24    2     2 days\n",
      "121 2014-03-22    0     0 days\n",
      "\n",
      "[122 rows x 3 columns]\n"
     ]
    }
   ],
   "source": [
    "#usando a data para cáculos\n",
    "ebola['outbreak_d'] = ebola['date_dt'] - ebola['date_dt'].min()\n",
    "\n",
    "print(ebola[['Date', 'Day', 'outbreak_d']])"
   ]
  },
  {
   "cell_type": "code",
   "execution_count": 447,
   "metadata": {},
   "outputs": [
    {
     "name": "stdout",
     "output_type": "stream",
     "text": [
      "<class 'pandas.core.frame.DataFrame'>\n",
      "RangeIndex: 122 entries, 0 to 121\n",
      "Data columns (total 23 columns):\n",
      " #   Column               Non-Null Count  Dtype          \n",
      "---  ------               --------------  -----          \n",
      " 0   Date                 122 non-null    datetime64[ns] \n",
      " 1   Day                  122 non-null    int64          \n",
      " 2   Cases_Guinea         93 non-null     float64        \n",
      " 3   Cases_Liberia        83 non-null     float64        \n",
      " 4   Cases_SierraLeone    87 non-null     float64        \n",
      " 5   Cases_Nigeria        38 non-null     float64        \n",
      " 6   Cases_Senegal        25 non-null     float64        \n",
      " 7   Cases_UnitedStates   18 non-null     float64        \n",
      " 8   Cases_Spain          16 non-null     float64        \n",
      " 9   Cases_Mali           12 non-null     float64        \n",
      " 10  Deaths_Guinea        92 non-null     float64        \n",
      " 11  Deaths_Liberia       81 non-null     float64        \n",
      " 12  Deaths_SierraLeone   87 non-null     float64        \n",
      " 13  Deaths_Nigeria       38 non-null     float64        \n",
      " 14  Deaths_Senegal       22 non-null     float64        \n",
      " 15  Deaths_UnitedStates  18 non-null     float64        \n",
      " 16  Deaths_Spain         16 non-null     float64        \n",
      " 17  Deaths_Mali          12 non-null     float64        \n",
      " 18  date_dt              122 non-null    datetime64[ns] \n",
      " 19  year                 122 non-null    int32          \n",
      " 20  month                122 non-null    int32          \n",
      " 21  day                  122 non-null    int32          \n",
      " 22  outbreak_d           122 non-null    timedelta64[ns]\n",
      "dtypes: datetime64[ns](2), float64(16), int32(3), int64(1), timedelta64[ns](1)\n",
      "memory usage: 20.6 KB\n",
      "None\n"
     ]
    }
   ],
   "source": [
    "print(ebola.info())"
   ]
  },
  {
   "cell_type": "markdown",
   "metadata": {},
   "source": [
    "Quando fazemos cálculos com objetos datetime obtemos um objeto timedelta"
   ]
  },
  {
   "cell_type": "markdown",
   "metadata": {},
   "source": [
    "11.7 Métodos de datetime"
   ]
  },
  {
   "cell_type": "markdown",
   "metadata": {},
   "source": [
    "Vamos observar outro conjunto de dados. Esse conjunto trata de falências bancárias"
   ]
  },
  {
   "cell_type": "markdown",
   "metadata": {},
   "source": [
    "Date_format\n",
    "-\n",
    "    Nas versões atuais do Pandas ao ler um arquivo csv e passar as colunas, você precisa inserir um formato para elas usando 'date_format'  \n",
    "    esse parâmetro aceita uma string única, informando o formato da data que será passado para todas as colunas, ou\n",
    "    você pode optar por passar um dict com a coluna e o formato que ela recebe, ou o formato para uma lista das \n",
    "    colunas que vão receber"
   ]
  },
  {
   "cell_type": "code",
   "execution_count": 448,
   "metadata": {},
   "outputs": [
    {
     "name": "stdout",
     "output_type": "stream",
     "text": [
      "<class 'pandas.core.frame.DataFrame'>\n",
      "RangeIndex: 553 entries, 0 to 552\n",
      "Data columns (total 7 columns):\n",
      " #   Column                 Non-Null Count  Dtype         \n",
      "---  ------                 --------------  -----         \n",
      " 0   Bank Name              553 non-null    object        \n",
      " 1   City                   553 non-null    object        \n",
      " 2   ST                     553 non-null    object        \n",
      " 3   CERT                   553 non-null    int64         \n",
      " 4   Acquiring Institution  553 non-null    object        \n",
      " 5   Closing Date           553 non-null    datetime64[ns]\n",
      " 6   Updated Date           553 non-null    datetime64[ns]\n",
      "dtypes: datetime64[ns](2), int64(1), object(4)\n",
      "memory usage: 30.4+ KB\n",
      "None\n"
     ]
    }
   ],
   "source": [
    "banks = pd.read_csv('../../data/banklist.csv', parse_dates=[5,6], date_format={'Closing Date': '%d-%b-%y', 'Updated Date': '%d-%b-%y'})\n",
    "print(banks.info())"
   ]
  },
  {
   "cell_type": "code",
   "execution_count": 449,
   "metadata": {},
   "outputs": [
    {
     "name": "stdout",
     "output_type": "stream",
     "text": [
      "                                           Bank Name                City  ST  \\\n",
      "0                                Fayette County Bank          Saint Elmo  IL   \n",
      "1  Guaranty Bank, (d/b/a BestBank in Georgia & Mi...           Milwaukee  WI   \n",
      "2                                     First NBC Bank         New Orleans  LA   \n",
      "3                                      Proficio Bank  Cottonwood Heights  UT   \n",
      "4                      Seaway Bank and Trust Company             Chicago  IL   \n",
      "\n",
      "    CERT                Acquiring Institution Closing Date Updated Date  \n",
      "0   1802            United Fidelity Bank, fsb   2017-05-26   2017-07-26  \n",
      "1  30003  First-Citizens Bank & Trust Company   2017-05-05   2017-07-26  \n",
      "2  58302                         Whitney Bank   2017-04-28   2017-07-26  \n",
      "3  35495                    Cache Valley Bank   2017-03-03   2017-05-18  \n",
      "4  19328                  State Bank of Texas   2017-01-27   2017-05-18  \n",
      "<class 'pandas.core.frame.DataFrame'>\n",
      "RangeIndex: 553 entries, 0 to 552\n",
      "Data columns (total 7 columns):\n",
      " #   Column                 Non-Null Count  Dtype         \n",
      "---  ------                 --------------  -----         \n",
      " 0   Bank Name              553 non-null    object        \n",
      " 1   City                   553 non-null    object        \n",
      " 2   ST                     553 non-null    object        \n",
      " 3   CERT                   553 non-null    int64         \n",
      " 4   Acquiring Institution  553 non-null    object        \n",
      " 5   Closing Date           553 non-null    datetime64[ns]\n",
      " 6   Updated Date           553 non-null    datetime64[ns]\n",
      "dtypes: datetime64[ns](2), int64(1), object(4)\n",
      "memory usage: 30.4+ KB\n",
      "None\n"
     ]
    }
   ],
   "source": [
    "banks = pd.read_csv('../../data/banklist.csv', parse_dates=[5,6], date_format='%d-%b-%y')\n",
    "print(banks.head())\n",
    "print(banks.info())"
   ]
  },
  {
   "cell_type": "markdown",
   "metadata": {},
   "source": [
    "Agora podemos fazer parse das datas obtendo o trimestre e o ano em que o banco fechou"
   ]
  },
  {
   "cell_type": "code",
   "execution_count": 450,
   "metadata": {},
   "outputs": [
    {
     "name": "stdout",
     "output_type": "stream",
     "text": [
      "    Closing Date  closing_quarter  closing_year\n",
      "0     2017-05-26                2          2017\n",
      "1     2017-05-05                2          2017\n",
      "2     2017-04-28                2          2017\n",
      "3     2017-03-03                1          2017\n",
      "4     2017-01-27                1          2017\n",
      "..           ...              ...           ...\n",
      "548   2001-07-27                3          2001\n",
      "549   2001-05-03                2          2001\n",
      "550   2001-02-02                1          2001\n",
      "551   2000-12-14                4          2000\n",
      "552   2000-10-13                4          2000\n",
      "\n",
      "[553 rows x 3 columns]\n"
     ]
    }
   ],
   "source": [
    "banks['closing_quarter'], banks['closing_year'] = (banks['Closing Date'].dt.quarter,\n",
    "                                                   banks['Closing Date'].dt.year)\n",
    "\n",
    "print(banks[['Closing Date','closing_quarter', 'closing_year']])"
   ]
  },
  {
   "cell_type": "code",
   "execution_count": 451,
   "metadata": {},
   "outputs": [
    {
     "name": "stdout",
     "output_type": "stream",
     "text": [
      "closing_year\n",
      "2000      2\n",
      "2001      4\n",
      "2002     11\n",
      "2003      3\n",
      "2004      4\n",
      "2007      3\n",
      "2008     25\n",
      "2009    140\n",
      "2010    157\n",
      "2011     92\n",
      "2012     51\n",
      "2013     24\n",
      "2014     18\n",
      "2015      8\n",
      "2016      5\n",
      "2017      6\n",
      "dtype: int64\n"
     ]
    }
   ],
   "source": [
    "#Também podemos cálcular quantos bancos fecharam no ano\n",
    "closingYear = banks.groupby(['closing_year']).size()\n",
    "\n",
    "print(closingYear)"
   ]
  },
  {
   "cell_type": "code",
   "execution_count": 452,
   "metadata": {},
   "outputs": [
    {
     "name": "stdout",
     "output_type": "stream",
     "text": [
      "closing_year  closing_quarter\n",
      "2000          4                   2\n",
      "2001          1                   1\n",
      "              2                   1\n",
      "              3                   2\n",
      "2002          1                   6\n",
      "              2                   2\n",
      "              3                   1\n",
      "              4                   2\n",
      "2003          1                   1\n",
      "              2                   1\n",
      "              4                   1\n",
      "2004          1                   3\n",
      "              2                   1\n",
      "2007          1                   1\n",
      "              3                   1\n",
      "              4                   1\n",
      "2008          1                   2\n",
      "              2                   2\n",
      "              3                   9\n",
      "              4                  12\n",
      "2009          1                  21\n",
      "              2                  24\n",
      "              3                  50\n",
      "              4                  45\n",
      "2010          1                  41\n",
      "              2                  45\n",
      "              3                  41\n",
      "              4                  30\n",
      "2011          1                  26\n",
      "              2                  22\n",
      "              3                  26\n",
      "              4                  18\n",
      "2012          1                  16\n",
      "              2                  15\n",
      "              3                  12\n",
      "              4                   8\n",
      "2013          1                   4\n",
      "              2                  12\n",
      "              3                   6\n",
      "              4                   2\n",
      "2014          1                   5\n",
      "              2                   7\n",
      "              3                   2\n",
      "              4                   4\n",
      "2015          1                   4\n",
      "              2                   1\n",
      "              3                   1\n",
      "              4                   2\n",
      "2016          1                   1\n",
      "              2                   2\n",
      "              3                   2\n",
      "2017          1                   3\n",
      "              2                   3\n",
      "dtype: int64\n"
     ]
    }
   ],
   "source": [
    "#podemos ainda, cálcular quantos bancos fecharam em cada trimestre de cada ano\n",
    "closingYear_q = banks.groupby(['closing_year', 'closing_quarter']).size()\n",
    "print(closingYear_q)"
   ]
  },
  {
   "cell_type": "markdown",
   "metadata": {},
   "source": [
    "Podemos plotar esses resultados"
   ]
  },
  {
   "cell_type": "code",
   "execution_count": 453,
   "metadata": {},
   "outputs": [
    {
     "data": {
      "text/plain": [
       "<function matplotlib.pyplot.show(close=None, block=None)>"
      ]
     },
     "execution_count": 453,
     "metadata": {},
     "output_type": "execute_result"
    },
    {
     "data": {
      "image/png": "[encoded data removed]",
      "text/plain": [
       "<Figure size 640x480 with 1 Axes>"
      ]
     },
     "metadata": {},
     "output_type": "display_data"
    }
   ],
   "source": [
    "import matplotlib.pyplot as plt\n",
    "\n",
    "fig, ax = plt.subplots()\n",
    "\n",
    "ax = closingYear.plot()\n",
    "plt.show"
   ]
  },
  {
   "cell_type": "code",
   "execution_count": 454,
   "metadata": {},
   "outputs": [
    {
     "data": {
      "image/png": "[encoded data removed]",
      "text/plain": [
       "<Figure size 640x480 with 1 Axes>"
      ]
     },
     "metadata": {},
     "output_type": "display_data"
    }
   ],
   "source": [
    "fig, ax = plt.subplots()\n",
    "ax = closingYear_q.plot()\n",
    "plt.show()"
   ]
  },
  {
   "cell_type": "markdown",
   "metadata": {},
   "source": [
    "11.8 Obtendo dados de ações"
   ]
  },
  {
   "cell_type": "markdown",
   "metadata": {},
   "source": [
    "Um tipo de dado comumente encontrado e que contém datas são os preçõs de ações. Felizmente Python tem um modo de obter esse tipo de dado por meio de programação"
   ]
  },
  {
   "cell_type": "code",
   "execution_count": 455,
   "metadata": {},
   "outputs": [
    {
     "name": "stdout",
     "output_type": "stream",
     "text": [
      "           Date        Open        High         Low       Close   Adj Close  \\\n",
      "0    2010-06-29   19.000000   25.000000   17.540001   23.889999   23.889999   \n",
      "1    2010-06-30   25.790001   30.420000   23.299999   23.830000   23.830000   \n",
      "2    2010-07-01   25.000000   25.920000   20.270000   21.959999   21.959999   \n",
      "3    2010-07-02   23.000000   23.100000   18.709999   19.200001   19.200001   \n",
      "4    2010-07-06   20.000000   20.000000   15.830000   16.110001   16.110001   \n",
      "...         ...         ...         ...         ...         ...         ...   \n",
      "1786 2017-08-02  318.940002  327.119995  311.220001  325.890015  325.890015   \n",
      "1787 2017-08-03  345.329987  350.000000  343.149994  347.089996  347.089996   \n",
      "1788 2017-08-04  347.000000  357.269989  343.299988  356.910004  356.910004   \n",
      "1789 2017-08-07  357.350006  359.480011  352.750000  355.170013  355.170013   \n",
      "1790 2017-08-08  357.529999  368.579987  357.399994  365.220001  365.220001   \n",
      "\n",
      "        Volume  \n",
      "0     18766300  \n",
      "1     17187100  \n",
      "2      8218800  \n",
      "3      5139800  \n",
      "4      6866900  \n",
      "...        ...  \n",
      "1786  13091500  \n",
      "1787  13535000  \n",
      "1788   9198400  \n",
      "1789   6276900  \n",
      "1790   7449837  \n",
      "\n",
      "[1791 rows x 7 columns]\n"
     ]
    }
   ],
   "source": [
    "tesla = pd.read_csv('../../data/tesla_stock_yahoo.csv', parse_dates=[0])\n",
    "print(tesla)"
   ]
  },
  {
   "cell_type": "markdown",
   "metadata": {},
   "source": [
    "11.9 Obtendo subconjuntos de dados com base em datas"
   ]
  },
  {
   "cell_type": "markdown",
   "metadata": {},
   "source": [
    "Agora sabendo como extrair parte de uma data, podemos fazer subconjuntos de nossos dados sem ter que fazer parse dos componentes individuais manualmente."
   ]
  },
  {
   "cell_type": "markdown",
   "metadata": {},
   "source": [
    "Caso quisermos dados somente de junho de 2010 no nosso conjunto de dados de proços das ações"
   ]
  },
  {
   "cell_type": "code",
   "execution_count": 456,
   "metadata": {},
   "outputs": [
    {
     "name": "stdout",
     "output_type": "stream",
     "text": [
      "        Date       Open   High        Low      Close  Adj Close    Volume\n",
      "0 2010-06-29  19.000000  25.00  17.540001  23.889999  23.889999  18766300\n",
      "1 2010-06-30  25.790001  30.42  23.299999  23.830000  23.830000  17187100\n"
     ]
    }
   ],
   "source": [
    "print(tesla.loc[(tesla.Date.dt.year == 2010) & (tesla.Date.dt.month == 6)])"
   ]
  },
  {
   "cell_type": "markdown",
   "metadata": {},
   "source": [
    "11.9.1 Objeto DatetimeIndex"
   ]
  },
  {
   "cell_type": "markdown",
   "metadata": {},
   "source": [
    "Uma coisa que podemos fazer, é transformar a coluna do index da linha em datas de uma outra coluna do dataframe.     \n",
    "Isso pode facilitar nossa vida em alguns aspectos como fazer um subconjunto com datas"
   ]
  },
  {
   "cell_type": "code",
   "execution_count": 457,
   "metadata": {},
   "outputs": [
    {
     "name": "stdout",
     "output_type": "stream",
     "text": [
      "DatetimeIndex(['2010-06-29', '2010-06-30', '2010-07-01', '2010-07-02',\n",
      "               '2010-07-06', '2010-07-07', '2010-07-08', '2010-07-09',\n",
      "               '2010-07-12', '2010-07-13',\n",
      "               ...\n",
      "               '2017-07-26', '2017-07-27', '2017-07-28', '2017-07-31',\n",
      "               '2017-08-01', '2017-08-02', '2017-08-03', '2017-08-04',\n",
      "               '2017-08-07', '2017-08-08'],\n",
      "              dtype='datetime64[ns]', name='Date', length=1791, freq=None)\n"
     ]
    }
   ],
   "source": [
    "tesla.index = tesla['Date']\n",
    "\n",
    "print(tesla.index)"
   ]
  },
  {
   "cell_type": "code",
   "execution_count": 458,
   "metadata": {},
   "outputs": [
    {
     "name": "stdout",
     "output_type": "stream",
     "text": [
      "                 Date        Open        High         Low       Close\n",
      "Date                                                                 \n",
      "2015-01-02 2015-01-02  222.869995  223.250000  213.259995  219.309998\n",
      "2015-01-05 2015-01-05  214.550003  216.500000  207.160004  210.089996\n",
      "2015-01-06 2015-01-06  210.059998  214.199997  204.210007  211.279999\n",
      "2015-01-07 2015-01-07  213.350006  214.779999  209.779999  210.949997\n",
      "2015-01-08 2015-01-08  212.809998  213.800003  210.009995  210.619995\n"
     ]
    }
   ],
   "source": [
    "#podemos obter um subconjunto de nossos dados com base no ano\n",
    "#precisamos usar um .loc antes de passar o ano que queremos obter um subconjunto\n",
    "print(tesla.loc['2015'].iloc[:5, :5])"
   ]
  },
  {
   "cell_type": "markdown",
   "metadata": {},
   "source": [
    "11.9.2 Objeto TimedeltaIndex"
   ]
  },
  {
   "cell_type": "markdown",
   "metadata": {},
   "source": [
    "Assim como fizemos com datetime podemos fazer com timedelta"
   ]
  },
  {
   "cell_type": "code",
   "execution_count": 459,
   "metadata": {},
   "outputs": [
    {
     "name": "stdout",
     "output_type": "stream",
     "text": [
      "                 Date       Open   High        Low      Close  Adj Close  \\\n",
      "Date                                                                       \n",
      "2010-06-29 2010-06-29  19.000000  25.00  17.540001  23.889999  23.889999   \n",
      "2010-06-30 2010-06-30  25.790001  30.42  23.299999  23.830000  23.830000   \n",
      "2010-07-01 2010-07-01  25.000000  25.92  20.270000  21.959999  21.959999   \n",
      "2010-07-02 2010-07-02  23.000000  23.10  18.709999  19.200001  19.200001   \n",
      "2010-07-06 2010-07-06  20.000000  20.00  15.830000  16.110001  16.110001   \n",
      "\n",
      "              Volume ref_date  \n",
      "Date                           \n",
      "2010-06-29  18766300   0 days  \n",
      "2010-06-30  17187100   1 days  \n",
      "2010-07-01   8218800   2 days  \n",
      "2010-07-02   5139800   3 days  \n",
      "2010-07-06   6866900   7 days  \n"
     ]
    }
   ],
   "source": [
    "tesla['ref_date'] = tesla['Date'] - tesla['Date'].min()\n",
    "\n",
    "print(tesla.head())"
   ]
  },
  {
   "cell_type": "code",
   "execution_count": 460,
   "metadata": {},
   "outputs": [
    {
     "name": "stdout",
     "output_type": "stream",
     "text": [
      "               Date       Open   High        Low      Close\n",
      "ref_date                                                   \n",
      "0 days   2010-06-29  19.000000  25.00  17.540001  23.889999\n",
      "1 days   2010-06-30  25.790001  30.42  23.299999  23.830000\n",
      "2 days   2010-07-01  25.000000  25.92  20.270000  21.959999\n",
      "3 days   2010-07-02  23.000000  23.10  18.709999  19.200001\n",
      "7 days   2010-07-06  20.000000  20.00  15.830000  16.110001\n"
     ]
    }
   ],
   "source": [
    "tesla.set_index(tesla['ref_date'], inplace=True)\n",
    "\n",
    "print(tesla.iloc[:5, :5])"
   ]
  },
  {
   "cell_type": "code",
   "execution_count": 461,
   "metadata": {},
   "outputs": [
    {
     "name": "stdout",
     "output_type": "stream",
     "text": [
      "               Date       Open   High        Low      Close\n",
      "ref_date                                                   \n",
      "0 days   2010-06-29  19.000000  25.00  17.540001  23.889999\n",
      "1 days   2010-06-30  25.790001  30.42  23.299999  23.830000\n",
      "2 days   2010-07-01  25.000000  25.92  20.270000  21.959999\n",
      "3 days   2010-07-02  23.000000  23.10  18.709999  19.200001\n"
     ]
    }
   ],
   "source": [
    "#é possível selecionar os dados com base nos deltas\n",
    "print(tesla['0 days' : '5 days'].iloc[:5, :5])"
   ]
  },
  {
   "cell_type": "markdown",
   "metadata": {},
   "source": [
    "11.10 intervalos de datas"
   ]
  },
  {
   "cell_type": "markdown",
   "metadata": {},
   "source": [
    "Nem todo conjunto de dados terá uma frequência fixa de valores. Por exemplo o conjunto de dados de ebola que não temos uma observação para cada dia do intervalo de datas"
   ]
  },
  {
   "cell_type": "code",
   "execution_count": 462,
   "metadata": {},
   "outputs": [
    {
     "name": "stdout",
     "output_type": "stream",
     "text": [
      "        Date  Day  Cases_Guinea  Cases_Liberia  Cases_SierraLeone\n",
      "0 2015-01-05  289        2776.0            NaN            10030.0\n",
      "1 2015-01-04  288        2775.0            NaN             9780.0\n",
      "2 2015-01-03  287        2769.0         8166.0             9722.0\n",
      "3 2015-01-02  286           NaN         8157.0                NaN\n",
      "4 2014-12-31  284        2730.0         8115.0             9633.0\n"
     ]
    }
   ],
   "source": [
    "ebola = pd.read_csv('../../data/country_timeseries.csv', parse_dates=[0])\n",
    "\n",
    "print(ebola.iloc[:5, :5])"
   ]
  },
  {
   "cell_type": "markdown",
   "metadata": {},
   "source": [
    "Nesse caso 1015-01-01 não está em head e 2014-03-23 não está em tail"
   ]
  },
  {
   "cell_type": "code",
   "execution_count": 463,
   "metadata": {},
   "outputs": [
    {
     "name": "stdout",
     "output_type": "stream",
     "text": [
      "          Date  Day  Cases_Guinea  Cases_Liberia  Cases_SierraLeone\n",
      "117 2014-03-27    5         103.0            8.0                6.0\n",
      "118 2014-03-26    4          86.0            NaN                NaN\n",
      "119 2014-03-25    3          86.0            NaN                NaN\n",
      "120 2014-03-24    2          86.0            NaN                NaN\n",
      "121 2014-03-22    0          49.0            NaN                NaN\n"
     ]
    }
   ],
   "source": [
    "print(ebola.iloc[-5:, :5])"
   ]
  },
  {
   "cell_type": "markdown",
   "metadata": {},
   "source": [
    "Uma prática comum é criar um intervalo de datas para reindexar um conjunto de dados com reindex"
   ]
  },
  {
   "cell_type": "code",
   "execution_count": 464,
   "metadata": {},
   "outputs": [
    {
     "name": "stdout",
     "output_type": "stream",
     "text": [
      "DatetimeIndex(['2014-12-31', '2015-01-01', '2015-01-02', '2015-01-03',\n",
      "               '2015-01-04', '2015-01-05'],\n",
      "              dtype='datetime64[ns]', freq='D')\n"
     ]
    }
   ],
   "source": [
    "head_range = pd.date_range(start='2014-12-31', end='2015-01-05')\n",
    "print(head_range)"
   ]
  },
  {
   "cell_type": "code",
   "execution_count": 465,
   "metadata": {},
   "outputs": [
    {
     "name": "stdout",
     "output_type": "stream",
     "text": [
      "            Day  Cases_Guinea  Cases_Liberia  Cases_SierraLeone  Cases_Nigeria\n",
      "Date                                                                          \n",
      "2015-01-05  289        2776.0            NaN            10030.0            NaN\n",
      "2015-01-04  288        2775.0            NaN             9780.0            NaN\n",
      "2015-01-03  287        2769.0         8166.0             9722.0            NaN\n",
      "2015-01-02  286           NaN         8157.0                NaN            NaN\n",
      "2014-12-31  284        2730.0         8115.0             9633.0            NaN\n"
     ]
    }
   ],
   "source": [
    "#vamos usar somente 5 linhas\n",
    "ebola_5 = ebola.head()\n",
    "\n",
    "ebola_5.set_index('Date', inplace=True)\n",
    "\n",
    "print(ebola_5.iloc[:, :5])"
   ]
  },
  {
   "cell_type": "code",
   "execution_count": 466,
   "metadata": {},
   "outputs": [
    {
     "name": "stdout",
     "output_type": "stream",
     "text": [
      "            Day  Cases_Guinea  Cases_Liberia  Cases_SierraLeone  Cases_Nigeria\n",
      "Date                                                                          \n",
      "2015-01-05  289        2776.0            NaN            10030.0            NaN\n",
      "2015-01-04  288        2775.0            NaN             9780.0            NaN\n",
      "2015-01-03  287        2769.0         8166.0             9722.0            NaN\n",
      "2015-01-02  286           NaN         8157.0                NaN            NaN\n",
      "2014-12-31  284        2730.0         8115.0             9633.0            NaN\n"
     ]
    }
   ],
   "source": [
    "#agora podemos reindexar nossos dados com reindex\n",
    "ebola_5.reindex(head_range)\n",
    "print(ebola_5.iloc[:, :5])"
   ]
  },
  {
   "cell_type": "markdown",
   "metadata": {},
   "source": [
    "11.10.1 Frequências"
   ]
  },
  {
   "cell_type": "markdown",
   "metadata": {},
   "source": [
    "Quando criamos head_range, a saída de print possuia um parâmetro chamado freq, que representa algum incremente em passos, neste caso era de dias 'D'.  \n",
    "O livro tem uma tabela com as possíveis frequências"
   ]
  },
  {
   "cell_type": "markdown",
   "metadata": {},
   "source": [
    "Esse parâmetro  pode ser chamado quando date_range é chamado."
   ]
  },
  {
   "cell_type": "code",
   "execution_count": 467,
   "metadata": {},
   "outputs": [
    {
     "name": "stdout",
     "output_type": "stream",
     "text": [
      "DatetimeIndex(['2017-01-02', '2017-01-03', '2017-01-04', '2017-01-05',\n",
      "               '2017-01-06'],\n",
      "              dtype='datetime64[ns]', freq='B')\n"
     ]
    }
   ],
   "source": [
    "#exemplo com a semana 01 de janeiro de 2017, que iníciou num domingo\n",
    "#B = Frequência de dias úteis\n",
    "print(pd.date_range('2017-01-01', '2017-01-07', freq='B'))"
   ]
  },
  {
   "cell_type": "markdown",
   "metadata": {},
   "source": [
    "11.10.2 Offsets"
   ]
  },
  {
   "cell_type": "markdown",
   "metadata": {},
   "source": [
    "Offsets são variações sobre uma frequencia base, onde você passa um valor em que as datas serão alternadas"
   ]
  },
  {
   "cell_type": "code",
   "execution_count": 468,
   "metadata": {},
   "outputs": [
    {
     "name": "stdout",
     "output_type": "stream",
     "text": [
      "DatetimeIndex(['2017-01-02', '2017-01-04', '2017-01-06'], dtype='datetime64[ns]', freq='2B')\n"
     ]
    }
   ],
   "source": [
    "#mostra os dias úteis pulando de 2 em 2\n",
    "print(pd.date_range('2017-01-01', '2017-01-07', freq='2B'))"
   ]
  },
  {
   "cell_type": "code",
   "execution_count": 469,
   "metadata": {},
   "outputs": [
    {
     "name": "stdout",
     "output_type": "stream",
     "text": [
      "DatetimeIndex(['2017-01-05', '2017-02-02', '2017-03-02', '2017-04-06',\n",
      "               '2017-05-04', '2017-06-01', '2017-07-06', '2017-08-03',\n",
      "               '2017-09-07', '2017-10-05', '2017-11-02', '2017-12-07'],\n",
      "              dtype='datetime64[ns]', freq='WOM-1THU')\n"
     ]
    }
   ],
   "source": [
    "# especificando a primeira quinta feira de todo mês de 2017\n",
    "print(pd.date_range('2017-01-01', '2017-12-31', freq='WOM-1THU'))"
   ]
  },
  {
   "cell_type": "code",
   "execution_count": 470,
   "metadata": {},
   "outputs": [
    {
     "name": "stdout",
     "output_type": "stream",
     "text": [
      "DatetimeIndex(['2017-01-20', '2017-02-17', '2017-03-17', '2017-04-21',\n",
      "               '2017-05-19', '2017-06-16', '2017-07-21', '2017-08-18',\n",
      "               '2017-09-15', '2017-10-20', '2017-11-17', '2017-12-15'],\n",
      "              dtype='datetime64[ns]', freq='WOM-3FRI')\n"
     ]
    }
   ],
   "source": [
    "#terceira sexta-feira de cada mês\n",
    "print(pd.date_range('2017-01-01', '2017-12-31', freq='WOM-3FRI'))"
   ]
  },
  {
   "cell_type": "markdown",
   "metadata": {},
   "source": [
    "11.11 Deslocando valores"
   ]
  },
  {
   "cell_type": "markdown",
   "metadata": {},
   "source": [
    "Existem alguns motivos pelos quais podemos querer deslocar as datas de um certo valor, como talvez corrigir algum erro de média nos dados."
   ]
  },
  {
   "cell_type": "markdown",
   "metadata": {},
   "source": [
    "Apesar de ebola não estarem organizados (tidy data), uma das vantagens do formato atual é poder plotar o surto"
   ]
  },
  {
   "cell_type": "code",
   "execution_count": 471,
   "metadata": {},
   "outputs": [
    {
     "data": {
      "image/png": "[encoded data removed]",
      "text/plain": [
       "<Figure size 640x480 with 1 Axes>"
      ]
     },
     "metadata": {},
     "output_type": "display_data"
    }
   ],
   "source": [
    "import matplotlib.pyplot as plt\n",
    "\n",
    "ebola.index = ebola['Date']\n",
    "\n",
    "fig, ax = plt.subplots()\n",
    "ax = ebola.plot(ax=ax)\n",
    "ax.legend(fontsize=7,\n",
    "          loc=2,\n",
    "          borderaxespad=0.)\n",
    "\n",
    "plt.show()"
   ]
  },
  {
   "cell_type": "markdown",
   "metadata": {},
   "source": [
    "Quando observamos um surto, uma informação útil é a rapidez com que o surto de espalha para outros países. Vamos olhar algumas colunas do nosso conjunto:"
   ]
  },
  {
   "cell_type": "code",
   "execution_count": 472,
   "metadata": {},
   "outputs": [
    {
     "name": "stdout",
     "output_type": "stream",
     "text": [
      "            Day  Cases_Guinea  Cases_Liberia\n",
      "Date                                        \n",
      "2014-04-04   13         143.0           18.0\n",
      "2014-04-01   10         127.0            8.0\n",
      "2014-03-31    9         122.0            8.0\n",
      "2014-03-29    7         112.0            7.0\n",
      "2014-03-28    6         112.0            3.0\n",
      "2014-03-27    5         103.0            8.0\n",
      "2014-03-26    4          86.0            NaN\n",
      "2014-03-25    3          86.0            NaN\n",
      "2014-03-24    2          86.0            NaN\n",
      "2014-03-22    0          49.0            NaN\n"
     ]
    }
   ],
   "source": [
    "ebola_sub = ebola[['Day', 'Cases_Guinea', 'Cases_Liberia']]\n",
    "print(ebola_sub.tail(10))"
   ]
  },
  {
   "cell_type": "markdown",
   "metadata": {},
   "source": [
    "A data de início do surto é diferente em cada país, oque faz com que seja difícil acompanhar curvas entre os países"
   ]
  },
  {
   "cell_type": "markdown",
   "metadata": {},
   "source": [
    "Queremos que todas as nossas datas tenham início em um dia 0 em comum, há alguns passo para fazer isso"
   ]
  },
  {
   "cell_type": "markdown",
   "metadata": {},
   "source": [
    "Antes vamos criar uma nova copia de ebola mas com o index correto"
   ]
  },
  {
   "cell_type": "code",
   "execution_count": 473,
   "metadata": {},
   "outputs": [
    {
     "name": "stdout",
     "output_type": "stream",
     "text": [
      "            Day  Cases_Guinea  Cases_Liberia  Cases_SierraLeone\n",
      "Date                                                           \n",
      "2015-01-05  289        2776.0            NaN            10030.0\n",
      "2015-01-04  288        2775.0            NaN             9780.0\n",
      "2015-01-03  287        2769.0         8166.0             9722.0\n",
      "2015-01-02  286           NaN         8157.0                NaN\n",
      "2014-12-31  284        2730.0         8115.0             9633.0\n",
      "...         ...           ...            ...                ...\n",
      "2014-03-27    5         103.0            8.0                6.0\n",
      "2014-03-26    4          86.0            NaN                NaN\n",
      "2014-03-25    3          86.0            NaN                NaN\n",
      "2014-03-24    2          86.0            NaN                NaN\n",
      "2014-03-22    0          49.0            NaN                NaN\n",
      "\n",
      "[122 rows x 4 columns]\n",
      "(122, 17)\n"
     ]
    }
   ],
   "source": [
    "ebola = pd.read_csv('../../data/country_timeseries.csv',\n",
    "                    index_col='Date',\n",
    "                    parse_dates=['Date'])\n",
    "print(ebola.iloc[:, :4])\n",
    "print(ebola.shape)"
   ]
  },
  {
   "cell_type": "markdown",
   "metadata": {},
   "source": [
    "Em primeiro lugar, temos que criar um intervalo de datas para preencher todas as datas ausentes em nosso dataframe.  \n",
    "Então quando deslocarmos os valores de nossas datas para baixo o número de dias pelo qual o dado será deslocado será igual o número de linhas que serão deslocadas.\n"
   ]
  },
  {
   "cell_type": "code",
   "execution_count": 474,
   "metadata": {},
   "outputs": [
    {
     "name": "stdout",
     "output_type": "stream",
     "text": [
      "DatetimeIndex(['2014-03-22', '2014-03-23', '2014-03-24', '2014-03-25',\n",
      "               '2014-03-26', '2014-03-27', '2014-03-28', '2014-03-29',\n",
      "               '2014-03-30', '2014-03-31',\n",
      "               ...\n",
      "               '2014-12-27', '2014-12-28', '2014-12-29', '2014-12-30',\n",
      "               '2014-12-31', '2015-01-01', '2015-01-02', '2015-01-03',\n",
      "               '2015-01-04', '2015-01-05'],\n",
      "              dtype='datetime64[ns]', length=290, freq='D')\n"
     ]
    }
   ],
   "source": [
    "new_idx = pd.date_range(ebola.index.min(), ebola.index.max())\n",
    "\n",
    "print(new_idx)"
   ]
  },
  {
   "cell_type": "code",
   "execution_count": 475,
   "metadata": {},
   "outputs": [],
   "source": [
    "#para corrigir isso podemos inverter a ordem do índicie\n",
    "new_idx = reversed(new_idx)"
   ]
  },
  {
   "cell_type": "markdown",
   "metadata": {},
   "source": [
    "Agora podemos reindexar nossos índicies de modo apropriado com reindex. Linhas de valores NaN serão criadas se o índicie ainda não estiver presente em nossos dados"
   ]
  },
  {
   "cell_type": "code",
   "execution_count": 476,
   "metadata": {},
   "outputs": [
    {
     "name": "stdout",
     "output_type": "stream",
     "text": [
      "(290, 17)\n"
     ]
    }
   ],
   "source": [
    "ebola = ebola.reindex(new_idx)\n",
    "print(ebola.shape)"
   ]
  },
  {
   "cell_type": "markdown",
   "metadata": {},
   "source": [
    "Se observarmos head e tail possuem valores que antes não existiam, ou seja, criaram novas linhas contendo valores NaN e na linha Date valores NaT (Not a Time)"
   ]
  },
  {
   "cell_type": "code",
   "execution_count": 477,
   "metadata": {},
   "outputs": [
    {
     "name": "stdout",
     "output_type": "stream",
     "text": [
      "              Day  Cases_Guinea  Cases_Liberia  Cases_SierraLeone\n",
      "Date                                                             \n",
      "2015-01-05  289.0        2776.0            NaN            10030.0\n",
      "2015-01-04  288.0        2775.0            NaN             9780.0\n",
      "2015-01-03  287.0        2769.0         8166.0             9722.0\n",
      "2015-01-02  286.0           NaN         8157.0                NaN\n",
      "2015-01-01    NaN           NaN            NaN                NaN\n",
      "...           ...           ...            ...                ...\n",
      "2014-03-26    4.0          86.0            NaN                NaN\n",
      "2014-03-25    3.0          86.0            NaN                NaN\n",
      "2014-03-24    2.0          86.0            NaN                NaN\n",
      "2014-03-23    NaN           NaN            NaN                NaN\n",
      "2014-03-22    0.0          49.0            NaN                NaN\n",
      "\n",
      "[290 rows x 4 columns]\n"
     ]
    }
   ],
   "source": [
    "print(ebola.iloc[:, :4])"
   ]
  },
  {
   "cell_type": "markdown",
   "metadata": {},
   "source": [
    "Agora que criamos o intervalo de dados e o atribuímos a index, precisamos   \n",
    "cácular a diferença entre a data mais antiga e a data mais antiga válida (Não nula) em nosso conjunto de dados"
   ]
  },
  {
   "cell_type": "markdown",
   "metadata": {},
   "source": [
    "Para isso vamos usar os métodos de Series last_valid_index que obtém a data mais antiga válida no dataframe. Também existe uma função análoga que se chama first_valid_index"
   ]
  },
  {
   "cell_type": "code",
   "execution_count": 479,
   "metadata": {},
   "outputs": [
    {
     "name": "stdout",
     "output_type": "stream",
     "text": [
      "Day                   2014-03-22\n",
      "Cases_Guinea          2014-03-22\n",
      "Cases_Liberia         2014-03-27\n",
      "Cases_SierraLeone     2014-03-27\n",
      "Cases_Nigeria         2014-07-23\n",
      "Cases_Senegal         2014-08-31\n",
      "Cases_UnitedStates    2014-10-01\n",
      "Cases_Spain           2014-10-08\n",
      "Cases_Mali            2014-10-22\n",
      "Deaths_Guinea         2014-03-22\n",
      "Deaths_Liberia        2014-03-27\n",
      "Deaths_SierraLeone    2014-03-27\n",
      "Deaths_Nigeria        2014-07-23\n",
      "Deaths_Senegal        2014-09-07\n",
      "Deaths_UnitedStates   2014-10-01\n",
      "Deaths_Spain          2014-10-08\n",
      "Deaths_Mali           2014-10-22\n",
      "dtype: datetime64[ns]\n"
     ]
    }
   ],
   "source": [
    "last_valid = ebola.apply(pd.Series.last_valid_index)\n",
    "print(last_valid)"
   ]
  },
  {
   "cell_type": "code",
   "execution_count": 481,
   "metadata": {},
   "outputs": [
    {
     "name": "stdout",
     "output_type": "stream",
     "text": [
      "2014-03-22 00:00:00\n"
     ]
    }
   ],
   "source": [
    "#Agora a data mais antiga do nosso cunjunto de dados\n",
    "earliest_date = ebola.index.min()\n",
    "print(earliest_date)"
   ]
  },
  {
   "cell_type": "code",
   "execution_count": 482,
   "metadata": {},
   "outputs": [
    {
     "name": "stdout",
     "output_type": "stream",
     "text": [
      "Day                     0 days\n",
      "Cases_Guinea            0 days\n",
      "Cases_Liberia           5 days\n",
      "Cases_SierraLeone       5 days\n",
      "Cases_Nigeria         123 days\n",
      "Cases_Senegal         162 days\n",
      "Cases_UnitedStates    193 days\n",
      "Cases_Spain           200 days\n",
      "Cases_Mali            214 days\n",
      "Deaths_Guinea           0 days\n",
      "Deaths_Liberia          5 days\n",
      "Deaths_SierraLeone      5 days\n",
      "Deaths_Nigeria        123 days\n",
      "Deaths_Senegal        169 days\n",
      "Deaths_UnitedStates   193 days\n",
      "Deaths_Spain          200 days\n",
      "Deaths_Mali           214 days\n",
      "dtype: timedelta64[ns]\n"
     ]
    }
   ],
   "source": [
    "shift_values = last_valid - earliest_date\n",
    "print(shift_values)"
   ]
  },
  {
   "cell_type": "markdown",
   "metadata": {},
   "source": [
    "Por fim, podemos iterar sobre cada coluna usando o método shift apra deslocar as colunas pelo valor correspondente em shift_values."
   ]
  },
  {
   "cell_type": "code",
   "execution_count": 484,
   "metadata": {},
   "outputs": [],
   "source": [
    "ebola_dict = {}\n",
    "for idx, col in enumerate(ebola):\n",
    "    d = shift_values.iloc[idx].days\n",
    "    shifted = ebola[col].shift(d)\n",
    "    ebola_dict[col] = shifted"
   ]
  },
  {
   "cell_type": "code",
   "execution_count": 488,
   "metadata": {},
   "outputs": [],
   "source": [
    "#como temos um dict com valores podemos converter ele para um dataframe\n",
    "ebola_shift = pd.DataFrame(ebola_dict)"
   ]
  },
  {
   "cell_type": "code",
   "execution_count": 489,
   "metadata": {},
   "outputs": [],
   "source": [
    "#os objetos dict não são ordenados, então podemos passar a possição das colunas originais para reordenar novamente\n",
    "ebola_shift = ebola_shift[ebola.columns]"
   ]
  },
  {
   "cell_type": "code",
   "execution_count": 491,
   "metadata": {},
   "outputs": [
    {
     "name": "stdout",
     "output_type": "stream",
     "text": [
      "            Day  Cases_Guinea  Cases_Liberia  Cases_SierraLeone  \\\n",
      "Date                                                              \n",
      "2014-03-26  4.0          86.0            8.0                2.0   \n",
      "2014-03-25  3.0          86.0            NaN                NaN   \n",
      "2014-03-24  2.0          86.0            7.0                NaN   \n",
      "2014-03-23  NaN           NaN            3.0                2.0   \n",
      "2014-03-22  0.0          49.0            8.0                6.0   \n",
      "\n",
      "            Cases_Nigeria  Cases_Senegal  Cases_UnitedStates  Cases_Spain  \\\n",
      "Date                                                                        \n",
      "2014-03-26            1.0            NaN                 1.0          1.0   \n",
      "2014-03-25            NaN            NaN                 NaN          NaN   \n",
      "2014-03-24            NaN            NaN                 NaN          NaN   \n",
      "2014-03-23            NaN            NaN                 NaN          NaN   \n",
      "2014-03-22            0.0            1.0                 1.0          1.0   \n",
      "\n",
      "            Cases_Mali  Deaths_Guinea  Deaths_Liberia  Deaths_SierraLeone  \\\n",
      "Date                                                                        \n",
      "2014-03-26         NaN           62.0             4.0                 2.0   \n",
      "2014-03-25         NaN           60.0             NaN                 NaN   \n",
      "2014-03-24         NaN           59.0             2.0                 NaN   \n",
      "2014-03-23         NaN            NaN             3.0                 2.0   \n",
      "2014-03-22         1.0           29.0             6.0                 5.0   \n",
      "\n",
      "            Deaths_Nigeria  Deaths_Senegal  Deaths_UnitedStates  Deaths_Spain  \\\n",
      "Date                                                                            \n",
      "2014-03-26             1.0             NaN                  0.0           1.0   \n",
      "2014-03-25             NaN             NaN                  NaN           NaN   \n",
      "2014-03-24             NaN             NaN                  NaN           NaN   \n",
      "2014-03-23             NaN             NaN                  NaN           NaN   \n",
      "2014-03-22             0.0             0.0                  0.0           1.0   \n",
      "\n",
      "            Deaths_Mali  \n",
      "Date                     \n",
      "2014-03-26          NaN  \n",
      "2014-03-25          NaN  \n",
      "2014-03-24          NaN  \n",
      "2014-03-23          NaN  \n",
      "2014-03-22          1.0  \n"
     ]
    }
   ],
   "source": [
    "#Podemos observar que agora o a última linha de cada coluna do dataframe possui um valor, ou seja, fora apropriadamente deslocados\n",
    "print(ebola_shift.tail())"
   ]
  },
  {
   "cell_type": "markdown",
   "metadata": {},
   "source": [
    "11.12 Reamostragem"
   ]
  }
 ],
 "metadata": {
  "kernelspec": {
   "display_name": "pfe_certo",
   "language": "python",
   "name": "python3"
  },
  "language_info": {
   "codemirror_mode": {
    "name": "ipython",
    "version": 3
   },
   "file_extension": ".py",
   "mimetype": "text/x-python",
   "name": "python",
   "nbconvert_exporter": "python",
   "pygments_lexer": "ipython3",
   "version": "3.12.3"
  }
 },
 "nbformat": 4,
 "nbformat_minor": 2
}

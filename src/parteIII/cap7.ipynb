{
 "cells": [
  {
   "cell_type": "markdown",
   "metadata": {},
   "source": [
    "CAPÍTULO 7 - Tipos de dados\n",
    "-\n"
   ]
  },
  {
   "cell_type": "markdown",
   "metadata": {},
   "source": [
    "Este capítulo mostra os diversos tipos de dados que você pode encontrar no Pandas e formas de como converter um tipo em outro"
   ]
  },
  {
   "cell_type": "markdown",
   "metadata": {},
   "source": [
    "7.2 Tipos de Dados"
   ]
  },
  {
   "cell_type": "markdown",
   "metadata": {},
   "source": [
    "Neste capítulo usaremos o conjunto de dados \"tips\" do seaborn"
   ]
  },
  {
   "cell_type": "code",
   "execution_count": 1,
   "metadata": {},
   "outputs": [],
   "source": [
    "import pandas as pd\n",
    "import seaborn as sns\n",
    "\n",
    "tips = sns.load_dataset(\"tips\")"
   ]
  },
  {
   "cell_type": "markdown",
   "metadata": {},
   "source": [
    "Usamos o atributo dtypes apra ver os tipos de dados armazenados em uma variável (coluna)"
   ]
  },
  {
   "cell_type": "code",
   "execution_count": 2,
   "metadata": {},
   "outputs": [
    {
     "name": "stdout",
     "output_type": "stream",
     "text": [
      "total_bill     float64\n",
      "tip            float64\n",
      "sex           category\n",
      "smoker        category\n",
      "day           category\n",
      "time          category\n",
      "size             int64\n",
      "dtype: object\n"
     ]
    }
   ],
   "source": [
    "print(tips.dtypes)"
   ]
  },
  {
   "cell_type": "markdown",
   "metadata": {},
   "source": [
    "O número após o tipo do dado representa a quantidade de bits de informação que será armazenada para aquele número em particular"
   ]
  },
  {
   "cell_type": "markdown",
   "metadata": {},
   "source": [
    "O tipo category representa variáveis categorizadas e difere do tipo object genérico que armazena strings arbitrárias. Mas ainda exploraremos melhor essas diferenças depois"
   ]
  },
  {
   "cell_type": "markdown",
   "metadata": {},
   "source": [
    "7.3 Convertendo tipos"
   ]
  },
  {
   "cell_type": "markdown",
   "metadata": {},
   "source": [
    "O tipo de dado armazenado em uma coluna determina as funções e cálculos que podem ser realizados com os dados da coluna.  \n",
    "Por isso é importante saber converter esse tipos de dados"
   ]
  },
  {
   "cell_type": "markdown",
   "metadata": {},
   "source": [
    "7.3.1 Convertendo para objetos string"
   ]
  },
  {
   "cell_type": "markdown",
   "metadata": {},
   "source": [
    "Para converter valores em strigs usamos o métdo astype na coluna. astype aceita uma parâmetro dtype que será o novo valor tipo de dado assumido pela coluna"
   ]
  },
  {
   "cell_type": "code",
   "execution_count": 3,
   "metadata": {},
   "outputs": [
    {
     "name": "stdout",
     "output_type": "stream",
     "text": [
      "total_bill     float64\n",
      "tip            float64\n",
      "sex           category\n",
      "smoker        category\n",
      "day           category\n",
      "time          category\n",
      "size             int64\n",
      "sex_str         object\n",
      "dtype: object\n"
     ]
    }
   ],
   "source": [
    "tips['sex_str'] = tips['sex'].astype(str)\n",
    "\n",
    "print(tips.dtypes)"
   ]
  },
  {
   "cell_type": "markdown",
   "metadata": {},
   "source": [
    "Python tem tipos embutidos como str, float, int, complex e bool, mas podemos especificar qualquer tipo de dtype da biblioteca numpy"
   ]
  },
  {
   "cell_type": "markdown",
   "metadata": {},
   "source": [
    "7.3.2 Convertendo para valores númericos"
   ]
  },
  {
   "cell_type": "code",
   "execution_count": 4,
   "metadata": {},
   "outputs": [
    {
     "name": "stdout",
     "output_type": "stream",
     "text": [
      "total_bill      object\n",
      "tip            float64\n",
      "sex           category\n",
      "smoker        category\n",
      "day           category\n",
      "time          category\n",
      "size             int64\n",
      "sex_str         object\n",
      "dtype: object\n"
     ]
    }
   ],
   "source": [
    "#converte total_bill para uma string\n",
    "\n",
    "tips['total_bill'] = tips['total_bill'].astype(str)\n",
    "\n",
    "print(tips.dtypes)"
   ]
  },
  {
   "cell_type": "code",
   "execution_count": 5,
   "metadata": {},
   "outputs": [
    {
     "name": "stdout",
     "output_type": "stream",
     "text": [
      "total_bill     float64\n",
      "tip            float64\n",
      "sex           category\n",
      "smoker        category\n",
      "day           category\n",
      "time          category\n",
      "size             int64\n",
      "sex_str         object\n",
      "dtype: object\n"
     ]
    }
   ],
   "source": [
    "#converte de volta para flaot\n",
    "tips['total_bill'] = tips['total_bill'].astype(float)\n",
    "\n",
    "print(tips.dtypes)"
   ]
  },
  {
   "cell_type": "markdown",
   "metadata": {},
   "source": [
    "7.3.2.1 to_numeric"
   ]
  },
  {
   "cell_type": "markdown",
   "metadata": {},
   "source": [
    "Ao converter variáveis em valores númericos, podemos usar a função to_numeric do pandas que trata melhor com valores não númericos"
   ]
  },
  {
   "cell_type": "code",
   "execution_count": 6,
   "metadata": {},
   "outputs": [
    {
     "name": "stdout",
     "output_type": "stream",
     "text": [
      "  total_bill   tip     sex smoker  day    time  size sex_str\n",
      "0      16.99  1.01  Female     No  Sun  Dinner     2  Female\n",
      "1    missing  1.66    Male     No  Sun  Dinner     3    Male\n",
      "2      21.01  3.50    Male     No  Sun  Dinner     3    Male\n",
      "3    missing  3.31    Male     No  Sun  Dinner     2    Male\n",
      "4      24.59  3.61  Female     No  Sun  Dinner     4  Female\n",
      "5    missing  4.71    Male     No  Sun  Dinner     4    Male\n",
      "6       8.77  2.00    Male     No  Sun  Dinner     2    Male\n",
      "7    missing  3.12    Male     No  Sun  Dinner     4    Male\n",
      "8      15.04  1.96    Male     No  Sun  Dinner     2    Male\n",
      "9      14.78  3.23    Male     No  Sun  Dinner     2    Male\n"
     ]
    },
    {
     "name": "stderr",
     "output_type": "stream",
     "text": [
      "C:\\Users\\User\\AppData\\Local\\Temp\\ipykernel_18252\\4031630573.py:5: FutureWarning: Setting an item of incompatible dtype is deprecated and will raise an error in a future version of pandas. Value 'missing' has dtype incompatible with float64, please explicitly cast to a compatible dtype first.\n",
      "  tips_sub_miss.loc[[1,3,5,7], 'total_bill'] = 'missing'\n"
     ]
    }
   ],
   "source": [
    "#cria um subconjunto de tips\n",
    "tips_sub_miss = tips.head(10)\n",
    "\n",
    "#atribui alguns valores ausentes ('missing')\n",
    "tips_sub_miss.loc[[1,3,5,7], 'total_bill'] = 'missing'\n",
    "\n",
    "print(tips_sub_miss)"
   ]
  },
  {
   "cell_type": "code",
   "execution_count": 7,
   "metadata": {},
   "outputs": [
    {
     "name": "stdout",
     "output_type": "stream",
     "text": [
      "total_bill      object\n",
      "tip            float64\n",
      "sex           category\n",
      "smoker        category\n",
      "day           category\n",
      "time          category\n",
      "size             int64\n",
      "sex_str         object\n",
      "dtype: object\n"
     ]
    }
   ],
   "source": [
    "print(tips_sub_miss.dtypes)"
   ]
  },
  {
   "cell_type": "markdown",
   "metadata": {},
   "source": [
    "Ao colocar alguns valores 'missing' ao invés de NaN converte o tipo de dado da variável para string, mas dá um alerta de erro dizendo para converter para um tipo compativel"
   ]
  },
  {
   "cell_type": "code",
   "execution_count": 8,
   "metadata": {},
   "outputs": [
    {
     "name": "stdout",
     "output_type": "stream",
     "text": [
      "  total_bill   tip     sex smoker  day    time  size sex_str\n",
      "0      16.99  1.01  Female     No  Sun  Dinner     2  Female\n",
      "1    missing  1.66    Male     No  Sun  Dinner     3    Male\n",
      "2      21.01  3.50    Male     No  Sun  Dinner     3    Male\n",
      "3    missing  3.31    Male     No  Sun  Dinner     2    Male\n",
      "4      24.59  3.61  Female     No  Sun  Dinner     4  Female\n",
      "5    missing  4.71    Male     No  Sun  Dinner     4    Male\n",
      "6       8.77  2.00    Male     No  Sun  Dinner     2    Male\n",
      "7    missing  3.12    Male     No  Sun  Dinner     4    Male\n",
      "8      15.04  1.96    Male     No  Sun  Dinner     2    Male\n",
      "9      14.78  3.23    Male     No  Sun  Dinner     2    Male\n"
     ]
    }
   ],
   "source": [
    "print(tips_sub_miss)"
   ]
  },
  {
   "cell_type": "markdown",
   "metadata": {},
   "source": [
    "Se tentarmos converter total_bill para flaot novamente dará em um erro pois o pandas não consegue converter 'missing' em um float"
   ]
  },
  {
   "cell_type": "code",
   "execution_count": 9,
   "metadata": {},
   "outputs": [
    {
     "data": {
      "text/plain": [
       "\"\\ntips_sub_miss['total_bill'] = tips_sub_miss['total_bill'].astype(float)\\n\""
      ]
     },
     "execution_count": 9,
     "metadata": {},
     "output_type": "execute_result"
    }
   ],
   "source": [
    "\"\"\"\n",
    "tips_sub_miss['total_bill'] = tips_sub_miss['total_bill'].astype(float)\n",
    "\"\"\""
   ]
  },
  {
   "cell_type": "markdown",
   "metadata": {},
   "source": [
    "Se usarmos to_numeric vemos um erro semelhante"
   ]
  },
  {
   "cell_type": "code",
   "execution_count": 10,
   "metadata": {},
   "outputs": [
    {
     "data": {
      "text/plain": [
       "\"\\npd.to_numeric(tips_sub_miss['total_bill'])\\n\""
      ]
     },
     "execution_count": 10,
     "metadata": {},
     "output_type": "execute_result"
    }
   ],
   "source": [
    "\"\"\"\n",
    "pd.to_numeric(tips_sub_miss['total_bill'])\n",
    "\"\"\""
   ]
  },
  {
   "cell_type": "markdown",
   "metadata": {},
   "source": [
    "Porém to_numeric possui um parâmetro chamado errors que determina o que acontece quando um valor que não pode ser convertido é detectado  \n",
    "\n",
    " - 'raise' (default) gerará um erro\n",
    " - 'coerce' develverá NaN para os valores que não puderem ser convertidos\n",
    " - 'ignore' devolverá o vetor sem converter, ou seja, não vai fazer nada"
   ]
  },
  {
   "cell_type": "code",
   "execution_count": 11,
   "metadata": {},
   "outputs": [
    {
     "name": "stdout",
     "output_type": "stream",
     "text": [
      "0    16.99\n",
      "1      NaN\n",
      "2    21.01\n",
      "3      NaN\n",
      "4    24.59\n",
      "5      NaN\n",
      "6     8.77\n",
      "7      NaN\n",
      "8    15.04\n",
      "9    14.78\n",
      "Name: total_bill, dtype: float64 \n",
      "\n",
      "total_bill     float64\n",
      "tip            float64\n",
      "sex           category\n",
      "smoker        category\n",
      "day           category\n",
      "time          category\n",
      "size             int64\n",
      "sex_str         object\n",
      "dtype: object\n"
     ]
    }
   ],
   "source": [
    "#sinaliza que estamos modificando uma cópia do dataframe original para evitar mensagens de alerta \n",
    "tips_sub_miss = tips_sub_miss.copy()\n",
    "tips_sub_miss['total_bill'] = pd.to_numeric(tips_sub_miss['total_bill'], errors='coerce')\n",
    "\n",
    "print(tips_sub_miss['total_bill'], '\\n')\n",
    "print(tips_sub_miss.dtypes)"
   ]
  },
  {
   "cell_type": "markdown",
   "metadata": {},
   "source": [
    "7.3.2.2 Parâmetro downcast de to_numeric"
   ]
  },
  {
   "cell_type": "markdown",
   "metadata": {},
   "source": [
    "A função to_numeric tem outro parâmetro, chamado downcast, que permite alterar o dtype numérico para o menor dtype numérico possível (fazer um downcast).  \n",
    "Por padrão o valor definido é None mas podemos passar 'integer', 'signed', 'unsigned' e 'float'."
   ]
  },
  {
   "cell_type": "code",
   "execution_count": 12,
   "metadata": {},
   "outputs": [
    {
     "name": "stdout",
     "output_type": "stream",
     "text": [
      "0    16.99\n",
      "1      NaN\n",
      "2    21.01\n",
      "3      NaN\n",
      "4    24.59\n",
      "5      NaN\n",
      "6     8.77\n",
      "7      NaN\n",
      "8    15.04\n",
      "9    14.78\n",
      "Name: total_bill, dtype: float32 \n",
      "\n",
      "total_bill     float32\n",
      "tip            float64\n",
      "sex           category\n",
      "smoker        category\n",
      "day           category\n",
      "time          category\n",
      "size             int64\n",
      "sex_str         object\n",
      "dtype: object\n"
     ]
    }
   ],
   "source": [
    "\n",
    "tips_sub_miss['total_bill'] = pd.to_numeric(\n",
    "    tips_sub_miss['total_bill'],\n",
    "      errors='coerce',\n",
    "      downcast='float'\n",
    "      )\n",
    "\n",
    "print(tips_sub_miss['total_bill'], '\\n')\n",
    "print(tips_sub_miss.dtypes)"
   ]
  },
  {
   "cell_type": "markdown",
   "metadata": {},
   "source": [
    "7.4 Dados categorizados"
   ]
  },
  {
   "cell_type": "markdown",
   "metadata": {},
   "source": [
    "Nem todos os valorews são númericos. O Pandas tem um dtype category, em que codifica valores de categorias."
   ]
  },
  {
   "cell_type": "markdown",
   "metadata": {},
   "source": [
    "Alguns casos onde usamos category:\n",
    " - Armazenar dados neste formato pode ser melhor para a memórias e velociade, princiálmente se um conjunto de dados incluir muitos valores repetidos de string\n",
    " - Dados categorizados podem ser últil quando uma coluna tem valores em ordem (exemplo, uma escala de Likert)\n",
    " - Algumas bibliotecas python sabem lidar com dados categorizados (por exemplo, na adequação de modelos estatísticos)"
   ]
  },
  {
   "cell_type": "markdown",
   "metadata": {},
   "source": [
    "7.4.1 Conversão de categoria"
   ]
  },
  {
   "cell_type": "code",
   "execution_count": 13,
   "metadata": {},
   "outputs": [
    {
     "name": "stdout",
     "output_type": "stream",
     "text": [
      "<class 'pandas.core.frame.DataFrame'>\n",
      "RangeIndex: 244 entries, 0 to 243\n",
      "Data columns (total 8 columns):\n",
      " #   Column      Non-Null Count  Dtype   \n",
      "---  ------      --------------  -----   \n",
      " 0   total_bill  244 non-null    float64 \n",
      " 1   tip         244 non-null    float64 \n",
      " 2   sex         244 non-null    object  \n",
      " 3   smoker      244 non-null    category\n",
      " 4   day         244 non-null    category\n",
      " 5   time        244 non-null    category\n",
      " 6   size        244 non-null    int64   \n",
      " 7   sex_str     244 non-null    object  \n",
      "dtypes: category(3), float64(2), int64(1), object(2)\n",
      "memory usage: 10.8+ KB\n",
      "None\n"
     ]
    }
   ],
   "source": [
    "tips['sex'] = tips['sex'].astype('str')\n",
    "\n",
    "print(tips.info())"
   ]
  },
  {
   "cell_type": "code",
   "execution_count": 14,
   "metadata": {},
   "outputs": [
    {
     "name": "stdout",
     "output_type": "stream",
     "text": [
      "<class 'pandas.core.frame.DataFrame'>\n",
      "RangeIndex: 244 entries, 0 to 243\n",
      "Data columns (total 8 columns):\n",
      " #   Column      Non-Null Count  Dtype   \n",
      "---  ------      --------------  -----   \n",
      " 0   total_bill  244 non-null    float64 \n",
      " 1   tip         244 non-null    float64 \n",
      " 2   sex         244 non-null    category\n",
      " 3   smoker      244 non-null    category\n",
      " 4   day         244 non-null    category\n",
      " 5   time        244 non-null    category\n",
      " 6   size        244 non-null    int64   \n",
      " 7   sex_str     244 non-null    object  \n",
      "dtypes: category(4), float64(2), int64(1), object(1)\n",
      "memory usage: 9.3+ KB\n",
      "None\n"
     ]
    }
   ],
   "source": [
    "#converte sex de volta para dados categorizados\n",
    "tips['sex'] = tips['sex'].astype('category')\n",
    "\n",
    "print(tips.info())"
   ]
  },
  {
   "cell_type": "markdown",
   "metadata": {},
   "source": [
    "7.4.2 Manipulando dados categorizados"
   ]
  },
  {
   "cell_type": "markdown",
   "metadata": {},
   "source": [
    "No livro tem uma tabelas com operações que são possíveis de realizar com dados categorizados"
   ]
  },
  {
   "cell_type": "code",
   "execution_count": 15,
   "metadata": {},
   "outputs": [
    {
     "name": "stdout",
     "output_type": "stream",
     "text": [
      "Index(['Female', 'Male'], dtype='object') \n",
      "\n",
      "False \n",
      "\n",
      "0      0\n",
      "1      1\n",
      "2      1\n",
      "3      1\n",
      "4      0\n",
      "      ..\n",
      "239    1\n",
      "240    0\n",
      "241    1\n",
      "242    1\n",
      "243    0\n",
      "Length: 244, dtype: int8 \n",
      "\n"
     ]
    }
   ],
   "source": [
    "print(tips['sex'].cat.categories, '\\n')\n",
    "print(tips['sex'].cat.ordered, '\\n')\n",
    "print(tips['sex'].cat.codes, '\\n')"
   ]
  },
  {
   "cell_type": "code",
   "execution_count": 16,
   "metadata": {},
   "outputs": [
    {
     "name": "stdout",
     "output_type": "stream",
     "text": [
      "   total_bill   tip smoker  day    time  size sex_str sex_cat\n",
      "0       16.99  1.01     No  Sun  Dinner     2  Female  Female\n",
      "1         NaN  1.66     No  Sun  Dinner     3    Male    Male\n",
      "2       21.01  3.50     No  Sun  Dinner     3    Male    Male\n",
      "3         NaN  3.31     No  Sun  Dinner     2    Male    Male\n",
      "4       24.59  3.61     No  Sun  Dinner     4  Female  Female\n",
      "5         NaN  4.71     No  Sun  Dinner     4    Male    Male\n",
      "6        8.77  2.00     No  Sun  Dinner     2    Male    Male\n",
      "7         NaN  3.12     No  Sun  Dinner     4    Male    Male\n",
      "8       15.04  1.96     No  Sun  Dinner     2    Male    Male\n",
      "9       14.78  3.23     No  Sun  Dinner     2    Male    Male\n"
     ]
    }
   ],
   "source": [
    "tips_sub_miss['sex_cat'] = tips_sub_miss['sex']\n",
    "tips_sub_miss.drop(columns=['sex'], inplace=True)\n",
    "\n",
    "print(tips_sub_miss)"
   ]
  },
  {
   "cell_type": "markdown",
   "metadata": {},
   "source": [
    "Renomeando as categorias"
   ]
  },
  {
   "cell_type": "code",
   "execution_count": 17,
   "metadata": {},
   "outputs": [
    {
     "name": "stdout",
     "output_type": "stream",
     "text": [
      "   total_bill   tip smoker  day    time  size sex_str sex_cat\n",
      "0       16.99  1.01     No  Sun  Dinner     2  Female  Mulher\n",
      "1         NaN  1.66     No  Sun  Dinner     3    Male   Homem\n",
      "2       21.01  3.50     No  Sun  Dinner     3    Male   Homem\n",
      "3         NaN  3.31     No  Sun  Dinner     2    Male   Homem\n",
      "4       24.59  3.61     No  Sun  Dinner     4  Female  Mulher\n",
      "5         NaN  4.71     No  Sun  Dinner     4    Male   Homem\n",
      "6        8.77  2.00     No  Sun  Dinner     2    Male   Homem\n",
      "7         NaN  3.12     No  Sun  Dinner     4    Male   Homem\n",
      "8       15.04  1.96     No  Sun  Dinner     2    Male   Homem\n",
      "9       14.78  3.23     No  Sun  Dinner     2    Male   Homem\n"
     ]
    }
   ],
   "source": [
    "tips_sub_miss['sex_cat'] = tips_sub_miss['sex_cat'].cat.rename_categories({'Female': 'Mulher', 'Male': 'Homem'})\n",
    "\n",
    "print(tips_sub_miss)"
   ]
  }
 ],
 "metadata": {
  "kernelspec": {
   "display_name": "pfe_certo",
   "language": "python",
   "name": "python3"
  },
  "language_info": {
   "codemirror_mode": {
    "name": "ipython",
    "version": 3
   },
   "file_extension": ".py",
   "mimetype": "text/x-python",
   "name": "python",
   "nbconvert_exporter": "python",
   "pygments_lexer": "ipython3",
   "version": "3.12.3"
  }
 },
 "nbformat": 4,
 "nbformat_minor": 2
}

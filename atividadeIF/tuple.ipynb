{
 "cells": [
  {
   "cell_type": "code",
   "execution_count": 17,
   "metadata": {},
   "outputs": [
    {
     "name": "stdout",
     "output_type": "stream",
     "text": [
      "\n",
      "Digite 1 - tamanho das tuples\n",
      "Digite 2 - maior e menor elemento das tuples\n",
      "Digite 3 - soma dos elementos de cada tuple\n",
      "Digite 4 - junção das tuples\n",
      "Digite 5 - verifica se um elemento digitado está na tuple \n",
      "\n",
      "O número está na tuple\n",
      "\n",
      "Digite 1 - tamanho das tuples\n",
      "Digite 2 - maior e menor elemento das tuples\n",
      "Digite 3 - soma dos elementos de cada tuple\n",
      "Digite 4 - junção das tuples\n",
      "Digite 5 - verifica se um elemento digitado está na tuple \n",
      "\n",
      "A junção das tuples fica: (14, 89, 12, 15, 98, -6, -7, -99, 568, 123, 43)\n",
      "\n",
      "Digite 1 - tamanho das tuples\n",
      "Digite 2 - maior e menor elemento das tuples\n",
      "Digite 3 - soma dos elementos de cada tuple\n",
      "Digite 4 - junção das tuples\n",
      "Digite 5 - verifica se um elemento digitado está na tuple \n",
      "\n",
      "A junção das tuples fica: (14, 89, 12, 15, 98, -6, -7, -99, 568, 123, 43)\n",
      "\n",
      "Digite 1 - tamanho das tuples\n",
      "Digite 2 - maior e menor elemento das tuples\n",
      "Digite 3 - soma dos elementos de cada tuple\n",
      "Digite 4 - junção das tuples\n",
      "Digite 5 - verifica se um elemento digitado está na tuple \n",
      "\n",
      "o programa foi finalizado\n"
     ]
    }
   ],
   "source": [
    "tuple1 = (14, 89, 12, 15, 98)\n",
    "tuple2 = (-6, -7, -99, 568, 123, 43)\n",
    "\n",
    "while True:\n",
    "    print('\\nDigite 1 - tamanho das tuples')\n",
    "    print('Digite 2 - maior e menor elemento das tuples')\n",
    "    print('Digite 3 - soma dos elementos de cada tuple')\n",
    "    print('Digite 4 - junção das tuples')\n",
    "    print('Digite 5 - verifica se um elemento digitado está na tuple \\n')\n",
    "\n",
    "    i = int(input('Digite o número 0 para sair'))\n",
    "\n",
    "    if i == 0:\n",
    "        print('o programa foi finalizado')\n",
    "        break\n",
    "    if i == 1:\n",
    "        print(f'O tamanho da tuple 1 é: {len(tuple1)}')\n",
    "        print(f'O tamanho da tuple 2 é: {len(tuple2)}')\n",
    "    if i == 2:\n",
    "        concat_tuples = tuple1 + tuple2\n",
    "        print(f'O maior número dentro das tuples é {max(concat_tuples)}')\n",
    "        print(f'O menor número dentro das tuples é {min(concat_tuples)}')\n",
    "    if i == 3:\n",
    "        print(f'A soma dos números das tuples é de {sum(tuple1 + tuple2)}')\n",
    "    if i == 4:\n",
    "        print(f'A junção das tuples fica: {tuple1 + tuple2}')\n",
    "    if i == 5:\n",
    "        element = int(input('Digite um número: '))\n",
    "        if element in concat_tuples:\n",
    "            concat_tuples = tuple1 + tuple2\n",
    "            print('O número está na tuple')\n",
    "        else:\n",
    "            print('O número não está na tuple')\n"
   ]
  },
  {
   "cell_type": "code",
   "execution_count": null,
   "metadata": {},
   "outputs": [],
   "source": []
  }
 ],
 "metadata": {
  "kernelspec": {
   "display_name": "pfe_certo",
   "language": "python",
   "name": "python3"
  },
  "language_info": {
   "codemirror_mode": {
    "name": "ipython",
    "version": 3
   },
   "file_extension": ".py",
   "mimetype": "text/x-python",
   "name": "python",
   "nbconvert_exporter": "python",
   "pygments_lexer": "ipython3",
   "version": "3.12.3"
  }
 },
 "nbformat": 4,
 "nbformat_minor": 2
}

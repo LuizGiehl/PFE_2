{
 "cells": [
  {
   "cell_type": "markdown",
   "metadata": {},
   "source": [
    "CAPÍTULO 13 - Modelos Lineares Generalizados\n",
    "-\n"
   ]
  },
  {
   "cell_type": "markdown",
   "metadata": {},
   "source": [
    "13.1 Introdução"
   ]
  },
  {
   "cell_type": "markdown",
   "metadata": {},
   "source": [
    "Nem toda variável de resposta é contínua, portanto nem sempre uma regressão linear será o modelo correto em todas as ocasiões.  \n",
    "Uma classe geral de modelos chamada GLM (Generalizad Linear Models, ou modelos lineares generalizados) pode dar conta desse tipo de dado."
   ]
  },
  {
   "cell_type": "markdown",
   "metadata": {},
   "source": [
    "13.2 Regressão logística"
   ]
  },
  {
   "cell_type": "markdown",
   "metadata": {},
   "source": [
    "Regressão logística é muito usada para uma variável de resposta binária."
   ]
  },
  {
   "cell_type": "code",
   "execution_count": 36,
   "metadata": {},
   "outputs": [
    {
     "name": "stdout",
     "output_type": "stream",
     "text": [
      "Index(['Acres', 'FamilyIncome', 'FamilyType', 'NumBedrooms', 'NumChildren',\n",
      "       'NumPeople', 'NumRooms', 'NumUnits', 'NumVehicles', 'NumWorkers',\n",
      "       'OwnRent', 'YearBuilt', 'HouseCosts', 'ElectricBill', 'FoodStamp',\n",
      "       'HeatingFuel', 'Insurance', 'Language'],\n",
      "      dtype='object')\n"
     ]
    }
   ],
   "source": [
    "import pandas as pd\n",
    "\n",
    "acs = pd.read_csv('../../data/acs_ny.csv')\n",
    "print(acs.columns)"
   ]
  },
  {
   "cell_type": "code",
   "execution_count": 37,
   "metadata": {},
   "outputs": [
    {
     "name": "stdout",
     "output_type": "stream",
     "text": [
      "  Acres  FamilyIncome   FamilyType  NumBedrooms  NumChildren  NumPeople  \\\n",
      "0  1-10           150      Married            4            1          3   \n",
      "1  1-10           180  Female Head            3            2          4   \n",
      "2  1-10           280  Female Head            4            0          2   \n",
      "3  1-10           330  Female Head            2            1          2   \n",
      "4  1-10           330    Male Head            3            1          2   \n",
      "\n",
      "   NumRooms         NumUnits  NumVehicles  NumWorkers   OwnRent    YearBuilt  \\\n",
      "0         9  Single detached            1           0  Mortgage    1950-1959   \n",
      "1         6  Single detached            2           0    Rented  Before 1939   \n",
      "2         8  Single detached            3           1  Mortgage    2000-2004   \n",
      "3         4  Single detached            1           0    Rented    1950-1959   \n",
      "4         5  Single attached            1           0  Mortgage  Before 1939   \n",
      "\n",
      "   HouseCosts  ElectricBill FoodStamp HeatingFuel  Insurance        Language  \n",
      "0        1800            90        No         Gas       2500         English  \n",
      "1         850            90        No         Oil          0         English  \n",
      "2        2600           260        No         Oil       6600  Other European  \n",
      "3        1800           140        No         Oil          0         English  \n",
      "4         860           150        No         Gas        660         Spanish  \n"
     ]
    }
   ],
   "source": [
    "print(acs.head())"
   ]
  },
  {
   "cell_type": "markdown",
   "metadata": {},
   "source": [
    "Para modelar esse dados, devemos inicialmente criar uma variável de resposta binária. Nesse caso a variável FamilyIncome."
   ]
  },
  {
   "cell_type": "code",
   "execution_count": 38,
   "metadata": {},
   "outputs": [
    {
     "name": "stdout",
     "output_type": "stream",
     "text": [
      "ge150k_i\n",
      "0    18294\n",
      "1     4451\n",
      "Name: count, dtype: int64\n"
     ]
    }
   ],
   "source": [
    "acs['ge150k'] = pd.cut(acs['FamilyIncome'], #refencia a coluna que será usada\n",
    "                       [0,150000, acs['FamilyIncome'].max()], #cria dois intervalos, de 0 à 150000 e de 150000 até o valor máximo da coluna\n",
    "                       labels=[0, 1]) #atribuí um rotulo a cada intervalo 0 = renda até 150000, 1 = renda acima de 150000\n",
    "\n",
    "acs['ge150k_i'] = acs['ge150k'].astype(int) #converte os rotulos para valores inteiros, se não fizesemos isso a coluna sería category\n",
    "\n",
    "print(acs['ge150k_i'].value_counts())"
   ]
  },
  {
   "cell_type": "markdown",
   "metadata": {},
   "source": [
    "Ao fazer isso, criamos uma variável binária"
   ]
  },
  {
   "cell_type": "code",
   "execution_count": 39,
   "metadata": {},
   "outputs": [
    {
     "name": "stdout",
     "output_type": "stream",
     "text": [
      "<class 'pandas.core.frame.DataFrame'>\n",
      "RangeIndex: 22745 entries, 0 to 22744\n",
      "Data columns (total 20 columns):\n",
      " #   Column        Non-Null Count  Dtype   \n",
      "---  ------        --------------  -----   \n",
      " 0   Acres         22745 non-null  object  \n",
      " 1   FamilyIncome  22745 non-null  int64   \n",
      " 2   FamilyType    22745 non-null  object  \n",
      " 3   NumBedrooms   22745 non-null  int64   \n",
      " 4   NumChildren   22745 non-null  int64   \n",
      " 5   NumPeople     22745 non-null  int64   \n",
      " 6   NumRooms      22745 non-null  int64   \n",
      " 7   NumUnits      22745 non-null  object  \n",
      " 8   NumVehicles   22745 non-null  int64   \n",
      " 9   NumWorkers    22745 non-null  int64   \n",
      " 10  OwnRent       22745 non-null  object  \n",
      " 11  YearBuilt     22745 non-null  object  \n",
      " 12  HouseCosts    22745 non-null  int64   \n",
      " 13  ElectricBill  22745 non-null  int64   \n",
      " 14  FoodStamp     22745 non-null  object  \n",
      " 15  HeatingFuel   22722 non-null  object  \n",
      " 16  Insurance     22745 non-null  int64   \n",
      " 17  Language      22745 non-null  object  \n",
      " 18  ge150k        22745 non-null  category\n",
      " 19  ge150k_i      22745 non-null  int32   \n",
      "dtypes: category(1), int32(1), int64(10), object(8)\n",
      "memory usage: 3.2+ MB\n"
     ]
    }
   ],
   "source": [
    "acs.info()"
   ]
  },
  {
   "cell_type": "markdown",
   "metadata": {},
   "source": [
    "13.2.1 Usando a statsmodels"
   ]
  },
  {
   "cell_type": "markdown",
   "metadata": {},
   "source": [
    "Para fazer a regressão logística, podemos usar a regressão logit. A sintaxe é a mesma usada para egressão linear."
   ]
  },
  {
   "cell_type": "code",
   "execution_count": 41,
   "metadata": {},
   "outputs": [
    {
     "name": "stdout",
     "output_type": "stream",
     "text": [
      "Optimization terminated successfully.\n",
      "         Current function value: 0.391651\n",
      "         Iterations 7\n"
     ]
    }
   ],
   "source": [
    "import statsmodels.formula.api as smf \n",
    "\n",
    "model = smf.logit('ge150k_i ~ HouseCosts + NumWorkers + OwnRent + NumBedrooms + FamilyType',\n",
    "                  data=acs)\n",
    "results = model.fit()"
   ]
  },
  {
   "cell_type": "code",
   "execution_count": 42,
   "metadata": {},
   "outputs": [
    {
     "name": "stdout",
     "output_type": "stream",
     "text": [
      "                           Logit Regression Results                           \n",
      "==============================================================================\n",
      "Dep. Variable:               ge150k_i   No. Observations:                22745\n",
      "Model:                          Logit   Df Residuals:                    22737\n",
      "Method:                           MLE   Df Model:                            7\n",
      "Date:                Sat, 29 Jun 2024   Pseudo R-squ.:                  0.2078\n",
      "Time:                        12:36:45   Log-Likelihood:                -8908.1\n",
      "converged:                       True   LL-Null:                       -11244.\n",
      "Covariance Type:            nonrobust   LLR p-value:                     0.000\n",
      "===========================================================================================\n",
      "                              coef    std err          z      P>|z|      [0.025      0.975]\n",
      "-------------------------------------------------------------------------------------------\n",
      "Intercept                  -5.8081      0.120    -48.456      0.000      -6.043      -5.573\n",
      "OwnRent[T.Outright]         1.8276      0.208      8.782      0.000       1.420       2.236\n",
      "OwnRent[T.Rented]          -0.8763      0.101     -8.647      0.000      -1.075      -0.678\n",
      "FamilyType[T.Male Head]     0.2874      0.150      1.913      0.056      -0.007       0.582\n",
      "FamilyType[T.Married]       1.3877      0.088     15.781      0.000       1.215       1.560\n",
      "HouseCosts                  0.0007   1.72e-05     42.453      0.000       0.001       0.001\n",
      "NumWorkers                  0.5873      0.026     22.393      0.000       0.536       0.639\n",
      "NumBedrooms                 0.2365      0.017     13.985      0.000       0.203       0.270\n",
      "===========================================================================================\n"
     ]
    }
   ],
   "source": [
    "print(results.summary())"
   ]
  },
  {
   "cell_type": "markdown",
   "metadata": {},
   "source": [
    "Interpretar os dados de uma regessão logística não é tão simples quanto interpretar os dados de uma regressão linear. Em uma regressão logística e outros modelos lineares generalizados, há uma transformação na forma de uma função de link que deve ser desfeita para interpretar o resultado."
   ]
  },
  {
   "cell_type": "markdown",
   "metadata": {},
   "source": [
    "Para interpretar o nosso modelo logístico precisamos exponenciar os resultados."
   ]
  },
  {
   "cell_type": "code",
   "execution_count": 43,
   "metadata": {},
   "outputs": [
    {
     "name": "stdout",
     "output_type": "stream",
     "text": [
      "Intercept                  0.003003\n",
      "OwnRent[T.Outright]        6.219147\n",
      "OwnRent[T.Rented]          0.416310\n",
      "FamilyType[T.Male Head]    1.332901\n",
      "FamilyType[T.Married]      4.005636\n",
      "HouseCosts                 1.000731\n",
      "NumWorkers                 1.799117\n",
      "NumBedrooms                1.266852\n",
      "dtype: float64\n"
     ]
    }
   ],
   "source": [
    "import numpy as np\n",
    "\n",
    "odds_ratios = np.exp(results.params)\n",
    "print(odds_ratios)"
   ]
  },
  {
   "cell_type": "markdown",
   "metadata": {},
   "source": [
    "Os valores estão interpretados como razões de probabilidades. Podemos pensar em uma razão de possibilidades como quantas vezes os resultado será \"provável\".   \n",
    "Exemplo: podemos dizer que a cada incremento de unidade em NumBedrooms as chances de FamilyIncome ser maior que 150000 aumenta em 1,27 vezes.  \n",
    "Uma interpretasção semelhante pode ser usada em variáveis categorizadas."
   ]
  },
  {
   "cell_type": "code",
   "execution_count": 45,
   "metadata": {},
   "outputs": [
    {
     "name": "stdout",
     "output_type": "stream",
     "text": [
      "['Mortgage' 'Rented' 'Outright']\n"
     ]
    }
   ],
   "source": [
    "#os três valores de ownrent\n",
    "print(acs.OwnRent.unique())"
   ]
  },
  {
   "cell_type": "markdown",
   "metadata": {},
   "source": [
    "Um exemplo de interpretação seria dizer que as chaces de familyIncome ser maior que 150000 aumenta 1,82 vezes quando a casa é própria em comparação com estar financiada."
   ]
  }
 ],
 "metadata": {
  "kernelspec": {
   "display_name": "pfe_certo",
   "language": "python",
   "name": "python3"
  },
  "language_info": {
   "codemirror_mode": {
    "name": "ipython",
    "version": 3
   },
   "file_extension": ".py",
   "mimetype": "text/x-python",
   "name": "python",
   "nbconvert_exporter": "python",
   "pygments_lexer": "ipython3",
   "version": "3.12.3"
  }
 },
 "nbformat": 4,
 "nbformat_minor": 2
}

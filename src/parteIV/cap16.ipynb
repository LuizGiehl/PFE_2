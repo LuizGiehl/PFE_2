{
 "cells": [
  {
   "cell_type": "markdown",
   "metadata": {},
   "source": [
    "CAPÍTULO 16 - Clustering\n",
    "-"
   ]
  },
  {
   "cell_type": "markdown",
   "metadata": {},
   "source": [
    "Os métodos de aprendizado de máquina podem ser classificados em duas principais categorias: aprendizado supervisionado e apredizado não supervisionado"
   ]
  },
  {
   "cell_type": "markdown",
   "metadata": {},
   "source": [
    "Até agora usamos aprendizado supervisionado pois treinamos com um alvo y ou uma variável resposta ou seja, sabiamos qual a reposta \"correta\". Já o não supervisionado nós não sabemos qual é a resposta \"correta\". Muitos desses métodos envolvem clustering (agrupamento), e dois métodos principais: clustering k-means e clustering hierárquico."
   ]
  },
  {
   "cell_type": "markdown",
   "metadata": {},
   "source": [
    "16.2 k-means"
   ]
  },
  {
   "cell_type": "markdown",
   "metadata": {},
   "source": [
    "Usaremos dados sobre vinhos em nosso exemplo de k-means"
   ]
  },
  {
   "cell_type": "code",
   "execution_count": 18,
   "metadata": {},
   "outputs": [
    {
     "name": "stdout",
     "output_type": "stream",
     "text": [
      "   Cultivar  Alcohol  Malic acid   Ash  Alcalinity of ash    Magnesium  \\\n",
      "0         1    14.23        1.71  2.43                 15.6        127   \n",
      "1         1    13.20        1.78  2.14                 11.2        100   \n",
      "2         1    13.16        2.36  2.67                 18.6        101   \n",
      "3         1    14.37        1.95  2.50                 16.8        113   \n",
      "4         1    13.24        2.59  2.87                 21.0        118   \n",
      "\n",
      "   Total phenols  Flavanoids  Nonflavanoid phenols  Proanthocyanins  \\\n",
      "0           2.80        3.06                  0.28             2.29   \n",
      "1           2.65        2.76                  0.26             1.28   \n",
      "2           2.80        3.24                  0.30             2.81   \n",
      "3           3.85        3.49                  0.24             2.18   \n",
      "4           2.80        2.69                  0.39             1.82   \n",
      "\n",
      "   Color intensity   Hue  OD280/OD315 of diluted wines  Proline              \n",
      "0             5.64  1.04                          3.92                 1065  \n",
      "1             4.38  1.05                          3.40                 1050  \n",
      "2             5.68  1.03                          3.17                 1185  \n",
      "3             7.80  0.86                          3.45                 1480  \n",
      "4             4.32  1.04                          2.93                  735  \n"
     ]
    }
   ],
   "source": [
    "import pandas as pd\n",
    "\n",
    "wine = pd.read_csv('../../data/wine.csv')\n",
    "\n",
    "print(wine.head())"
   ]
  },
  {
   "cell_type": "markdown",
   "metadata": {},
   "source": [
    "Vamos descartar a coluna cultivar pois ela se relaciona muito de perto com os clusters em nossos dados"
   ]
  },
  {
   "cell_type": "code",
   "execution_count": 19,
   "metadata": {},
   "outputs": [
    {
     "name": "stdout",
     "output_type": "stream",
     "text": [
      "   Alcohol  Malic acid   Ash  Alcalinity of ash    Magnesium  Total phenols  \\\n",
      "0    14.23        1.71  2.43                 15.6        127           2.80   \n",
      "1    13.20        1.78  2.14                 11.2        100           2.65   \n",
      "2    13.16        2.36  2.67                 18.6        101           2.80   \n",
      "3    14.37        1.95  2.50                 16.8        113           3.85   \n",
      "4    13.24        2.59  2.87                 21.0        118           2.80   \n",
      "\n",
      "   Flavanoids  Nonflavanoid phenols  Proanthocyanins  Color intensity   Hue  \\\n",
      "0        3.06                  0.28             2.29             5.64  1.04   \n",
      "1        2.76                  0.26             1.28             4.38  1.05   \n",
      "2        3.24                  0.30             2.81             5.68  1.03   \n",
      "3        3.49                  0.24             2.18             7.80  0.86   \n",
      "4        2.69                  0.39             1.82             4.32  1.04   \n",
      "\n",
      "   OD280/OD315 of diluted wines  Proline              \n",
      "0                          3.92                 1065  \n",
      "1                          3.40                 1050  \n",
      "2                          3.17                 1185  \n",
      "3                          3.45                 1480  \n",
      "4                          2.93                  735  \n"
     ]
    }
   ],
   "source": [
    "wine = wine.drop('Cultivar', axis=1)\n",
    "print(wine.head())"
   ]
  },
  {
   "cell_type": "markdown",
   "metadata": {},
   "source": [
    "A sklearn têm uma im plementação do algoritimo de k-means chamado KMeans. Nesse exemplo, definiremos k = 3 e usaremos todos os dados de nosso conjunto"
   ]
  },
  {
   "cell_type": "code",
   "execution_count": 22,
   "metadata": {},
   "outputs": [
    {
     "name": "stderr",
     "output_type": "stream",
     "text": [
      "c:\\Users\\User\\anaconda3\\envs\\pfe_certo\\Lib\\site-packages\\sklearn\\cluster\\_kmeans.py:1446: UserWarning: KMeans is known to have a memory leak on Windows with MKL, when there are less chunks than available threads. You can avoid it by setting the environment variable OMP_NUM_THREADS=1.\n",
      "  warnings.warn(\n"
     ]
    }
   ],
   "source": [
    "from sklearn.cluster import KMeans\n",
    "import os\n",
    "os.environ[\"OMP_NUM_THREADS\"] = \"1\"\n",
    "\n",
    "#cria 3 clusters\n",
    "#usa uma semente aleatória igual a 42\n",
    "#você pode optar por não usar random_state ou pode usar um valor diferente; 42 garantirá que seus resultados sejam iguais àqueles exibidos no livro\n",
    "\n",
    "kmeans = KMeans(n_clusters=3, random_state=42).fit(wine.values)"
   ]
  }
 ],
 "metadata": {
  "kernelspec": {
   "display_name": "pfe_certo",
   "language": "python",
   "name": "python3"
  },
  "language_info": {
   "codemirror_mode": {
    "name": "ipython",
    "version": 3
   },
   "file_extension": ".py",
   "mimetype": "text/x-python",
   "name": "python",
   "nbconvert_exporter": "python",
   "pygments_lexer": "ipython3",
   "version": "3.12.3"
  }
 },
 "nbformat": 4,
 "nbformat_minor": 2
}

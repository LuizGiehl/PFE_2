{
 "cells": [
  {
   "cell_type": "markdown",
   "metadata": {},
   "source": [
    "CAPÍTULO 2 \n",
    "\n",
    "Estrutura de dados do Pandas"
   ]
  },
  {
   "cell_type": "markdown",
   "metadata": {},
   "source": [
    "Criando Series"
   ]
  },
  {
   "cell_type": "code",
   "execution_count": 1,
   "metadata": {},
   "outputs": [
    {
     "name": "stdout",
     "output_type": "stream",
     "text": [
      "Person         Wes McKinney\n",
      "Who       Creator of Pandas\n",
      "dtype: object\n"
     ]
    }
   ],
   "source": [
    "import pandas as pd\n",
    "\n",
    "s = pd.Series(['Wes McKinney', 'Creator of Pandas'],\n",
    "              index=['Person', 'Who'])\n",
    "print(s)"
   ]
  },
  {
   "cell_type": "code",
   "execution_count": 2,
   "metadata": {},
   "outputs": [
    {
     "name": "stdout",
     "output_type": "stream",
     "text": [
      "fname       Luiz\n",
      "lname      Giehl\n",
      "favFood    sushi\n",
      "dtype: object \n",
      "\n",
      "name             NaN\n",
      "name2            NaN\n",
      "favorite food    NaN\n",
      "dtype: object\n"
     ]
    }
   ],
   "source": [
    "sd = pd.Series({'fname': 'Luiz', 'lname': 'Giehl', 'favFood': 'sushi' })\n",
    "print(sd, '\\n')\n",
    "\n",
    "s = pd.Series({'fname': 'Luiz', 'lname': 'Giehl', 'favFood': 'sushi' },\n",
    "              index=['name', 'name2', 'favorite food'])\n",
    "print(s)"
   ]
  },
  {
   "cell_type": "markdown",
   "metadata": {},
   "source": [
    "Se eu passar um dict, não é preciso passar um index.\n",
    "Mas se passar o valor do index sobrescreverá a key"
   ]
  },
  {
   "cell_type": "code",
   "execution_count": 3,
   "metadata": {},
   "outputs": [
    {
     "name": "stdout",
     "output_type": "stream",
     "text": [
      "carb        banana\n",
      "protein    chicken\n",
      "fat            oil\n",
      "dtype: object\n"
     ]
    }
   ],
   "source": [
    "s = pd.Series(('banana', 'chicken', 'oil'),\n",
    "              index=['carb', 'protein', 'fat'])\n",
    "print(s)"
   ]
  },
  {
   "cell_type": "markdown",
   "metadata": {},
   "source": [
    "Criando DataFrame"
   ]
  },
  {
   "cell_type": "code",
   "execution_count": 4,
   "metadata": {},
   "outputs": [
    {
     "name": "stdout",
     "output_type": "stream",
     "text": [
      "                  Name    Ocuppation        Born        Died Age\n",
      "one  Rosaline Franklin       Chemist  1920-07-25  1958-04-26  37\n",
      "two     William Gosset  Statistician  1876-06-13  1937-10-16  61\n"
     ]
    }
   ],
   "source": [
    "scientists1 = pd.DataFrame({\n",
    "    'Name': ['Rosaline Franklin', 'William Gosset'],\n",
    "    'Ocuppation': ['Chemist', 'Statistician'],\n",
    "    'Born': ['1920-07-25', '1876-06-13'],\n",
    "    'Died': ['1958-04-26', '1937-10-16'],\n",
    "    'Age': ['37', '61']},\n",
    "    index=['one', 'two']\n",
    "    )\n",
    "print(scientists1)"
   ]
  },
  {
   "cell_type": "markdown",
   "metadata": {},
   "source": [
    "Usando o 'index=[ ]' é possivel passar um nome para as linhas.\n",
    "\n",
    "E se usarmos o parâmetro 'columns=[ ]' podemos definir a ordem das colunas passando seus nomes."
   ]
  },
  {
   "cell_type": "markdown",
   "metadata": {},
   "source": [
    "2.3 SERIES"
   ]
  },
  {
   "cell_type": "code",
   "execution_count": 5,
   "metadata": {},
   "outputs": [
    {
     "name": "stdout",
     "output_type": "stream",
     "text": [
      "                     Ocuppation        Born        Died  Age\n",
      "Rosaline Franklin       Chemist  1920-07-25  1958-04-26   37\n",
      "William Gosset     Statistician  1876-06-13  1937-10-16   61 \n",
      "\n",
      "Ocuppation    Statistician\n",
      "Born            1876-06-13\n",
      "Died            1937-10-16\n",
      "Age                     61\n",
      "Name: William Gosset, dtype: object\n"
     ]
    }
   ],
   "source": [
    "scientists2 = pd.DataFrame(\n",
    "    data={\n",
    "        'Ocuppation': ['Chemist', 'Statistician'],\n",
    "        'Born': ['1920-07-25', '1876-06-13'],\n",
    "        'Died': ['1958-04-26', '1937-10-16'],\n",
    "        'Age': [37, 61]},\n",
    "        index=['Rosaline Franklin', 'William Gosset'],\n",
    "        columns=[ 'Ocuppation','Born', 'Died', 'Age']\n",
    "    )\n",
    "firstRow = scientists2.loc['William Gosset']\n",
    "\n",
    "\n",
    "print(scientists2, '\\n')\n",
    "print(firstRow)"
   ]
  },
  {
   "cell_type": "code",
   "execution_count": 6,
   "metadata": {},
   "outputs": [
    {
     "name": "stdout",
     "output_type": "stream",
     "text": [
      "Index(['Ocuppation', 'Born', 'Died', 'Age'], dtype='object') \n",
      "\n",
      "['Statistician' '1876-06-13' '1937-10-16' 61] \n",
      "\n",
      "Index(['Ocuppation', 'Born', 'Died', 'Age'], dtype='object') \n",
      "\n",
      "Ocuppation \n",
      "\n",
      "Ocuppation\n"
     ]
    }
   ],
   "source": [
    "print(firstRow.index, '\\n')\n",
    "print(firstRow.values, '\\n')\n",
    "print(firstRow.keys(), '\\n')\n",
    "print(firstRow.index[0], '\\n')\n",
    "print(firstRow.keys()[0])"
   ]
  },
  {
   "cell_type": "markdown",
   "metadata": {},
   "source": [
    "2.3.1.1 Métodos de Series\n"
   ]
  },
  {
   "cell_type": "code",
   "execution_count": 7,
   "metadata": {},
   "outputs": [
    {
     "name": "stdout",
     "output_type": "stream",
     "text": [
      "Rosaline Franklin    37\n",
      "William Gosset       61\n",
      "Name: Age, dtype: int64 \n",
      "\n",
      "49.0 \n",
      "\n",
      "37 \n",
      "\n",
      "61 \n",
      "\n",
      "16.97056274847714\n"
     ]
    }
   ],
   "source": [
    "ages1 = scientists2['Age']\n",
    "print(ages1, '\\n')\n",
    "print(ages1.mean(), '\\n')\n",
    "print(ages1.min(), '\\n')\n",
    "print(ages1.max(), '\\n')\n",
    "print(ages1.std())"
   ]
  },
  {
   "cell_type": "code",
   "execution_count": 8,
   "metadata": {},
   "outputs": [
    {
     "name": "stdout",
     "output_type": "stream",
     "text": [
      "count     8.000000\n",
      "mean     59.125000\n",
      "std      18.325918\n",
      "min      37.000000\n",
      "25%      44.000000\n",
      "50%      58.500000\n",
      "75%      68.750000\n",
      "max      90.000000\n",
      "Name: Age, dtype: float64\n"
     ]
    }
   ],
   "source": [
    "scientists = pd.read_csv('../data/scientists.csv')\n",
    "ages = scientists['Age']\n",
    "print(ages.describe())"
   ]
  },
  {
   "cell_type": "code",
   "execution_count": 9,
   "metadata": {},
   "outputs": [
    {
     "name": "stdout",
     "output_type": "stream",
     "text": [
      "1    61\n",
      "2    90\n",
      "3    66\n",
      "7    77\n",
      "Name: Age, dtype: int64\n",
      "0    False\n",
      "1     True\n",
      "2     True\n",
      "3     True\n",
      "4    False\n",
      "5    False\n",
      "6    False\n",
      "7     True\n",
      "Name: Age, dtype: bool\n"
     ]
    }
   ],
   "source": [
    "print(ages[ages > ages.mean()])\n",
    "print(ages > ages.mean())"
   ]
  },
  {
   "cell_type": "code",
   "execution_count": 10,
   "metadata": {},
   "outputs": [
    {
     "name": "stdout",
     "output_type": "stream",
     "text": [
      "0          Chemist\n",
      "1     Statistician\n",
      "4        Biologist\n",
      "5        Physician\n",
      "7    Mathematician\n",
      "Name: Occupation, dtype: object\n"
     ]
    }
   ],
   "source": [
    "manual_bool_values = [True, True, False, False, True, True, False, True]\n",
    "print(scientists.Occupation[manual_bool_values])"
   ]
  },
  {
   "cell_type": "markdown",
   "metadata": {},
   "source": [
    "Para passar uma lista de booleanos manualmente é preciso que a lista tenha o mesmo tamanho do Series ou do DataFrame que esteja querendo pegar os valores\n"
   ]
  },
  {
   "cell_type": "markdown",
   "metadata": {},
   "source": [
    "2.3.3.1\n",
    "pag 69"
   ]
  },
  {
   "cell_type": "markdown",
   "metadata": {},
   "source": [
    "A maioria dos métodos em Series e DataFrame são vetorizados, ou seja atuam em todo o vetor simultaneamente"
   ]
  },
  {
   "cell_type": "code",
   "execution_count": 11,
   "metadata": {},
   "outputs": [
    {
     "name": "stdout",
     "output_type": "stream",
     "text": [
      "0     74\n",
      "1    122\n",
      "2    180\n",
      "3    132\n",
      "4    112\n",
      "5     90\n",
      "6     82\n",
      "7    154\n",
      "Name: Age, dtype: int64\n",
      "0    370\n",
      "1    610\n",
      "2    900\n",
      "3    660\n",
      "4    560\n",
      "5    450\n",
      "6    410\n",
      "7    770\n",
      "Name: Age, dtype: int64\n"
     ]
    }
   ],
   "source": [
    "#Operações em vetores de mesmo tamanho\n",
    "print(ages + ages)\n",
    "print(ages * 10)"
   ]
  },
  {
   "cell_type": "code",
   "execution_count": 12,
   "metadata": {},
   "outputs": [
    {
     "name": "stdout",
     "output_type": "stream",
     "text": [
      "0     42.0\n",
      "1     71.0\n",
      "2    105.0\n",
      "3     86.0\n",
      "4     81.0\n",
      "5      NaN\n",
      "6      NaN\n",
      "7      NaN\n",
      "dtype: float64\n"
     ]
    }
   ],
   "source": [
    "#Vetores com tamanhos diferentes\n",
    "print(ages + pd.Series([5,10, 15, 20, 25]))"
   ]
  },
  {
   "cell_type": "markdown",
   "metadata": {},
   "source": [
    "Quando o tamanho for diferente, o comportamento vai depender do type. \n",
    "\n",
    "Em Series os vetores farão a operação de acordo com o indice, e o resto do vetor será preenchico com NaN"
   ]
  },
  {
   "cell_type": "code",
   "execution_count": 13,
   "metadata": {},
   "outputs": [
    {
     "name": "stdout",
     "output_type": "stream",
     "text": [
      "7    77\n",
      "6    41\n",
      "5    45\n",
      "4    56\n",
      "3    66\n",
      "2    90\n",
      "1    61\n",
      "0    37\n",
      "Name: Age, dtype: int64\n"
     ]
    }
   ],
   "source": [
    "revAges = ages.sort_index(ascending=False)\n",
    "print(revAges)"
   ]
  },
  {
   "cell_type": "code",
   "execution_count": 14,
   "metadata": {},
   "outputs": [
    {
     "name": "stdout",
     "output_type": "stream",
     "text": [
      "0     74\n",
      "1    122\n",
      "2    180\n",
      "3    132\n",
      "4    112\n",
      "5     90\n",
      "6     82\n",
      "7    154\n",
      "Name: Age, dtype: int64\n",
      "0     74\n",
      "1    122\n",
      "2    180\n",
      "3    132\n",
      "4    112\n",
      "5     90\n",
      "6     82\n",
      "7    154\n",
      "Name: Age, dtype: int64\n"
     ]
    }
   ],
   "source": [
    "print(ages + ages)\n",
    "print(ages + revAges)"
   ]
  },
  {
   "cell_type": "markdown",
   "metadata": {},
   "source": [
    "Mesmo o revAges estando invertido o Pandas alinha os indices dos vetores antes de realizar a operação"
   ]
  },
  {
   "cell_type": "markdown",
   "metadata": {},
   "source": [
    "2.4 DATAFRAME"
   ]
  },
  {
   "cell_type": "markdown",
   "metadata": {},
   "source": [
    "Subconjuntos com booleanos"
   ]
  },
  {
   "cell_type": "code",
   "execution_count": 15,
   "metadata": {},
   "outputs": [
    {
     "name": "stdout",
     "output_type": "stream",
     "text": [
      "0    False\n",
      "1     True\n",
      "2     True\n",
      "3     True\n",
      "4    False\n",
      "5    False\n",
      "6    False\n",
      "7     True\n",
      "Name: Age, dtype: bool\n",
      "                   Name        Born        Died  Age     Occupation\n",
      "1        William Gosset  1876-06-13  1937-10-16   61   Statistician\n",
      "2  Florence Nightingale  1820-05-12  1910-08-13   90          Nurse\n",
      "3           Marie Curie  1867-11-07  1934-07-04   66        Chemist\n",
      "7          Johann Gauss  1777-04-30  1855-02-23   77  Mathematician\n"
     ]
    }
   ],
   "source": [
    "#vetores booleanos obtem subconjuntos de linhas\n",
    "print(scientists['Age'] > scientists['Age'].mean())\n",
    "print(scientists[scientists['Age'] > scientists['Age'].mean()])"
   ]
  },
  {
   "cell_type": "code",
   "execution_count": 16,
   "metadata": {},
   "outputs": [
    {
     "name": "stdout",
     "output_type": "stream",
     "text": [
      "                   Name        Born        Died  Age          Occupation\n",
      "0     Rosaline Franklin  1920-07-25  1958-04-16   37             Chemist\n",
      "1        William Gosset  1876-06-13  1937-10-16   61        Statistician\n",
      "2  Florence Nightingale  1820-05-12  1910-08-13   90               Nurse\n",
      "3           Marie Curie  1867-11-07  1934-07-04   66             Chemist\n",
      "4         Rachel Carson  1907-05-27  1964-04-14   56           Biologist\n",
      "5             John Snow  1813-03-15  1858-06-16   45           Physician\n",
      "6           Alan Turing  1912-06-23  1954-06-07   41  Computer Scientist\n",
      "7          Johann Gauss  1777-04-30  1855-02-23   77       Mathematician\n"
     ]
    }
   ],
   "source": [
    "print(scientists.loc[[True,True, True, True, True,True, True, True]])"
   ]
  },
  {
   "cell_type": "markdown",
   "metadata": {},
   "source": [
    "Se fornecermos uma lista de valores Bools com a quantidade diferente do numero de linhas causará um erro"
   ]
  },
  {
   "cell_type": "code",
   "execution_count": 17,
   "metadata": {},
   "outputs": [
    {
     "name": "stdout",
     "output_type": "stream",
     "text": [
      "           Occupation  Age\n",
      "0             Chemist   37\n",
      "1        Statistician   61\n",
      "2               Nurse   90\n",
      "3             Chemist   66\n",
      "4           Biologist   56\n",
      "5           Physician   45\n",
      "6  Computer Scientist   41\n",
      "7       Mathematician   77\n"
     ]
    }
   ],
   "source": [
    "print(scientists[['Occupation', 'Age']])"
   ]
  },
  {
   "cell_type": "markdown",
   "metadata": {},
   "source": [
    "2.4.2 Operações são alinhadas e vetorizadas automaticamente (broadcasting)"
   ]
  },
  {
   "cell_type": "code",
   "execution_count": 18,
   "metadata": {},
   "outputs": [
    {
     "name": "stdout",
     "output_type": "stream",
     "text": [
      "                                       Name                  Born  \\\n",
      "0        Rosaline FranklinRosaline Franklin  1920-07-251920-07-25   \n",
      "1              William GossetWilliam Gosset  1876-06-131876-06-13   \n",
      "2  Florence NightingaleFlorence Nightingale  1820-05-121820-05-12   \n",
      "3                    Marie CurieMarie Curie  1867-11-071867-11-07   \n",
      "4                Rachel CarsonRachel Carson  1907-05-271907-05-27   \n",
      "5                        John SnowJohn Snow  1813-03-151813-03-15   \n",
      "6                    Alan TuringAlan Turing  1912-06-231912-06-23   \n",
      "7                  Johann GaussJohann Gauss  1777-04-301777-04-30   \n",
      "\n",
      "                   Died  Age                            Occupation  \n",
      "0  1958-04-161958-04-16   74                        ChemistChemist  \n",
      "1  1937-10-161937-10-16  122              StatisticianStatistician  \n",
      "2  1910-08-131910-08-13  180                            NurseNurse  \n",
      "3  1934-07-041934-07-04  132                        ChemistChemist  \n",
      "4  1964-04-141964-04-14  112                    BiologistBiologist  \n",
      "5  1858-06-161858-06-16   90                    PhysicianPhysician  \n",
      "6  1954-06-071954-06-07   82  Computer ScientistComputer Scientist  \n",
      "7  1855-02-231855-02-23  154            MathematicianMathematician  \n"
     ]
    }
   ],
   "source": [
    "firstHalf = scientists[:4]\n",
    "secondHalf = scientists[4:]\n",
    "print(scientists * 2)"
   ]
  },
  {
   "cell_type": "markdown",
   "metadata": {},
   "source": [
    "Se o DataFrame tiver strings elas serão duplicadas"
   ]
  },
  {
   "cell_type": "code",
   "execution_count": 19,
   "metadata": {},
   "outputs": [
    {
     "name": "stdout",
     "output_type": "stream",
     "text": [
      "0    37\n",
      "1    61\n",
      "2    90\n",
      "3    66\n",
      "4    56\n",
      "Name: Age, dtype: int64\n",
      "4    56\n",
      "5    45\n",
      "6    41\n",
      "7    77\n",
      "Name: Age, dtype: int64\n"
     ]
    }
   ],
   "source": [
    "firstAge = scientists.loc[:4, 'Age']\n",
    "secondAge = scientists.loc[4:, 'Age']\n",
    "print(firstAge)\n",
    "print(secondAge)"
   ]
  },
  {
   "cell_type": "markdown",
   "metadata": {},
   "source": [
    "2.5 Fazendo alterações em Series e em DataFrames"
   ]
  },
  {
   "cell_type": "markdown",
   "metadata": {},
   "source": [
    "OBS: *voltar na tabela 2.3*"
   ]
  },
  {
   "cell_type": "markdown",
   "metadata": {},
   "source": [
    "2.5.1 Adicionando mais colunas"
   ]
  },
  {
   "cell_type": "code",
   "execution_count": 20,
   "metadata": {},
   "outputs": [
    {
     "name": "stdout",
     "output_type": "stream",
     "text": [
      "0   1920-07-25\n",
      "1   1876-06-13\n",
      "2   1820-05-12\n",
      "3   1867-11-07\n",
      "4   1907-05-27\n",
      "5   1813-03-15\n",
      "6   1912-06-23\n",
      "7   1777-04-30\n",
      "Name: Born, dtype: datetime64[ns] \n",
      "\n",
      "0   1958-04-16\n",
      "1   1937-10-16\n",
      "2   1910-08-13\n",
      "3   1934-07-04\n",
      "4   1964-04-14\n",
      "5   1858-06-16\n",
      "6   1954-06-07\n",
      "7   1855-02-23\n",
      "Name: Died, dtype: datetime64[ns]\n"
     ]
    }
   ],
   "source": [
    "#formata a coluna 'Born' como datatime\n",
    "born_datatime = pd.to_datetime(scientists['Born'], format='%Y-%m-%d')\n",
    "print(born_datatime, '\\n')\n",
    "\n",
    "#formata a coluna 'Died' como datatime\n",
    "died_datatime = pd.to_datetime(scientists['Died'], format='%Y-%m-%d')\n",
    "print(died_datatime)"
   ]
  },
  {
   "cell_type": "markdown",
   "metadata": {},
   "source": [
    "Formatamos as colunas Born e Died que estão como strings para um formato de data, para que sejá possivel fazer operações como ver a diferença entre datas ou calcular idade"
   ]
  },
  {
   "cell_type": "code",
   "execution_count": 21,
   "metadata": {},
   "outputs": [
    {
     "name": "stdout",
     "output_type": "stream",
     "text": [
      "                   Name        Born        Died  Age    Occupation    born_dt  \\\n",
      "0     Rosaline Franklin  1920-07-25  1958-04-16   37       Chemist 1920-07-25   \n",
      "1        William Gosset  1876-06-13  1937-10-16   61  Statistician 1876-06-13   \n",
      "2  Florence Nightingale  1820-05-12  1910-08-13   90         Nurse 1820-05-12   \n",
      "3           Marie Curie  1867-11-07  1934-07-04   66       Chemist 1867-11-07   \n",
      "4         Rachel Carson  1907-05-27  1964-04-14   56     Biologist 1907-05-27   \n",
      "\n",
      "     died_dt  \n",
      "0 1958-04-16  \n",
      "1 1937-10-16  \n",
      "2 1910-08-13  \n",
      "3 1934-07-04  \n",
      "4 1964-04-14  \n",
      "(8, 7)\n"
     ]
    }
   ],
   "source": [
    "scientists['born_dt'], scientists['died_dt'] = (born_datatime, died_datatime)\n",
    "print(scientists.head())\n",
    "print(scientists.shape)"
   ]
  },
  {
   "cell_type": "markdown",
   "metadata": {},
   "source": [
    "Adiconamos novas colunas no DataFrame"
   ]
  },
  {
   "cell_type": "markdown",
   "metadata": {},
   "source": [
    "2.5.2 Alterando diretamente uma coluna"
   ]
  },
  {
   "cell_type": "code",
   "execution_count": 22,
   "metadata": {},
   "outputs": [
    {
     "name": "stdout",
     "output_type": "stream",
     "text": [
      "0    77\n",
      "1    45\n",
      "2    41\n",
      "3    56\n",
      "4    61\n",
      "5    37\n",
      "6    66\n",
      "7    90\n",
      "Name: Age, dtype: int64\n"
     ]
    }
   ],
   "source": [
    "import random\n",
    "\n",
    "#random_state é usado para deixar a 'aleatoriedade' menos aleatória\n",
    "scientists['Age'] = scientists['Age'].\\\n",
    "    sample(len(scientists['Age']), random_state=24).\\\n",
    "    reset_index(drop=True)\n",
    "\n",
    "print(scientists['Age'])"
   ]
  },
  {
   "cell_type": "code",
   "execution_count": 23,
   "metadata": {},
   "outputs": [
    {
     "name": "stdout",
     "output_type": "stream",
     "text": [
      "                   Name        Born        Died  Age          Occupation  \\\n",
      "0     Rosaline Franklin  1920-07-25  1958-04-16   77             Chemist   \n",
      "1        William Gosset  1876-06-13  1937-10-16   45        Statistician   \n",
      "2  Florence Nightingale  1820-05-12  1910-08-13   41               Nurse   \n",
      "3           Marie Curie  1867-11-07  1934-07-04   56             Chemist   \n",
      "4         Rachel Carson  1907-05-27  1964-04-14   61           Biologist   \n",
      "5             John Snow  1813-03-15  1858-06-16   37           Physician   \n",
      "6           Alan Turing  1912-06-23  1954-06-07   66  Computer Scientist   \n",
      "7          Johann Gauss  1777-04-30  1855-02-23   90       Mathematician   \n",
      "\n",
      "     born_dt    died_dt age_days_dt  \n",
      "0 1920-07-25 1958-04-16  13779 days  \n",
      "1 1876-06-13 1937-10-16  22404 days  \n",
      "2 1820-05-12 1910-08-13  32964 days  \n",
      "3 1867-11-07 1934-07-04  24345 days  \n",
      "4 1907-05-27 1964-04-14  20777 days  \n",
      "5 1813-03-15 1858-06-16  16529 days  \n",
      "6 1912-06-23 1954-06-07  15324 days  \n",
      "7 1777-04-30 1855-02-23  28422 days  \n"
     ]
    }
   ],
   "source": [
    "scientists['age_days_dt'] = (scientists['died_dt'] - scientists['born_dt'])\n",
    "print(scientists)"
   ]
  },
  {
   "cell_type": "markdown",
   "metadata": {},
   "source": [
    "Subtrair a data da morte com a data de nascimento para ter a idade"
   ]
  },
  {
   "cell_type": "code",
   "execution_count": 24,
   "metadata": {},
   "outputs": [
    {
     "name": "stdout",
     "output_type": "stream",
     "text": [
      "0   13779 days\n",
      "1   22404 days\n",
      "2   32964 days\n",
      "3   24345 days\n",
      "4   20777 days\n",
      "5   16529 days\n",
      "6   15324 days\n",
      "7   28422 days\n",
      "Name: age_days_dt, dtype: timedelta64[ns]\n"
     ]
    }
   ],
   "source": [
    "print(scientists['age_days_dt'])"
   ]
  },
  {
   "cell_type": "code",
   "execution_count": 25,
   "metadata": {},
   "outputs": [
    {
     "name": "stdout",
     "output_type": "stream",
     "text": [
      "                   Name        Born        Died  Age          Occupation  \\\n",
      "0     Rosaline Franklin  1920-07-25  1958-04-16   77             Chemist   \n",
      "1        William Gosset  1876-06-13  1937-10-16   45        Statistician   \n",
      "2  Florence Nightingale  1820-05-12  1910-08-13   41               Nurse   \n",
      "3           Marie Curie  1867-11-07  1934-07-04   56             Chemist   \n",
      "4         Rachel Carson  1907-05-27  1964-04-14   61           Biologist   \n",
      "5             John Snow  1813-03-15  1858-06-16   37           Physician   \n",
      "6           Alan Turing  1912-06-23  1954-06-07   66  Computer Scientist   \n",
      "7          Johann Gauss  1777-04-30  1855-02-23   90       Mathematician   \n",
      "\n",
      "     born_dt    died_dt age_days_dt  age_years_dt  \n",
      "0 1920-07-25 1958-04-16  13779 days         37.72  \n",
      "1 1876-06-13 1937-10-16  22404 days         61.34  \n",
      "2 1820-05-12 1910-08-13  32964 days         90.25  \n",
      "3 1867-11-07 1934-07-04  24345 days         66.65  \n",
      "4 1907-05-27 1964-04-14  20777 days         56.88  \n",
      "5 1813-03-15 1858-06-16  16529 days         45.25  \n",
      "6 1912-06-23 1954-06-07  15324 days         41.95  \n",
      "7 1777-04-30 1855-02-23  28422 days         77.82  \n",
      "float64\n"
     ]
    }
   ],
   "source": [
    "#pode-se converter o valor para o anos usando o método: astype\n",
    "scientists['age_years_dt'] = (scientists['age_days_dt'] / pd.Timedelta(days=365.25)).round(2)\n",
    "print(scientists)\n",
    "print(scientists['age_years_dt'].dtype)"
   ]
  },
  {
   "cell_type": "markdown",
   "metadata": {},
   "source": [
    "O livro diz para converter o age_days_dt para anos com 'timedelta[Y]' Porém parece que essa forma não funciona mais, então é preciso usar esse outro método para converter para anos. Mas o foda é que os anos vão ficar em float64"
   ]
  },
  {
   "cell_type": "markdown",
   "metadata": {},
   "source": [
    "2.5.3 Descartando valores\n"
   ]
  },
  {
   "cell_type": "code",
   "execution_count": 26,
   "metadata": {},
   "outputs": [
    {
     "name": "stdout",
     "output_type": "stream",
     "text": [
      "Index(['Name', 'Born', 'Died', 'Age', 'Occupation', 'born_dt', 'died_dt',\n",
      "       'age_days_dt', 'age_years_dt'],\n",
      "      dtype='object') \n",
      "\n",
      "                   Name        Born        Died          Occupation  \\\n",
      "0     Rosaline Franklin  1920-07-25  1958-04-16             Chemist   \n",
      "1        William Gosset  1876-06-13  1937-10-16        Statistician   \n",
      "2  Florence Nightingale  1820-05-12  1910-08-13               Nurse   \n",
      "3           Marie Curie  1867-11-07  1934-07-04             Chemist   \n",
      "4         Rachel Carson  1907-05-27  1964-04-14           Biologist   \n",
      "5             John Snow  1813-03-15  1858-06-16           Physician   \n",
      "6           Alan Turing  1912-06-23  1954-06-07  Computer Scientist   \n",
      "7          Johann Gauss  1777-04-30  1855-02-23       Mathematician   \n",
      "\n",
      "     born_dt    died_dt age_days_dt  age_years_dt  \n",
      "0 1920-07-25 1958-04-16  13779 days         37.72  \n",
      "1 1876-06-13 1937-10-16  22404 days         61.34  \n",
      "2 1820-05-12 1910-08-13  32964 days         90.25  \n",
      "3 1867-11-07 1934-07-04  24345 days         66.65  \n",
      "4 1907-05-27 1964-04-14  20777 days         56.88  \n",
      "5 1813-03-15 1858-06-16  16529 days         45.25  \n",
      "6 1912-06-23 1954-06-07  15324 days         41.95  \n",
      "7 1777-04-30 1855-02-23  28422 days         77.82  \n"
     ]
    }
   ],
   "source": [
    "print(scientists.columns,'\\n')\n",
    "\n",
    "scientists_dropped = scientists.drop(['Age'], axis=1)\n",
    "print(scientists_dropped)"
   ]
  },
  {
   "cell_type": "markdown",
   "metadata": {},
   "source": [
    "2.6 Exportando e importando dados\n"
   ]
  },
  {
   "cell_type": "markdown",
   "metadata": {},
   "source": [
    "2.6.1  pickle"
   ]
  },
  {
   "cell_type": "code",
   "execution_count": 27,
   "metadata": {},
   "outputs": [
    {
     "name": "stdout",
     "output_type": "stream",
     "text": [
      "0       Rosaline Franklin\n",
      "1          William Gosset\n",
      "2    Florence Nightingale\n",
      "3             Marie Curie\n",
      "4           Rachel Carson\n",
      "5               John Snow\n",
      "6             Alan Turing\n",
      "7            Johann Gauss\n",
      "Name: Name, dtype: object\n"
     ]
    }
   ],
   "source": [
    "names = scientists['Name']\n",
    "print(names)\n",
    "\n",
    "names.to_pickle('../output/scientists_names_series.pickle')\n",
    "scientists.to_pickle('../output/scientists_df.pkl')"
   ]
  },
  {
   "cell_type": "markdown",
   "metadata": {},
   "source": [
    "pickle salva os dados em binário, então mesmo que abra só verá um monte de caracteres confusos"
   ]
  },
  {
   "cell_type": "code",
   "execution_count": 28,
   "metadata": {},
   "outputs": [
    {
     "name": "stdout",
     "output_type": "stream",
     "text": [
      "0       Rosaline Franklin\n",
      "1          William Gosset\n",
      "2    Florence Nightingale\n",
      "3             Marie Curie\n",
      "4           Rachel Carson\n",
      "5               John Snow\n",
      "6             Alan Turing\n",
      "7            Johann Gauss\n",
      "Name: Name, dtype: object \n",
      "\n",
      "                   Name        Born        Died  Age          Occupation  \\\n",
      "0     Rosaline Franklin  1920-07-25  1958-04-16   77             Chemist   \n",
      "1        William Gosset  1876-06-13  1937-10-16   45        Statistician   \n",
      "2  Florence Nightingale  1820-05-12  1910-08-13   41               Nurse   \n",
      "3           Marie Curie  1867-11-07  1934-07-04   56             Chemist   \n",
      "4         Rachel Carson  1907-05-27  1964-04-14   61           Biologist   \n",
      "5             John Snow  1813-03-15  1858-06-16   37           Physician   \n",
      "6           Alan Turing  1912-06-23  1954-06-07   66  Computer Scientist   \n",
      "7          Johann Gauss  1777-04-30  1855-02-23   90       Mathematician   \n",
      "\n",
      "     born_dt    died_dt age_days_dt  age_years_dt  \n",
      "0 1920-07-25 1958-04-16  13779 days         37.72  \n",
      "1 1876-06-13 1937-10-16  22404 days         61.34  \n",
      "2 1820-05-12 1910-08-13  32964 days         90.25  \n",
      "3 1867-11-07 1934-07-04  24345 days         66.65  \n",
      "4 1907-05-27 1964-04-14  20777 days         56.88  \n",
      "5 1813-03-15 1858-06-16  16529 days         45.25  \n",
      "6 1912-06-23 1954-06-07  15324 days         41.95  \n",
      "7 1777-04-30 1855-02-23  28422 days         77.82  \n"
     ]
    }
   ],
   "source": [
    "#ler dados pickle para Series\n",
    "scientists_names_from_pickle = pd.read_pickle('../output/scientists_names_series.pickle')\n",
    "print(scientists_names_from_pickle, '\\n')\n",
    "#para DataFrame\n",
    "scientists_from_pickle = pd.read_pickle('../output/scientists_df.pkl')\n",
    "print(scientists_from_pickle)"
   ]
  },
  {
   "cell_type": "markdown",
   "metadata": {},
   "source": [
    "arquivos pickle podem ser salvos com extensão .p .pkl ou .pickle"
   ]
  },
  {
   "cell_type": "markdown",
   "metadata": {},
   "source": [
    "2.6.2 CSV"
   ]
  },
  {
   "cell_type": "code",
   "execution_count": 29,
   "metadata": {},
   "outputs": [
    {
     "name": "stdout",
     "output_type": "stream",
     "text": [
      "   Unnamed: 0                  Name        Born        Died  Age  \\\n",
      "0           0     Rosaline Franklin  1920-07-25  1958-04-16   77   \n",
      "1           1        William Gosset  1876-06-13  1937-10-16   45   \n",
      "2           2  Florence Nightingale  1820-05-12  1910-08-13   41   \n",
      "3           3           Marie Curie  1867-11-07  1934-07-04   56   \n",
      "4           4         Rachel Carson  1907-05-27  1964-04-14   61   \n",
      "5           5             John Snow  1813-03-15  1858-06-16   37   \n",
      "6           6           Alan Turing  1912-06-23  1954-06-07   66   \n",
      "7           7          Johann Gauss  1777-04-30  1855-02-23   90   \n",
      "\n",
      "           Occupation     born_dt     died_dt age_days_dt  age_years_dt  \n",
      "0             Chemist  1920-07-25  1958-04-16  13779 days         37.72  \n",
      "1        Statistician  1876-06-13  1937-10-16  22404 days         61.34  \n",
      "2               Nurse  1820-05-12  1910-08-13  32964 days         90.25  \n",
      "3             Chemist  1867-11-07  1934-07-04  24345 days         66.65  \n",
      "4           Biologist  1907-05-27  1964-04-14  20777 days         56.88  \n",
      "5           Physician  1813-03-15  1858-06-16  16529 days         45.25  \n",
      "6  Computer Scientist  1912-06-23  1954-06-07  15324 days         41.95  \n",
      "7       Mathematician  1777-04-30  1855-02-23  28422 days         77.82   \n",
      "\n",
      "   Unnamed: 0                  Name\n",
      "0           0     Rosaline Franklin\n",
      "1           1        William Gosset\n",
      "2           2  Florence Nightingale\n",
      "3           3           Marie Curie\n",
      "4           4         Rachel Carson\n",
      "5           5             John Snow\n",
      "6           6           Alan Turing\n",
      "7           7          Johann Gauss \n",
      "\n",
      "   Unnamed: 0                  Name        Born        Died  Age  \\\n",
      "0           0     Rosaline Franklin  1920-07-25  1958-04-16   77   \n",
      "1           1        William Gosset  1876-06-13  1937-10-16   45   \n",
      "2           2  Florence Nightingale  1820-05-12  1910-08-13   41   \n",
      "3           3           Marie Curie  1867-11-07  1934-07-04   56   \n",
      "4           4         Rachel Carson  1907-05-27  1964-04-14   61   \n",
      "5           5             John Snow  1813-03-15  1858-06-16   37   \n",
      "6           6           Alan Turing  1912-06-23  1954-06-07   66   \n",
      "7           7          Johann Gauss  1777-04-30  1855-02-23   90   \n",
      "\n",
      "           Occupation     born_dt     died_dt age_days_dt  age_years_dt  \n",
      "0             Chemist  1920-07-25  1958-04-16  13779 days         37.72  \n",
      "1        Statistician  1876-06-13  1937-10-16  22404 days         61.34  \n",
      "2               Nurse  1820-05-12  1910-08-13  32964 days         90.25  \n",
      "3             Chemist  1867-11-07  1934-07-04  24345 days         66.65  \n",
      "4           Biologist  1907-05-27  1964-04-14  20777 days         56.88  \n",
      "5           Physician  1813-03-15  1858-06-16  16529 days         45.25  \n",
      "6  Computer Scientist  1912-06-23  1954-06-07  15324 days         41.95  \n",
      "7       Mathematician  1777-04-30  1855-02-23  28422 days         77.82  \n"
     ]
    }
   ],
   "source": [
    "#salva uma serie em csv\n",
    "names.to_csv('../output/scientists_names_series.csv')\n",
    "\n",
    "#salva um dataframe em tsv\n",
    "scientists.to_csv('../output/scientists_df.tsv', sep='\\t')\n",
    "\n",
    "#salva os dados sem escrever o nome das linhas na saída CSV\n",
    "scientists.to_csv('../output/scientists_df_no_index.csv', sep='\\t')\n",
    "\n",
    "scientists_from_tsv = pd.read_csv('../output/scientists_df.tsv', sep='\\t')\n",
    "scientists_names_from_csv = pd.read_csv('../output/scientists_names_series.csv')\n",
    "scientists_no_index_from_tsv = pd.read_csv('../output/scientists_df_no_index.csv', sep='\\t')\n",
    "\n",
    "\n",
    "print(scientists_from_tsv, '\\n')\n",
    "print(scientists_names_from_csv, '\\n')\n",
    "print(scientists_no_index_from_tsv)"
   ]
  },
  {
   "cell_type": "markdown",
   "metadata": {},
   "source": [
    "2.6.3 Exel\n",
    "\n",
    "Exel tem uma má reputação dentro da comunidade de ciência de dados e tabém não são muito usados. Então é melhor só ignorar e fingir que não existe enquanto eu não precisar usar"
   ]
  },
  {
   "cell_type": "markdown",
   "metadata": {},
   "source": [
    "2.6.3.1 Series e 2.6.3.2 DataFrame"
   ]
  },
  {
   "cell_type": "markdown",
   "metadata": {},
   "source": [
    "Estrutura de dados series não tem um to_exel eplícito, então é preciso converter o seires em um dataframe de uma única coluna"
   ]
  },
  {
   "cell_type": "code",
   "execution_count": 30,
   "metadata": {},
   "outputs": [],
   "source": [
    "names_df = names.to_frame()\n",
    "\n",
    "import openpyxl\n",
    "names_df.to_excel('../output/scients_names_series_df.xlsx')"
   ]
  },
  {
   "cell_type": "code",
   "execution_count": 31,
   "metadata": {},
   "outputs": [
    {
     "data": {
      "text/html": [
       "<div>\n",
       "<style scoped>\n",
       "    .dataframe tbody tr th:only-of-type {\n",
       "        vertical-align: middle;\n",
       "    }\n",
       "\n",
       "    .dataframe tbody tr th {\n",
       "        vertical-align: top;\n",
       "    }\n",
       "\n",
       "    .dataframe thead th {\n",
       "        text-align: right;\n",
       "    }\n",
       "</style>\n",
       "<table border=\"1\" class=\"dataframe\">\n",
       "  <thead>\n",
       "    <tr style=\"text-align: right;\">\n",
       "      <th></th>\n",
       "      <th>Unnamed: 0</th>\n",
       "      <th>Name</th>\n",
       "    </tr>\n",
       "  </thead>\n",
       "  <tbody>\n",
       "    <tr>\n",
       "      <th>0</th>\n",
       "      <td>0</td>\n",
       "      <td>Rosaline Franklin</td>\n",
       "    </tr>\n",
       "    <tr>\n",
       "      <th>1</th>\n",
       "      <td>1</td>\n",
       "      <td>William Gosset</td>\n",
       "    </tr>\n",
       "    <tr>\n",
       "      <th>2</th>\n",
       "      <td>2</td>\n",
       "      <td>Florence Nightingale</td>\n",
       "    </tr>\n",
       "    <tr>\n",
       "      <th>3</th>\n",
       "      <td>3</td>\n",
       "      <td>Marie Curie</td>\n",
       "    </tr>\n",
       "    <tr>\n",
       "      <th>4</th>\n",
       "      <td>4</td>\n",
       "      <td>Rachel Carson</td>\n",
       "    </tr>\n",
       "    <tr>\n",
       "      <th>5</th>\n",
       "      <td>5</td>\n",
       "      <td>John Snow</td>\n",
       "    </tr>\n",
       "    <tr>\n",
       "      <th>6</th>\n",
       "      <td>6</td>\n",
       "      <td>Alan Turing</td>\n",
       "    </tr>\n",
       "    <tr>\n",
       "      <th>7</th>\n",
       "      <td>7</td>\n",
       "      <td>Johann Gauss</td>\n",
       "    </tr>\n",
       "  </tbody>\n",
       "</table>\n",
       "</div>"
      ],
      "text/plain": [
       "   Unnamed: 0                  Name\n",
       "0           0     Rosaline Franklin\n",
       "1           1        William Gosset\n",
       "2           2  Florence Nightingale\n",
       "3           3           Marie Curie\n",
       "4           4         Rachel Carson\n",
       "5           5             John Snow\n",
       "6           6           Alan Turing\n",
       "7           7          Johann Gauss"
      ]
     },
     "execution_count": 31,
     "metadata": {},
     "output_type": "execute_result"
    }
   ],
   "source": [
    "pd.read_excel('../output/scients_names_series_df.xlsx')"
   ]
  },
  {
   "cell_type": "code",
   "execution_count": 32,
   "metadata": {},
   "outputs": [
    {
     "data": {
      "text/html": [
       "<div>\n",
       "<style scoped>\n",
       "    .dataframe tbody tr th:only-of-type {\n",
       "        vertical-align: middle;\n",
       "    }\n",
       "\n",
       "    .dataframe tbody tr th {\n",
       "        vertical-align: top;\n",
       "    }\n",
       "\n",
       "    .dataframe thead th {\n",
       "        text-align: right;\n",
       "    }\n",
       "</style>\n",
       "<table border=\"1\" class=\"dataframe\">\n",
       "  <thead>\n",
       "    <tr style=\"text-align: right;\">\n",
       "      <th></th>\n",
       "      <th>Name</th>\n",
       "      <th>Born</th>\n",
       "      <th>Died</th>\n",
       "      <th>Age</th>\n",
       "      <th>Occupation</th>\n",
       "      <th>born_dt</th>\n",
       "      <th>died_dt</th>\n",
       "      <th>age_days_dt</th>\n",
       "      <th>age_years_dt</th>\n",
       "    </tr>\n",
       "  </thead>\n",
       "  <tbody>\n",
       "    <tr>\n",
       "      <th>0</th>\n",
       "      <td>Rosaline Franklin</td>\n",
       "      <td>1920-07-25</td>\n",
       "      <td>1958-04-16</td>\n",
       "      <td>77</td>\n",
       "      <td>Chemist</td>\n",
       "      <td>1920-07-25</td>\n",
       "      <td>1958-04-16</td>\n",
       "      <td>13779</td>\n",
       "      <td>37.72</td>\n",
       "    </tr>\n",
       "    <tr>\n",
       "      <th>1</th>\n",
       "      <td>William Gosset</td>\n",
       "      <td>1876-06-13</td>\n",
       "      <td>1937-10-16</td>\n",
       "      <td>45</td>\n",
       "      <td>Statistician</td>\n",
       "      <td>1876-06-13</td>\n",
       "      <td>1937-10-16</td>\n",
       "      <td>22404</td>\n",
       "      <td>61.34</td>\n",
       "    </tr>\n",
       "    <tr>\n",
       "      <th>2</th>\n",
       "      <td>Florence Nightingale</td>\n",
       "      <td>1820-05-12</td>\n",
       "      <td>1910-08-13</td>\n",
       "      <td>41</td>\n",
       "      <td>Nurse</td>\n",
       "      <td>1820-05-12</td>\n",
       "      <td>1910-08-13</td>\n",
       "      <td>32964</td>\n",
       "      <td>90.25</td>\n",
       "    </tr>\n",
       "    <tr>\n",
       "      <th>3</th>\n",
       "      <td>Marie Curie</td>\n",
       "      <td>1867-11-07</td>\n",
       "      <td>1934-07-04</td>\n",
       "      <td>56</td>\n",
       "      <td>Chemist</td>\n",
       "      <td>1867-11-07</td>\n",
       "      <td>1934-07-04</td>\n",
       "      <td>24345</td>\n",
       "      <td>66.65</td>\n",
       "    </tr>\n",
       "    <tr>\n",
       "      <th>4</th>\n",
       "      <td>Rachel Carson</td>\n",
       "      <td>1907-05-27</td>\n",
       "      <td>1964-04-14</td>\n",
       "      <td>61</td>\n",
       "      <td>Biologist</td>\n",
       "      <td>1907-05-27</td>\n",
       "      <td>1964-04-14</td>\n",
       "      <td>20777</td>\n",
       "      <td>56.88</td>\n",
       "    </tr>\n",
       "    <tr>\n",
       "      <th>5</th>\n",
       "      <td>John Snow</td>\n",
       "      <td>1813-03-15</td>\n",
       "      <td>1858-06-16</td>\n",
       "      <td>37</td>\n",
       "      <td>Physician</td>\n",
       "      <td>1813-03-15</td>\n",
       "      <td>1858-06-16</td>\n",
       "      <td>16529</td>\n",
       "      <td>45.25</td>\n",
       "    </tr>\n",
       "    <tr>\n",
       "      <th>6</th>\n",
       "      <td>Alan Turing</td>\n",
       "      <td>1912-06-23</td>\n",
       "      <td>1954-06-07</td>\n",
       "      <td>66</td>\n",
       "      <td>Computer Scientist</td>\n",
       "      <td>1912-06-23</td>\n",
       "      <td>1954-06-07</td>\n",
       "      <td>15324</td>\n",
       "      <td>41.95</td>\n",
       "    </tr>\n",
       "    <tr>\n",
       "      <th>7</th>\n",
       "      <td>Johann Gauss</td>\n",
       "      <td>1777-04-30</td>\n",
       "      <td>1855-02-23</td>\n",
       "      <td>90</td>\n",
       "      <td>Mathematician</td>\n",
       "      <td>1777-04-30</td>\n",
       "      <td>1855-02-23</td>\n",
       "      <td>28422</td>\n",
       "      <td>77.82</td>\n",
       "    </tr>\n",
       "  </tbody>\n",
       "</table>\n",
       "</div>"
      ],
      "text/plain": [
       "                   Name        Born        Died  Age          Occupation  \\\n",
       "0     Rosaline Franklin  1920-07-25  1958-04-16   77             Chemist   \n",
       "1        William Gosset  1876-06-13  1937-10-16   45        Statistician   \n",
       "2  Florence Nightingale  1820-05-12  1910-08-13   41               Nurse   \n",
       "3           Marie Curie  1867-11-07  1934-07-04   56             Chemist   \n",
       "4         Rachel Carson  1907-05-27  1964-04-14   61           Biologist   \n",
       "5             John Snow  1813-03-15  1858-06-16   37           Physician   \n",
       "6           Alan Turing  1912-06-23  1954-06-07   66  Computer Scientist   \n",
       "7          Johann Gauss  1777-04-30  1855-02-23   90       Mathematician   \n",
       "\n",
       "     born_dt    died_dt  age_days_dt  age_years_dt  \n",
       "0 1920-07-25 1958-04-16        13779         37.72  \n",
       "1 1876-06-13 1937-10-16        22404         61.34  \n",
       "2 1820-05-12 1910-08-13        32964         90.25  \n",
       "3 1867-11-07 1934-07-04        24345         66.65  \n",
       "4 1907-05-27 1964-04-14        20777         56.88  \n",
       "5 1813-03-15 1858-06-16        16529         45.25  \n",
       "6 1912-06-23 1954-06-07        15324         41.95  \n",
       "7 1777-04-30 1855-02-23        28422         77.82  "
      ]
     },
     "execution_count": 32,
     "metadata": {},
     "output_type": "execute_result"
    }
   ],
   "source": [
    "scientists.to_excel('../output/scientists_df_exel.xlsx', sheet_name='scientists', index=False)\n",
    "pd.read_excel('../output/scientists_df_exel.xlsx')"
   ]
  },
  {
   "cell_type": "markdown",
   "metadata": {},
   "source": [
    "Aparentemente o xlwt não é mais suportado pelo  pandas como motor de escrita padrão para arquivos exel, então é melhor usar o openpyxl"
   ]
  },
  {
   "cell_type": "markdown",
   "metadata": {},
   "source": [
    "2.6.4 Formato feather para interface com R\n"
   ]
  },
  {
   "cell_type": "code",
   "execution_count": 34,
   "metadata": {},
   "outputs": [
    {
     "data": {
      "text/html": [
       "<div>\n",
       "<style scoped>\n",
       "    .dataframe tbody tr th:only-of-type {\n",
       "        vertical-align: middle;\n",
       "    }\n",
       "\n",
       "    .dataframe tbody tr th {\n",
       "        vertical-align: top;\n",
       "    }\n",
       "\n",
       "    .dataframe thead th {\n",
       "        text-align: right;\n",
       "    }\n",
       "</style>\n",
       "<table border=\"1\" class=\"dataframe\">\n",
       "  <thead>\n",
       "    <tr style=\"text-align: right;\">\n",
       "      <th></th>\n",
       "      <th>Name</th>\n",
       "    </tr>\n",
       "  </thead>\n",
       "  <tbody>\n",
       "    <tr>\n",
       "      <th>0</th>\n",
       "      <td>Rosaline Franklin</td>\n",
       "    </tr>\n",
       "    <tr>\n",
       "      <th>1</th>\n",
       "      <td>William Gosset</td>\n",
       "    </tr>\n",
       "    <tr>\n",
       "      <th>2</th>\n",
       "      <td>Florence Nightingale</td>\n",
       "    </tr>\n",
       "    <tr>\n",
       "      <th>3</th>\n",
       "      <td>Marie Curie</td>\n",
       "    </tr>\n",
       "    <tr>\n",
       "      <th>4</th>\n",
       "      <td>Rachel Carson</td>\n",
       "    </tr>\n",
       "    <tr>\n",
       "      <th>5</th>\n",
       "      <td>John Snow</td>\n",
       "    </tr>\n",
       "    <tr>\n",
       "      <th>6</th>\n",
       "      <td>Alan Turing</td>\n",
       "    </tr>\n",
       "    <tr>\n",
       "      <th>7</th>\n",
       "      <td>Johann Gauss</td>\n",
       "    </tr>\n",
       "  </tbody>\n",
       "</table>\n",
       "</div>"
      ],
      "text/plain": [
       "                   Name\n",
       "0     Rosaline Franklin\n",
       "1        William Gosset\n",
       "2  Florence Nightingale\n",
       "3           Marie Curie\n",
       "4         Rachel Carson\n",
       "5             John Snow\n",
       "6           Alan Turing\n",
       "7          Johann Gauss"
      ]
     },
     "execution_count": 34,
     "metadata": {},
     "output_type": "execute_result"
    }
   ],
   "source": [
    "import feather\n",
    "\n",
    "names_df.to_feather('../output/names_series_df_feather.feather')\n",
    "\n",
    "pd.read_feather('../output/names_series_df_feather.feather')"
   ]
  },
  {
   "cell_type": "markdown",
   "metadata": {},
   "source": [
    "O feather deve ser usado quando precisar carregar algum dado na linguagem R. \n",
    "\n",
    "Fora isso é melhor não usar o formato feather para armazenagem de longo prazo"
   ]
  },
  {
   "cell_type": "markdown",
   "metadata": {},
   "source": [
    "2.6.5 Outos tipos de saída"
   ]
  },
  {
   "cell_type": "code",
   "execution_count": 36,
   "metadata": {},
   "outputs": [
    {
     "data": {
      "text/plain": [
       "[   Unnamed: 0                  Name        Born        Died  Age  \\\n",
       " 0           0     Rosaline Franklin  1920-07-25  1958-04-16   77   \n",
       " 1           1        William Gosset  1876-06-13  1937-10-16   45   \n",
       " 2           2  Florence Nightingale  1820-05-12  1910-08-13   41   \n",
       " 3           3           Marie Curie  1867-11-07  1934-07-04   56   \n",
       " 4           4         Rachel Carson  1907-05-27  1964-04-14   61   \n",
       " 5           5             John Snow  1813-03-15  1858-06-16   37   \n",
       " 6           6           Alan Turing  1912-06-23  1954-06-07   66   \n",
       " 7           7          Johann Gauss  1777-04-30  1855-02-23   90   \n",
       " \n",
       "            Occupation     born_dt     died_dt age_days_dt  age_years_dt  \n",
       " 0             Chemist  1920-07-25  1958-04-16  13779 days         37.72  \n",
       " 1        Statistician  1876-06-13  1937-10-16  22404 days         61.34  \n",
       " 2               Nurse  1820-05-12  1910-08-13  32964 days         90.25  \n",
       " 3             Chemist  1867-11-07  1934-07-04  24345 days         66.65  \n",
       " 4           Biologist  1907-05-27  1964-04-14  20777 days         56.88  \n",
       " 5           Physician  1813-03-15  1858-06-16  16529 days         45.25  \n",
       " 6  Computer Scientist  1912-06-23  1954-06-07  15324 days         41.95  \n",
       " 7       Mathematician  1777-04-30  1855-02-23  28422 days         77.82  ]"
      ]
     },
     "execution_count": 36,
     "metadata": {},
     "output_type": "execute_result"
    }
   ],
   "source": [
    "scientists.to_html('../output/scientists_df_html.html')\n",
    "pd.read_html('../output/scientists_df_html.html')"
   ]
  },
  {
   "cell_type": "markdown",
   "metadata": {},
   "source": [
    "Tem um monte de tipos de saida !!!\n",
    "\n",
    "Sei lá quando vou usar tudo isso"
   ]
  }
 ],
 "metadata": {
  "kernelspec": {
   "display_name": "pfe_certo",
   "language": "python",
   "name": "python3"
  },
  "language_info": {
   "codemirror_mode": {
    "name": "ipython",
    "version": 3
   },
   "file_extension": ".py",
   "mimetype": "text/x-python",
   "name": "python",
   "nbconvert_exporter": "python",
   "pygments_lexer": "ipython3",
   "version": "3.12.3"
  }
 },
 "nbformat": 4,
 "nbformat_minor": 2
}

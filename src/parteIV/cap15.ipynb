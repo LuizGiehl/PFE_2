{
 "cells": [
  {
   "cell_type": "markdown",
   "metadata": {},
   "source": [
    "CAPÍTULO 15 - Regularização\n",
    "-"
   ]
  },
  {
   "cell_type": "markdown",
   "metadata": {},
   "source": [
    "No Capítulo 14 vimos maneiras de avaliar o desempenho dos modelos. Neste capítulo explorará a regularização: técnica para melhorar o desempenho em dados de teste."
   ]
  },
  {
   "cell_type": "markdown",
   "metadata": {},
   "source": [
    "15.2 Por que regularizar ?"
   ]
  },
  {
   "cell_type": "code",
   "execution_count": 166,
   "metadata": {},
   "outputs": [
    {
     "name": "stdout",
     "output_type": "stream",
     "text": [
      "Index(['Acres', 'FamilyIncome', 'FamilyType', 'NumBedrooms', 'NumChildren',\n",
      "       'NumPeople', 'NumRooms', 'NumUnits', 'NumVehicles', 'NumWorkers',\n",
      "       'OwnRent', 'YearBuilt', 'HouseCosts', 'ElectricBill', 'FoodStamp',\n",
      "       'HeatingFuel', 'Insurance', 'Language'],\n",
      "      dtype='object')\n"
     ]
    }
   ],
   "source": [
    "import pandas as pd\n",
    "acs = pd.read_csv('../../data/acs_ny.csv')\n",
    "print(acs.columns)"
   ]
  },
  {
   "cell_type": "markdown",
   "metadata": {},
   "source": [
    "vamos criar matrizes de desing usando a patsy"
   ]
  },
  {
   "cell_type": "code",
   "execution_count": 167,
   "metadata": {},
   "outputs": [],
   "source": [
    "from patsy import dmatrices\n",
    "\n",
    "response, predictors = dmatrices('FamilyIncome ~ NumBedrooms + NumChildren + NumPeople + NumRooms + NumUnits + NumVehicles +' \\\n",
    "                                 'NumWorkers + OwnRent + YearBuilt + HouseCosts + ElectricBill + FoodStamp + HeatingFuel + Insurance + Language', data=acs)"
   ]
  },
  {
   "cell_type": "code",
   "execution_count": 168,
   "metadata": {},
   "outputs": [],
   "source": [
    "from sklearn.model_selection import train_test_split\n",
    "\n",
    "x_train, x_test, y_train, y_test = train_test_split(predictors, response, random_state=0)"
   ]
  },
  {
   "cell_type": "markdown",
   "metadata": {},
   "source": [
    "Faremos agora a adequação ao nosso modelo linear. Nesse caso, estamos normalizando os dados para comparar os coeficientes ao usar as técnicas de regularização"
   ]
  },
  {
   "cell_type": "code",
   "execution_count": 169,
   "metadata": {},
   "outputs": [
    {
     "name": "stdout",
     "output_type": "stream",
     "text": [
      "[[196605.96895481]\n",
      " [ 64581.30047506]\n",
      " [126166.63884232]\n",
      " ...\n",
      " [ 46379.99318873]\n",
      " [ 69131.10690884]\n",
      " [ 38448.93944903]]\n",
      "Pipeline(steps=[('standardscaler', StandardScaler()),\n",
      "                ('linearregression', LinearRegression())])\n"
     ]
    }
   ],
   "source": [
    "from sklearn.linear_model import LinearRegression\n",
    "from sklearn.preprocessing import StandardScaler\n",
    "from sklearn.pipeline import make_pipeline\n",
    "\n",
    "# Normalizar os dados e ajustar o modelo\n",
    "pipeline = make_pipeline(StandardScaler(), LinearRegression())\n",
    "pipeline.fit(x_train, y_train)\n",
    "\n",
    "# Agora você pode usar pipeline.predict para fazer previsões\n",
    "y_pred = pipeline.predict(x_test)\n",
    "print(y_pred)\n",
    "print(pipeline)"
   ]
  },
  {
   "cell_type": "markdown",
   "metadata": {},
   "source": [
    "15.3 Regressão LASSO"
   ]
  },
  {
   "cell_type": "markdown",
   "metadata": {},
   "source": [
    "A primeira técnica de regularização se chama LASSO (Least Absolute Shrinkage an Selection Operator), também conhecida como regularização L1"
   ]
  },
  {
   "cell_type": "code",
   "execution_count": 170,
   "metadata": {},
   "outputs": [
    {
     "name": "stdout",
     "output_type": "stream",
     "text": [
      "                       variable    coef_lasso\n",
      "0                     Intercept      0.000000\n",
      "1   NumUnits[T.Single attached]   3907.138710\n",
      "2   NumUnits[T.Single detached]   4181.061704\n",
      "3           OwnRent[T.Outright]   6475.305290\n",
      "4             OwnRent[T.Rented]   1222.822149\n",
      "5        YearBuilt[T.1940-1949]  -7676.574958\n",
      "6        YearBuilt[T.1950-1959]  -9038.463519\n",
      "7        YearBuilt[T.1960-1969]  -8177.292117\n",
      "8        YearBuilt[T.1970-1979]  -7617.118461\n",
      "9        YearBuilt[T.1980-1989]  -4304.593236\n",
      "10       YearBuilt[T.1990-1999]  -6667.913780\n",
      "11       YearBuilt[T.2000-2004]  -3454.510091\n",
      "12            YearBuilt[T.2005]  -3886.362558\n",
      "13            YearBuilt[T.2006]  -2128.432825\n",
      "14            YearBuilt[T.2007]  -2184.841261\n",
      "15            YearBuilt[T.2008]    312.296743\n",
      "16            YearBuilt[T.2009]  -1162.746105\n",
      "17            YearBuilt[T.2010]   -356.493979\n",
      "18     YearBuilt[T.Before 1939] -12134.894031\n",
      "19             FoodStamp[T.Yes]  -5227.340837\n",
      "20   HeatingFuel[T.Electricity]   3756.251561\n",
      "21           HeatingFuel[T.Gas]  10849.218705\n",
      "22           HeatingFuel[T.Oil]   8833.497857\n",
      "23         HeatingFuel[T.Other]   1846.709814\n",
      "24         HeatingFuel[T.Solar]      0.000000\n",
      "25          HeatingFuel[T.Wood]    813.438029\n",
      "26          Language[T.English]   -448.274780\n",
      "27            Language[T.Other]  -1320.660720\n",
      "28   Language[T.Other European]  -2273.210772\n",
      "29          Language[T.Spanish]  -4400.585164\n",
      "30                  NumBedrooms   3363.982022\n",
      "31                  NumChildren   6771.405843\n",
      "32                    NumPeople -11026.575128\n",
      "33                     NumRooms   9816.557540\n",
      "34                  NumVehicles   9220.259955\n",
      "35                   NumWorkers  16949.658744\n",
      "36                   HouseCosts  30175.679350\n",
      "37                 ElectricBill   3292.138477\n",
      "38                    Insurance  18774.043818\n"
     ]
    }
   ],
   "source": [
    "from sklearn.linear_model import Lasso\n",
    "\n",
    "# Cria um pipeline que normaliza os dados e ajusta um modelo Lasso\n",
    "lasso_pipeline = make_pipeline(StandardScaler(), Lasso(max_iter=10000))\n",
    "lasso_pipeline.fit(x_test, y_test)\n",
    "\n",
    "lasso_model = lasso_pipeline.named_steps['lasso']\n",
    "coefs_lasso = pd.DataFrame(list(zip(predictors.design_info.column_names, lasso_model.coef_)),\n",
    "                           columns=['variable', 'coef_lasso'])\n",
    "\n",
    "print(coefs_lasso)"
   ]
  },
  {
   "cell_type": "code",
   "execution_count": 171,
   "metadata": {},
   "outputs": [
    {
     "name": "stdout",
     "output_type": "stream",
     "text": [
      "0.3322083235465969\n"
     ]
    }
   ],
   "source": [
    "#podemos observar as pontuações de nosso modelo\n",
    "print(lasso_pipeline.score(x_train, y_train))"
   ]
  },
  {
   "cell_type": "code",
   "execution_count": 172,
   "metadata": {},
   "outputs": [
    {
     "name": "stdout",
     "output_type": "stream",
     "text": [
      "0.3239433914020816\n"
     ]
    }
   ],
   "source": [
    "print(lasso_pipeline.score(x_test, y_test))"
   ]
  },
  {
   "cell_type": "code",
   "execution_count": 173,
   "metadata": {},
   "outputs": [],
   "source": [
    "# Fazendo previsões com o modelo Lasso\n",
    "y_pred_lasso = lasso_pipeline.predict(x_test)"
   ]
  },
  {
   "cell_type": "markdown",
   "metadata": {},
   "source": [
    "15.4 Regressão de ridge"
   ]
  },
  {
   "cell_type": "markdown",
   "metadata": {},
   "source": [
    "Analisaremos agora outra técnica de regularização, a regressão ridge, também conhecida como regularização L2"
   ]
  },
  {
   "cell_type": "code",
   "execution_count": 174,
   "metadata": {},
   "outputs": [],
   "source": [
    "from sklearn.linear_model import Ridge\n",
    "\n",
    "# Cria um pipeline que normaliza os dados e ajusta um modelo Ridge\n",
    "ridge_pipeline = make_pipeline(StandardScaler(), Ridge())\n",
    "ridge_pipeline.fit(x_train, y_train)\n",
    "\n",
    "ridge_model = ridge_pipeline.named_steps['ridge']"
   ]
  },
  {
   "cell_type": "code",
   "execution_count": 175,
   "metadata": {},
   "outputs": [
    {
     "name": "stdout",
     "output_type": "stream",
     "text": [
      "                       variable    coef_lasso   coefs_ridge\n",
      "0                     Intercept      0.000000      0.000000\n",
      "1   NumUnits[T.Single attached]   3907.138710   2821.231114\n",
      "2   NumUnits[T.Single detached]   4181.061704   3020.257041\n",
      "3           OwnRent[T.Outright]   6475.305290   4161.671555\n",
      "4             OwnRent[T.Rented]   1222.822149    896.856302\n",
      "5        YearBuilt[T.1940-1949]  -7676.574958    260.838022\n",
      "6        YearBuilt[T.1950-1959]  -9038.463519   2088.171681\n",
      "7        YearBuilt[T.1960-1969]  -8177.292117   1748.553203\n",
      "8        YearBuilt[T.1970-1979]  -7617.118461   1631.804938\n",
      "9        YearBuilt[T.1980-1989]  -4304.593236   3524.145637\n",
      "10       YearBuilt[T.1990-1999]  -6667.913780   4822.455119\n",
      "11       YearBuilt[T.2000-2004]  -3454.510091   2679.042188\n",
      "12            YearBuilt[T.2005]  -3886.362558   2388.374395\n",
      "13            YearBuilt[T.2006]  -2128.432825   1503.906730\n",
      "14            YearBuilt[T.2007]  -2184.841261   1564.643300\n",
      "15            YearBuilt[T.2008]    312.296743    377.920800\n",
      "16            YearBuilt[T.2009]  -1162.746105     78.799204\n",
      "17            YearBuilt[T.2010]   -356.493979   2060.662727\n",
      "18     YearBuilt[T.Before 1939] -12134.894031   2446.532208\n",
      "19             FoodStamp[T.Yes]  -5227.340837  -4845.420205\n",
      "20   HeatingFuel[T.Electricity]   3756.251561   1481.325366\n",
      "21           HeatingFuel[T.Gas]  10849.218705   5035.734459\n",
      "22           HeatingFuel[T.Oil]   8833.497857   2970.172256\n",
      "23         HeatingFuel[T.Other]   1846.709814    334.531216\n",
      "24         HeatingFuel[T.Solar]      0.000000     17.240358\n",
      "25          HeatingFuel[T.Wood]    813.438029   -445.832684\n",
      "26          Language[T.English]   -448.274780   1045.367765\n",
      "27            Language[T.Other]  -1320.660720    685.814137\n",
      "28   Language[T.Other European]  -2273.210772   -602.243752\n",
      "29          Language[T.Spanish]  -4400.585164  -3046.241468\n",
      "30                  NumBedrooms   3363.982022   1491.210751\n",
      "31                  NumChildren   6771.405843   5340.936890\n",
      "32                    NumPeople -11026.575128 -10643.803283\n",
      "33                     NumRooms   9816.557540  11937.444547\n",
      "34                  NumVehicles   9220.259955   8028.941150\n",
      "35                   NumWorkers  16949.658744  16790.772324\n",
      "36                   HouseCosts  30175.679350  31754.324597\n",
      "37                 ElectricBill   3292.138477   5218.169200\n",
      "38                    Insurance  18774.043818  18914.070666\n"
     ]
    }
   ],
   "source": [
    "coefs_ridge = pd.DataFrame(\n",
    "    list(zip(predictors.design_info.column_names, ridge_model.coef_[0])),\n",
    "    columns=['variable', 'coefs_ridge']\n",
    ")\n",
    "\n",
    "model_coefs = pd.DataFrame()\n",
    "model_coefs = pd.merge(coefs_lasso, coefs_ridge)\n",
    "\n",
    "print(model_coefs)"
   ]
  },
  {
   "cell_type": "code",
   "execution_count": 176,
   "metadata": {},
   "outputs": [],
   "source": [
    "# Fazendo previsões com o modelo Ridge\n",
    "y_pred_ridge = ridge_pipeline.predict(x_test)"
   ]
  },
  {
   "cell_type": "markdown",
   "metadata": {},
   "source": [
    "Outro modo de comparar as duas técnicas \n",
    "-\n"
   ]
  },
  {
   "cell_type": "markdown",
   "metadata": {},
   "source": [
    "comparação de coeficientes"
   ]
  },
  {
   "cell_type": "code",
   "execution_count": 177,
   "metadata": {},
   "outputs": [
    {
     "name": "stdout",
     "output_type": "stream",
     "text": [
      "Coeficientes do modelo Ridge:\n",
      "[[ 0.00000000e+00  2.82123111e+03  3.02025704e+03  4.16167156e+03\n",
      "   8.96856302e+02  2.60838022e+02  2.08817168e+03  1.74855320e+03\n",
      "   1.63180494e+03  3.52414564e+03  4.82245512e+03  2.67904219e+03\n",
      "   2.38837439e+03  1.50390673e+03  1.56464330e+03  3.77920800e+02\n",
      "   7.87992038e+01  2.06066273e+03  2.44653221e+03 -4.84542020e+03\n",
      "   1.48132537e+03  5.03573446e+03  2.97017226e+03  3.34531216e+02\n",
      "   1.72403578e+01 -4.45832684e+02  1.04536776e+03  6.85814137e+02\n",
      "  -6.02243752e+02 -3.04624147e+03  1.49121075e+03  5.34093689e+03\n",
      "  -1.06438033e+04  1.19374445e+04  8.02894115e+03  1.67907723e+04\n",
      "   3.17543246e+04  5.21816920e+03  1.89140707e+04]]\n",
      "\n",
      "Coeficientes do modelo Lasso:\n",
      "[     0.           3907.1387105    4181.061704     6475.30529002\n",
      "   1222.82214878  -7676.57495763  -9038.46351919  -8177.29211723\n",
      "  -7617.11846132  -4304.59323569  -6667.91377971  -3454.51009111\n",
      "  -3886.36255766  -2128.43282524  -2184.84126054    312.29674319\n",
      "  -1162.74610508   -356.49397885 -12134.89403069  -5227.34083663\n",
      "   3756.25156077  10849.21870548   8833.49785662   1846.70981404\n",
      "      0.            813.43802909   -448.27478017  -1320.66071957\n",
      "  -2273.21077216  -4400.58516418   3363.98202154   6771.40584303\n",
      " -11026.57512815   9816.55753999   9220.25995504  16949.65874448\n",
      "  30175.67934956   3292.13847695  18774.04381837]\n",
      "\n",
      "Coeficientes do modelo Linear sem regularização:\n",
      "[[ 1.74392614e-14  2.82156720e+03  3.02074538e+03  4.16261855e+03\n",
      "   8.97543868e+02  4.38173250e+02  2.33619135e+03  1.96277246e+03\n",
      "   1.83079330e+03  3.71029352e+03  5.01004894e+03  2.81603147e+03\n",
      "   2.45239515e+03  1.56175112e+03  1.61934440e+03  4.22824224e+02\n",
      "   1.18957037e+02  2.09133749e+03  2.73786577e+03 -4.84489628e+03\n",
      "   1.48826884e+03  5.05215505e+03  2.98498331e+03  3.37552862e+02\n",
      "   1.77848972e+01 -4.38086294e+02  1.04535280e+03  6.85711713e+02\n",
      "  -6.02257473e+02 -3.04632890e+03  1.49090997e+03  5.34340910e+03\n",
      "  -1.06467851e+04  1.19378709e+04  8.02954150e+03  1.67925690e+04\n",
      "   3.17559361e+04  5.21758541e+03  1.89147164e+04]]\n"
     ]
    }
   ],
   "source": [
    "# Coeficientes do modelo Ridge\n",
    "ridge_coefs = ridge_pipeline.named_steps['ridge'].coef_\n",
    "\n",
    "# Coeficientes do modelo Lasso\n",
    "lasso_coefs = lasso_pipeline.named_steps['lasso'].coef_\n",
    "\n",
    "# Coeficientes do modelo Linear sem regularização\n",
    "linear_coefs = pipeline.named_steps['linearregression'].coef_\n",
    "\n",
    "# Comparando os coeficientes\n",
    "print(\"Coeficientes do modelo Ridge:\")\n",
    "print(ridge_coefs)\n",
    "\n",
    "print(\"\\nCoeficientes do modelo Lasso:\")\n",
    "print(lasso_coefs)\n",
    "\n",
    "print(\"\\nCoeficientes do modelo Linear sem regularização:\")\n",
    "print(linear_coefs)"
   ]
  },
  {
   "cell_type": "markdown",
   "metadata": {},
   "source": [
    "Avaliação de modelos"
   ]
  },
  {
   "cell_type": "code",
   "execution_count": 178,
   "metadata": {},
   "outputs": [
    {
     "name": "stdout",
     "output_type": "stream",
     "text": [
      "MSE do modelo Ridge: 6801837108.63442\n",
      "R² do modelo Ridge: 0.31852434713161437\n",
      "MSE do modelo Lasso: 6747749400.207784\n",
      "R² do modelo Lasso: 0.3239433914020816\n",
      "MSE do modelo Linear sem regularização: 6801866648.475862\n",
      "R² do modelo Linear sem regularização: 0.31852138753666814\n"
     ]
    }
   ],
   "source": [
    "from sklearn.metrics import mean_squared_error, r2_score\n",
    "\n",
    "# Avaliação do modelo Ridge\n",
    "mse_ridge = mean_squared_error(y_test, y_pred_ridge)\n",
    "r2_ridge = r2_score(y_test, y_pred_ridge)\n",
    "\n",
    "print(\"MSE do modelo Ridge:\", mse_ridge)\n",
    "print(\"R² do modelo Ridge:\", r2_ridge)\n",
    "\n",
    "# Avaliação do modelo Lasso\n",
    "mse_lasso = mean_squared_error(y_test, y_pred_lasso)\n",
    "r2_lasso = r2_score(y_test, y_pred_lasso)\n",
    "\n",
    "print(\"MSE do modelo Lasso:\", mse_lasso)\n",
    "print(\"R² do modelo Lasso:\", r2_lasso)\n",
    "\n",
    "# Avaliação do modelo Linear sem regularização\n",
    "mse_linear = mean_squared_error(y_test, y_pred)\n",
    "r2_linear = r2_score(y_test, y_pred)\n",
    "\n",
    "print(\"MSE do modelo Linear sem regularização:\", mse_linear)\n",
    "print(\"R² do modelo Linear sem regularização:\", r2_linear)"
   ]
  },
  {
   "cell_type": "markdown",
   "metadata": {},
   "source": [
    "15.5 Rede elástica"
   ]
  },
  {
   "cell_type": "markdown",
   "metadata": {},
   "source": [
    "É uma combinação de ridge e lasso"
   ]
  },
  {
   "cell_type": "markdown",
   "metadata": {},
   "source": [
    "15.6 Validação cruzada "
   ]
  },
  {
   "cell_type": "markdown",
   "metadata": {},
   "source": [
    "Validação cruzada é uma técnica comummente usada na adequação de modelos. É uma maneira de escolher parâmetros ideais para a regularização."
   ]
  },
  {
   "cell_type": "code",
   "execution_count": 182,
   "metadata": {},
   "outputs": [
    {
     "name": "stderr",
     "output_type": "stream",
     "text": [
      "c:\\Users\\User\\anaconda3\\envs\\pfe_certo\\Lib\\site-packages\\sklearn\\linear_model\\_coordinate_descent.py:1623: DataConversionWarning: A column-vector y was passed when a 1d array was expected. Please change the shape of y to (n_samples, ), for example using ravel().\n",
      "  y = column_or_1d(y, warn=True)\n"
     ]
    },
    {
     "name": "stdout",
     "output_type": "stream",
     "text": [
      "                       variable    coef_lasso   coefs_ridge  coef_en_cv_x  \\\n",
      "0                     Intercept      0.000000      0.000000      0.000000   \n",
      "1   NumUnits[T.Single attached]   3907.138710   2821.231114     -0.000000   \n",
      "2   NumUnits[T.Single detached]   4181.061704   3020.257041      0.000000   \n",
      "3           OwnRent[T.Outright]   6475.305290   4161.671555      0.000000   \n",
      "4             OwnRent[T.Rented]   1222.822149    896.856302     -0.000000   \n",
      "5        YearBuilt[T.1940-1949]  -7676.574958    260.838022     -0.000000   \n",
      "6        YearBuilt[T.1950-1959]  -9038.463519   2088.171681     -0.000000   \n",
      "7        YearBuilt[T.1960-1969]  -8177.292117   1748.553203     -0.000000   \n",
      "8        YearBuilt[T.1970-1979]  -7617.118461   1631.804938     -0.000000   \n",
      "9        YearBuilt[T.1980-1989]  -4304.593236   3524.145637      0.000000   \n",
      "10       YearBuilt[T.1990-1999]  -6667.913780   4822.455119      0.000000   \n",
      "11       YearBuilt[T.2000-2004]  -3454.510091   2679.042188      0.000000   \n",
      "12            YearBuilt[T.2005]  -3886.362558   2388.374395      0.000000   \n",
      "13            YearBuilt[T.2006]  -2128.432825   1503.906730      0.000000   \n",
      "14            YearBuilt[T.2007]  -2184.841261   1564.643300      0.000000   \n",
      "15            YearBuilt[T.2008]    312.296743    377.920800     -0.000000   \n",
      "16            YearBuilt[T.2009]  -1162.746105     78.799204     -0.000000   \n",
      "17            YearBuilt[T.2010]   -356.493979   2060.662727      0.000000   \n",
      "18     YearBuilt[T.Before 1939] -12134.894031   2446.532208     -0.000000   \n",
      "19             FoodStamp[T.Yes]  -5227.340837  -4845.420205     -0.000000   \n",
      "20   HeatingFuel[T.Electricity]   3756.251561   1481.325366     -0.000000   \n",
      "21           HeatingFuel[T.Gas]  10849.218705   5035.734459      0.000000   \n",
      "22           HeatingFuel[T.Oil]   8833.497857   2970.172256     -0.000000   \n",
      "23         HeatingFuel[T.Other]   1846.709814    334.531216     -0.000000   \n",
      "24         HeatingFuel[T.Solar]      0.000000     17.240358     -0.000000   \n",
      "25          HeatingFuel[T.Wood]    813.438029   -445.832684     -0.000000   \n",
      "26          Language[T.English]   -448.274780   1045.367765      0.000000   \n",
      "27            Language[T.Other]  -1320.660720    685.814137      0.000000   \n",
      "28   Language[T.Other European]  -2273.210772   -602.243752     -0.000000   \n",
      "29          Language[T.Spanish]  -4400.585164  -3046.241468     -0.000000   \n",
      "30                  NumBedrooms   3363.982022   1491.210751      0.000000   \n",
      "31                  NumChildren   6771.405843   5340.936890     -0.000000   \n",
      "32                    NumPeople -11026.575128 -10643.803283      0.000000   \n",
      "33                     NumRooms   9816.557540  11937.444547      0.000000   \n",
      "34                  NumVehicles   9220.259955   8028.941150      0.000000   \n",
      "35                   NumWorkers  16949.658744  16790.772324      0.000000   \n",
      "36                   HouseCosts  30175.679350  31754.324597     29.610132   \n",
      "37                 ElectricBill   3292.138477   5218.169200      9.875282   \n",
      "38                    Insurance  18774.043818  18914.070666     23.303206   \n",
      "\n",
      "    coef_en_cv_y  \n",
      "0       0.000000  \n",
      "1      -0.000000  \n",
      "2       0.000000  \n",
      "3       0.000000  \n",
      "4      -0.000000  \n",
      "5      -0.000000  \n",
      "6      -0.000000  \n",
      "7      -0.000000  \n",
      "8      -0.000000  \n",
      "9       0.000000  \n",
      "10      0.000000  \n",
      "11      0.000000  \n",
      "12      0.000000  \n",
      "13      0.000000  \n",
      "14      0.000000  \n",
      "15     -0.000000  \n",
      "16     -0.000000  \n",
      "17      0.000000  \n",
      "18     -0.000000  \n",
      "19     -0.000000  \n",
      "20     -0.000000  \n",
      "21      0.000000  \n",
      "22     -0.000000  \n",
      "23     -0.000000  \n",
      "24     -0.000000  \n",
      "25     -0.000000  \n",
      "26      0.000000  \n",
      "27      0.000000  \n",
      "28     -0.000000  \n",
      "29     -0.000000  \n",
      "30      0.000000  \n",
      "31     -0.000000  \n",
      "32      0.000000  \n",
      "33      0.000000  \n",
      "34      0.000000  \n",
      "35      0.000000  \n",
      "36     29.610132  \n",
      "37      9.875282  \n",
      "38     23.303206  \n"
     ]
    }
   ],
   "source": [
    "from sklearn.linear_model import ElasticNetCV\n",
    "\n",
    "en_cv = ElasticNetCV(cv=5, random_state=42).fit(x_train, y_train)\n",
    "\n",
    "coefs_en_cv = pd.DataFrame(\n",
    "    list(zip(predictors.design_info.column_names, en_cv.coef_)),\n",
    "    columns=['variable', 'coef_en_cv']\n",
    ")\n",
    "\n",
    "model_coefs = pd.merge(model_coefs, coefs_en_cv, on='variable')\n",
    "print(model_coefs)"
   ]
  }
 ],
 "metadata": {
  "kernelspec": {
   "display_name": "pfe_certo",
   "language": "python",
   "name": "python3"
  },
  "language_info": {
   "codemirror_mode": {
    "name": "ipython",
    "version": 3
   },
   "file_extension": ".py",
   "mimetype": "text/x-python",
   "name": "python",
   "nbconvert_exporter": "python",
   "pygments_lexer": "ipython3",
   "version": "3.12.3"
  }
 },
 "nbformat": 4,
 "nbformat_minor": 2
}

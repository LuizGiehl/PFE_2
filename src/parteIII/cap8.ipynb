{
 "cells": [
  {
   "cell_type": "markdown",
   "metadata": {},
   "source": [
    "CAPÍTULO 8 - Strings e dados tipo texto\n",
    "-\n"
   ]
  },
  {
   "cell_type": "markdown",
   "metadata": {},
   "source": [
    "Este capítulo não é específico do pandas, mas sim sobre strings em python de modo geral, onde exploraremos principalmente como manipular strings sem o pandas."
   ]
  },
  {
   "cell_type": "code",
   "execution_count": 1,
   "metadata": {},
   "outputs": [],
   "source": [
    "#duas strings\n",
    "word = 'grail'\n",
    "sentence = 'a scratch'"
   ]
  },
  {
   "cell_type": "markdown",
   "metadata": {},
   "source": [
    "8.2.1 Obtendo sunconjunto e fatiando strings"
   ]
  },
  {
   "cell_type": "markdown",
   "metadata": {},
   "source": [
    "Podemos pensar em strings como um contêiner de carateres. Você pode obter um subconjunto de uma string do mesmo modo que faria como qualquer outro contêiner."
   ]
  },
  {
   "cell_type": "markdown",
   "metadata": {},
   "source": [
    "Assim como qualquer outro contêiner, uma string possui índicies que começam do zero. Mas também possuem um índicie negativo que começa do -1 de trâs para frente"
   ]
  },
  {
   "cell_type": "markdown",
   "metadata": {},
   "source": [
    "8.2.2 Uma letra"
   ]
  },
  {
   "cell_type": "code",
   "execution_count": 2,
   "metadata": {},
   "outputs": [
    {
     "name": "stdout",
     "output_type": "stream",
     "text": [
      "g\n",
      "a\n"
     ]
    }
   ],
   "source": [
    "print(word[0])\n",
    "print(sentence[0])"
   ]
  },
  {
   "cell_type": "markdown",
   "metadata": {},
   "source": [
    "8.2.1.2 Fatiando várias letras"
   ]
  },
  {
   "cell_type": "markdown",
   "metadata": {},
   "source": [
    "podemos usar a notação de fatiamento para obter um intervalo de caracteres"
   ]
  },
  {
   "cell_type": "code",
   "execution_count": 3,
   "metadata": {},
   "outputs": [
    {
     "name": "stdout",
     "output_type": "stream",
     "text": [
      "gra\n"
     ]
    }
   ],
   "source": [
    "print(word[0:3])"
   ]
  },
  {
   "cell_type": "markdown",
   "metadata": {},
   "source": [
    "Notação de fatiamento em Python é inclusiva a esquerda. Ou seja a notação [0:3] incluirá os índicies 0, 1 e 2 mas deixará de fora o 3"
   ]
  },
  {
   "cell_type": "markdown",
   "metadata": {},
   "source": [
    "8.2.1.3 Números negativos"
   ]
  },
  {
   "cell_type": "markdown",
   "metadata": {},
   "source": [
    "Em python passsar um índicie negativo faz a contagem a partir do fim do contêiner"
   ]
  },
  {
   "cell_type": "code",
   "execution_count": 4,
   "metadata": {},
   "outputs": [
    {
     "name": "stdout",
     "output_type": "stream",
     "text": [
      " scrat\n"
     ]
    }
   ],
   "source": [
    "#obtêm a última letra\n",
    "print(sentence[-8:-2])"
   ]
  },
  {
   "cell_type": "markdown",
   "metadata": {},
   "source": [
    "Se passar os valores negativos ao contrario não vai devolver nenhum caractere"
   ]
  },
  {
   "cell_type": "code",
   "execution_count": 5,
   "metadata": {},
   "outputs": [
    {
     "name": "stdout",
     "output_type": "stream",
     "text": [
      "\n"
     ]
    }
   ],
   "source": [
    "print(sentence[-2:-8])"
   ]
  },
  {
   "cell_type": "markdown",
   "metadata": {},
   "source": [
    "Números não negativos podem ser combinados com números negativos"
   ]
  },
  {
   "cell_type": "code",
   "execution_count": 6,
   "metadata": {},
   "outputs": [
    {
     "name": "stdout",
     "output_type": "stream",
     "text": [
      "\n"
     ]
    }
   ],
   "source": [
    "print(sentence[2:0])"
   ]
  },
  {
   "cell_type": "markdown",
   "metadata": {},
   "source": [
    "8.2.2 Obtendo o último caractere de uma string"
   ]
  },
  {
   "cell_type": "markdown",
   "metadata": {},
   "source": [
    "Como python não é inclisivo a direita precisamos passar o último índicie mais um"
   ]
  },
  {
   "cell_type": "code",
   "execution_count": 7,
   "metadata": {},
   "outputs": [
    {
     "name": "stdout",
     "output_type": "stream",
     "text": [
      "9 \n",
      "\n",
      "scratch\n"
     ]
    }
   ],
   "source": [
    "#observe que o último índicie é uma posição menor do que o devolvido por len\n",
    "sent_len = len(sentence)\n",
    "print(sent_len, '\\n')\n",
    "print(sentence[2:sent_len])"
   ]
  },
  {
   "cell_type": "markdown",
   "metadata": {},
   "source": [
    "8.2.2.1 Fatiamneto a partir do início ou até o fim"
   ]
  },
  {
   "cell_type": "markdown",
   "metadata": {},
   "source": [
    "Se precisar fatiar um valor do seu início ou até seu fim, você pode deixar os dados e esquerda ou a direita em branco do :"
   ]
  },
  {
   "cell_type": "code",
   "execution_count": 8,
   "metadata": {},
   "outputs": [
    {
     "name": "stdout",
     "output_type": "stream",
     "text": [
      "gra\n"
     ]
    }
   ],
   "source": [
    "#é o mesmo que [0:3]\n",
    "print(word[:3])"
   ]
  },
  {
   "cell_type": "code",
   "execution_count": 9,
   "metadata": {},
   "outputs": [
    {
     "name": "stdout",
     "output_type": "stream",
     "text": [
      "scratch\n"
     ]
    }
   ],
   "source": [
    "#é o mesmo que [2:9] ou [2:len(sentence)]\n",
    "print(sentence[2:])"
   ]
  },
  {
   "cell_type": "code",
   "execution_count": 10,
   "metadata": {},
   "outputs": [
    {
     "name": "stdout",
     "output_type": "stream",
     "text": [
      "a scratch\n"
     ]
    }
   ],
   "source": [
    "print(sentence[:])"
   ]
  },
  {
   "cell_type": "markdown",
   "metadata": {},
   "source": [
    "8.2.2.2 Fatiamento com incrementos"
   ]
  },
  {
   "cell_type": "markdown",
   "metadata": {},
   "source": [
    "Se usar um segundo dois pontos pode passar um incremento, que te permite obter caracteres pulando alguns a partir de um número inteiro passado"
   ]
  },
  {
   "cell_type": "code",
   "execution_count": 11,
   "metadata": {},
   "outputs": [
    {
     "name": "stdout",
     "output_type": "stream",
     "text": [
      "asrth\n"
     ]
    }
   ],
   "source": [
    "print(sentence[::2])"
   ]
  },
  {
   "cell_type": "code",
   "execution_count": 12,
   "metadata": {},
   "outputs": [
    {
     "name": "stdout",
     "output_type": "stream",
     "text": [
      "act\n"
     ]
    }
   ],
   "source": [
    "print(sentence[::3])"
   ]
  },
  {
   "cell_type": "markdown",
   "metadata": {},
   "source": [
    "8.3 Métodos de string"
   ]
  },
  {
   "cell_type": "markdown",
   "metadata": {},
   "source": [
    "Há muitos métodos que são usados quando processamos dados em python. Na documentação oficial há uma lista com todos os métodos de strins que podem ser usados"
   ]
  },
  {
   "cell_type": "code",
   "execution_count": 13,
   "metadata": {},
   "outputs": [
    {
     "data": {
      "text/plain": [
       "6"
      ]
     },
     "execution_count": 13,
     "metadata": {},
     "output_type": "execute_result"
    }
   ],
   "source": [
    "\"It's just a flesh wound!\".find('u')"
   ]
  },
  {
   "cell_type": "code",
   "execution_count": 14,
   "metadata": {},
   "outputs": [
    {
     "data": {
      "text/plain": [
       "['ORA!', 'ORA!', 'ORA!', 'ORA!', 'ORA!', 'ORA!']"
      ]
     },
     "execution_count": 14,
     "metadata": {},
     "output_type": "execute_result"
    }
   ],
   "source": [
    "\"ORA! ORA! ORA! ORA! ORA! ORA!\".split(sep=' ')"
   ]
  },
  {
   "cell_type": "markdown",
   "metadata": {},
   "source": [
    "8.4 Outros métodos de string"
   ]
  },
  {
   "cell_type": "markdown",
   "metadata": {},
   "source": [
    "8.4.1 Método join"
   ]
  },
  {
   "cell_type": "markdown",
   "metadata": {},
   "source": [
    "O método join aceita um conteiner (por exemplo, uma list), e devolve uma nova string contendo cada elemento da lista"
   ]
  },
  {
   "cell_type": "code",
   "execution_count": 15,
   "metadata": {},
   "outputs": [],
   "source": [
    "d1 = '40°'\n",
    "m1 = \"46'\"\n",
    "s1 = '52.837\"'\n",
    "u1 = 'N'\n",
    "\n",
    "d2 = '73°'\n",
    "m2 = \"58'\"\n",
    "s2 = '26.302\"'\n",
    "u2 = 'W'\n"
   ]
  },
  {
   "cell_type": "markdown",
   "metadata": {},
   "source": [
    "podemos juntar todos os valores com um espaço no método join "
   ]
  },
  {
   "cell_type": "code",
   "execution_count": 16,
   "metadata": {},
   "outputs": [
    {
     "name": "stdout",
     "output_type": "stream",
     "text": [
      "40° 46' 52.837\" N 73° 58' 26.302\" W\n"
     ]
    }
   ],
   "source": [
    "coords = ' '.join([d1,m1,s1,u1,d2,m2,s2,u2])\n",
    "print(coords)"
   ]
  },
  {
   "cell_type": "markdown",
   "metadata": {},
   "source": [
    "Esse método será bem útil se houver listas de strings que você queira separar usando o seu próprio delimitador"
   ]
  },
  {
   "cell_type": "markdown",
   "metadata": {},
   "source": [
    "8.4.2 Método splitlines"
   ]
  },
  {
   "cell_type": "markdown",
   "metadata": {},
   "source": [
    "O método splitlines é semelhante ao método split, mas em geral é usado em strings com várias linhas, em que cada elemento será uma linha da string multilinha"
   ]
  },
  {
   "cell_type": "code",
   "execution_count": 17,
   "metadata": {},
   "outputs": [
    {
     "name": "stdout",
     "output_type": "stream",
     "text": [
      "Guard: What ? Ridden on a horse?\n",
      "King Arthur: Yes!\n",
      "Guard: You're using coconuts!\n",
      "King Arthur: What?\n",
      "Guard: You've got ... coconut[s] and you're banin' 'em together. \n",
      "\n"
     ]
    }
   ],
   "source": [
    "multi_str = \"\"\"Guard: What ? Ridden on a horse?\n",
    "King Arthur: Yes!\n",
    "Guard: You're using coconuts!\n",
    "King Arthur: What?\n",
    "Guard: You've got ... coconut[s] and you're banin' 'em together. \n",
    "\"\"\"\n",
    "\n",
    "print(multi_str)"
   ]
  },
  {
   "cell_type": "code",
   "execution_count": 18,
   "metadata": {},
   "outputs": [
    {
     "name": "stdout",
     "output_type": "stream",
     "text": [
      "['Guard: What ? Ridden on a horse?', 'King Arthur: Yes!', \"Guard: You're using coconuts!\", 'King Arthur: What?', \"Guard: You've got ... coconut[s] and you're banin' 'em together. \"]\n"
     ]
    }
   ],
   "source": [
    "multi_str_split = multi_str.splitlines()\n",
    "print(multi_str_split)"
   ]
  },
  {
   "cell_type": "markdown",
   "metadata": {},
   "source": [
    "(Suponde que queremos apenas as falas do guarda)"
   ]
  },
  {
   "cell_type": "code",
   "execution_count": 19,
   "metadata": {},
   "outputs": [
    {
     "name": "stdout",
     "output_type": "stream",
     "text": [
      "['Guard: What ? Ridden on a horse?', \"Guard: You're using coconuts!\", \"Guard: You've got ... coconut[s] and you're banin' 'em together. \"]\n"
     ]
    }
   ],
   "source": [
    "print(multi_str_split[::2])"
   ]
  },
  {
   "cell_type": "markdown",
   "metadata": {},
   "source": [
    "Supondo que queremos apenas as linhas de fala do guarda, podemos usar o método replace para substituir \"Guard: \" por uma string vazia e depois usar o método splitlines"
   ]
  },
  {
   "cell_type": "code",
   "execution_count": 20,
   "metadata": {},
   "outputs": [
    {
     "name": "stdout",
     "output_type": "stream",
     "text": [
      "['What ? Ridden on a horse?', \"You're using coconuts!\", \"You've got ... coconut[s] and you're banin' 'em together. \"]\n"
     ]
    }
   ],
   "source": [
    "guard = multi_str.replace(\"Guard: \", \"\").splitlines()[::2]\n",
    "print(guard)"
   ]
  },
  {
   "cell_type": "markdown",
   "metadata": {},
   "source": [
    "8.5 Formatação de strings"
   ]
  },
  {
   "cell_type": "markdown",
   "metadata": {},
   "source": [
    "A formatação de strings permiet especificar um template genérico para uma string e inserir variáveis no padrão"
   ]
  },
  {
   "cell_type": "markdown",
   "metadata": {},
   "source": [
    "8.5.1 Formatação de strings personalizadas"
   ]
  },
  {
   "cell_type": "markdown",
   "metadata": {},
   "source": [
    "Uma forma mais nova na formatação de strings está descrita na documentação oficial sobre esse assunto, junto de vários exemplos"
   ]
  },
  {
   "cell_type": "markdown",
   "metadata": {},
   "source": [
    "8.5.2 Formatação de strings de caracteres"
   ]
  },
  {
   "cell_type": "markdown",
   "metadata": {},
   "source": [
    "Para formatar strings de caracteres, você deve passar placeholders especiais e usar o método de format na string para inserir valores no placeholder"
   ]
  },
  {
   "cell_type": "code",
   "execution_count": 21,
   "metadata": {},
   "outputs": [
    {
     "name": "stdout",
     "output_type": "stream",
     "text": [
      "It's just a flesh wound\n"
     ]
    }
   ],
   "source": [
    "var = 'flesh wound'\n",
    "s = \"It's just a {}\"\n",
    "\n",
    "print(s.format(var))"
   ]
  },
  {
   "cell_type": "code",
   "execution_count": 22,
   "metadata": {},
   "outputs": [
    {
     "name": "stdout",
     "output_type": "stream",
     "text": [
      "It's just a scratch\n"
     ]
    }
   ],
   "source": [
    "print(s.format('scratch'))"
   ]
  },
  {
   "cell_type": "markdown",
   "metadata": {},
   "source": [
    "Os placeholders também podem se referir a várias variáveis passando um número em comum"
   ]
  },
  {
   "cell_type": "code",
   "execution_count": 23,
   "metadata": {},
   "outputs": [
    {
     "name": "stdout",
     "output_type": "stream",
     "text": [
      "It's just a flesh wound flesh wound\n"
     ]
    }
   ],
   "source": [
    "s = \"It's just a {0} {0}\"\n",
    "\n",
    "print(s.format(var))"
   ]
  },
  {
   "cell_type": "markdown",
   "metadata": {},
   "source": [
    "E também podemos passar uma variável aos placeholders"
   ]
  },
  {
   "cell_type": "markdown",
   "metadata": {},
   "source": [
    "8.5.3 Formatação de números"
   ]
  },
  {
   "cell_type": "code",
   "execution_count": 24,
   "metadata": {},
   "outputs": [
    {
     "name": "stdout",
     "output_type": "stream",
     "text": [
      "Some digits of pi: 3.14159265\n"
     ]
    }
   ],
   "source": [
    "print('Some digits of pi: {}'.format(3.14159265))"
   ]
  },
  {
   "cell_type": "markdown",
   "metadata": {},
   "source": [
    "É possível até mesmo formatar números e usar vírgulas como separadores de milhar"
   ]
  },
  {
   "cell_type": "code",
   "execution_count": 25,
   "metadata": {},
   "outputs": [
    {
     "name": "stdout",
     "output_type": "stream",
     "text": [
      "In 2005, Lu Chao of China recited: 67,890 digits of pi\n"
     ]
    }
   ],
   "source": [
    "print(\"In 2005, Lu Chao of China recited: {:,} digits of pi\".format(67890))"
   ]
  },
  {
   "cell_type": "markdown",
   "metadata": {},
   "source": [
    "Números podem ser usados para fazer cálculose podem ser formatados com determinado número de valores decimais."
   ]
  },
  {
   "cell_type": "code",
   "execution_count": 26,
   "metadata": {},
   "outputs": [
    {
     "name": "stdout",
     "output_type": "stream",
     "text": [
      "I remember 0.0001031 or 0.0103% of what Lu Chao recited\n"
     ]
    }
   ],
   "source": [
    "# o 0 em {0:.4} e em {0:.4%} refere-se ao índicie 0 nesse formato\n",
    "# o 4. refere-se à quantidade de valores decimais, 4;\n",
    "# se especificarmos um %, o decimal será formatado como uma porcentagem\n",
    "\n",
    "print('I remember {0:.4} or {0:.4%} of what Lu Chao recited'.format(7/67890))"
   ]
  },
  {
   "cell_type": "markdown",
   "metadata": {},
   "source": [
    "Por fim, podemos usar a formatação de strings para preencher um número zeros, semelhante a como zfill funciona com strings.  \n",
    "Esse método pode ser útil se estivermos trabalhando com números de ID, que são lidos como números mas são strings"
   ]
  },
  {
   "cell_type": "code",
   "execution_count": 27,
   "metadata": {},
   "outputs": [
    {
     "name": "stdout",
     "output_type": "stream",
     "text": [
      "My ID number is 00042\n"
     ]
    }
   ],
   "source": [
    "#o primeiro zero representa o índicie\n",
    "#o segundo zero refere-se ao caractare para preencher\n",
    "#o 54 representa à quantidade de caractares no total\n",
    "# d indica que um dígito será usado\n",
    "\n",
    "\n",
    "print(\"My ID number is {0:05d}\".format(42))"
   ]
  },
  {
   "cell_type": "markdown",
   "metadata": {},
   "source": [
    "8.5.4 Formatação no estilo de printf de C"
   ]
  },
  {
   "cell_type": "markdown",
   "metadata": {},
   "source": [
    "Outra forma de efetuar uma formatação com strings é usando o operador %. Essa opção segue o mesmo estilo de formatação do printf de C.\n",
    "De acordo com a documentação oficial, o método str.format é preferível."
   ]
  },
  {
   "cell_type": "code",
   "execution_count": 28,
   "metadata": {},
   "outputs": [
    {
     "name": "stdout",
     "output_type": "stream",
     "text": [
      "I only know 7 digits of pi\n"
     ]
    }
   ],
   "source": [
    "# d representa um dígito inteiro\n",
    "s = 'I only know %d digits of pi' % 7\n",
    "print(s)"
   ]
  },
  {
   "cell_type": "markdown",
   "metadata": {},
   "source": [
    "8.5.5 Strings literais e formatadas em Python 3.6+"
   ]
  },
  {
   "cell_type": "markdown",
   "metadata": {},
   "source": [
    "Strings literais formatadas, f-strings é um recurso relativamente novo em python. A sintaxe é quase a mesma, com a diferença que precisamos passar f antes da string.  \n",
    "Com isso conseguimos passar variáveis diretamente nos placeholders, sem a necessidade de usar .format"
   ]
  },
  {
   "cell_type": "code",
   "execution_count": 29,
   "metadata": {},
   "outputs": [
    {
     "name": "stdout",
     "output_type": "stream",
     "text": [
      "It's just a flesh wound !\n"
     ]
    }
   ],
   "source": [
    "var = 'flesh wound'\n",
    "s = f\"It's just a {var} !\"\n",
    "\n",
    "print(s)"
   ]
  },
  {
   "cell_type": "code",
   "execution_count": 30,
   "metadata": {},
   "outputs": [
    {
     "name": "stdout",
     "output_type": "stream",
     "text": [
      "Hayden Planetarium Coordinates: 40.7814 N, 73.9733 W\n"
     ]
    }
   ],
   "source": [
    "lat = '40.7814 N'\n",
    "lon = '73.9733 W'\n",
    "\n",
    "s = f'Hayden Planetarium Coordinates: {lat}, {lon}'\n",
    "\n",
    "print(s)"
   ]
  },
  {
   "cell_type": "markdown",
   "metadata": {},
   "source": [
    "8.6 Expressões regulares (RegEx)"
   ]
  },
  {
   "cell_type": "markdown",
   "metadata": {},
   "source": [
    "8.6.1 Correspondência de padrão"
   ]
  },
  {
   "cell_type": "markdown",
   "metadata": {},
   "source": [
    "Usaremos o módulo re para escrever o padrão da expressão regular na qual queremos fazer uma correspondência com a string"
   ]
  },
  {
   "cell_type": "code",
   "execution_count": 31,
   "metadata": {},
   "outputs": [],
   "source": [
    "import re\n",
    "tele_num = '1234567890'"
   ]
  },
  {
   "cell_type": "code",
   "execution_count": 32,
   "metadata": {},
   "outputs": [
    {
     "name": "stdout",
     "output_type": "stream",
     "text": [
      "<class 're.Match'>\n",
      "<re.Match object; span=(0, 10), match='1234567890'>\n"
     ]
    }
   ],
   "source": [
    "#O r antes da string de padrão torna a string uma \"raw string\", o que significa que as barras invertidas são tratadas literalmente, evitando a necessidade de escape adicional\n",
    "m = re.match(pattern=r'\\d{10}', string=tele_num)\n",
    "print(type(m))\n",
    "print(m)"
   ]
  },
  {
   "cell_type": "markdown",
   "metadata": {},
   "source": [
    "Na maioria das vezes em que usamos RegEx e fazemos a correspondência de um número com um padrão, é para saber se o valor inserido corresponde ao valor da RegEx, e nesses casos a única coisa que queros saber é se o valor corresponde ou não. Para isso é só obtermos um valor Booleano usando o a função embutida bool"
   ]
  },
  {
   "cell_type": "code",
   "execution_count": 33,
   "metadata": {},
   "outputs": [
    {
     "name": "stdout",
     "output_type": "stream",
     "text": [
      "True\n"
     ]
    }
   ],
   "source": [
    "print(bool(m))"
   ]
  },
  {
   "cell_type": "markdown",
   "metadata": {},
   "source": [
    "Em outras ocasiões uma correspondência com uma expressão regular fará parte de uma intrução if, portando o uso da função bool se fará desnecessário"
   ]
  },
  {
   "cell_type": "code",
   "execution_count": 34,
   "metadata": {},
   "outputs": [
    {
     "name": "stdout",
     "output_type": "stream",
     "text": [
      "match\n"
     ]
    }
   ],
   "source": [
    "#deve exibir match\n",
    "if m:\n",
    "    print('match')\n",
    "else:\n",
    "    print('no match')"
   ]
  },
  {
   "cell_type": "markdown",
   "metadata": {},
   "source": [
    "Se quisermos extrair algum valor do objeto de correspondência, como seu índicie, podemos usar alguns métodos no objeto de correspondência"
   ]
  },
  {
   "cell_type": "code",
   "execution_count": 35,
   "metadata": {},
   "outputs": [
    {
     "name": "stdout",
     "output_type": "stream",
     "text": [
      "0 \n",
      "\n",
      "10 \n",
      "\n",
      "(0, 10) \n",
      "\n",
      "1234567890 \n",
      "\n"
     ]
    }
   ],
   "source": [
    "#obtém o primeiro índicie\n",
    "print(m.start(), '\\n')\n",
    "\n",
    "#obtém o último índicie\n",
    "print(m.end(), '\\n')\n",
    "\n",
    "#obtém o primeiro e último índicie\n",
    "print(m.span(), '\\n')\n",
    "\n",
    "#a string correspondente ao padrão\n",
    "print(m.group(), '\\n')"
   ]
  },
  {
   "cell_type": "markdown",
   "metadata": {},
   "source": [
    "Números de telefone podem ser um pouco mais complicados do que uma série de 10 dígitos consecultivos"
   ]
  },
  {
   "cell_type": "code",
   "execution_count": 36,
   "metadata": {},
   "outputs": [],
   "source": [
    "tele_num_spaces = '46 9988 2548'"
   ]
  },
  {
   "cell_type": "markdown",
   "metadata": {},
   "source": [
    "Suponha que usássemos o padrão anterior nesse exemplo"
   ]
  },
  {
   "cell_type": "code",
   "execution_count": 37,
   "metadata": {},
   "outputs": [
    {
     "name": "stdout",
     "output_type": "stream",
     "text": [
      "<class 'NoneType'>\n"
     ]
    }
   ],
   "source": [
    "m = re.match(pattern=r'/d{10}', string=tele_num_spaces)\n",
    "\n",
    "print(type(m))"
   ]
  },
  {
   "cell_type": "code",
   "execution_count": 38,
   "metadata": {},
   "outputs": [
    {
     "name": "stdout",
     "output_type": "stream",
     "text": [
      "no match\n"
     ]
    }
   ],
   "source": [
    "if m:\n",
    "    print('match')\n",
    "else:\n",
    "    print('no match')"
   ]
  },
  {
   "cell_type": "markdown",
   "metadata": {},
   "source": [
    "Vamos modificar o padrão para que aceite tanto o padrão sem espaços como o padrão com espaço"
   ]
  },
  {
   "cell_type": "code",
   "execution_count": 39,
   "metadata": {},
   "outputs": [
    {
     "name": "stdout",
     "output_type": "stream",
     "text": [
      "<re.Match object; span=(0, 12), match='46 9988 2548'> \n",
      "\n",
      "<class 're.Match'> \n",
      "\n",
      "True\n"
     ]
    }
   ],
   "source": [
    "#É recomendavel passar o padrão RegEx como uma variável separada caso ela fique muito grande\n",
    "p = r'\\d{2}\\s?\\d{4}\\s?\\d{4}'\n",
    "m = re.match(pattern=p, string=tele_num_spaces)\n",
    "\n",
    "print(m, '\\n')\n",
    "print(type(m), '\\n')\n",
    "print(bool(m))"
   ]
  },
  {
   "cell_type": "markdown",
   "metadata": {},
   "source": [
    "Os códigos também podem estar entre parênteses e pode haver um traço entro os outros dígitos"
   ]
  },
  {
   "cell_type": "code",
   "execution_count": 40,
   "metadata": {},
   "outputs": [
    {
     "name": "stdout",
     "output_type": "stream",
     "text": [
      "<re.Match object; span=(0, 14), match='(46) 9988-2548'> \n",
      "\n",
      "<class 're.Match'> \n",
      "\n",
      "True\n"
     ]
    }
   ],
   "source": [
    "tele_num_spaces_dash = '(46) 9988-2548'\n",
    "p = r'\\(?\\d{2}\\)?\\s?\\d{4}\\s?-?\\d{4}'\n",
    "m = re.match(pattern=p, string=tele_num_spaces_dash)\n",
    "\n",
    "print(m, '\\n')\n",
    "print(type(m), '\\n')\n",
    "print(bool(m))"
   ]
  },
  {
   "cell_type": "markdown",
   "metadata": {},
   "source": [
    "Expressões regulares podem se tornar absurdamente confusas mas são muito úteis em diversas ocasiões"
   ]
  },
  {
   "cell_type": "markdown",
   "metadata": {},
   "source": [
    "8.6.3 Substituindo um padrão"
   ]
  },
  {
   "cell_type": "markdown",
   "metadata": {},
   "source": [
    "Em nosso exemplo ocm str.replace queríamos obter as linhas de guard, de modo que fizemos uma sbstituição direta de string no script.  \n",
    "No entando com RegEx podemos deixar um padrão genérico para obter tanto as linhas do guarda como do rei arthur"
   ]
  },
  {
   "cell_type": "code",
   "execution_count": 41,
   "metadata": {},
   "outputs": [],
   "source": [
    "multi_str = \"\"\"Guard: What ? Ridden on a horse?\n",
    "King Arthur: Yes!\n",
    "Guard: You're using coconuts!\n",
    "King Arthur: What?\n",
    "Guard: You've got ... coconut[s] and you're banin' 'em together. \n",
    "\"\"\"\n"
   ]
  },
  {
   "cell_type": "code",
   "execution_count": 42,
   "metadata": {},
   "outputs": [
    {
     "name": "stdout",
     "output_type": "stream",
     "text": [
      "What ? Ridden on a horse?\n",
      "Yes!\n",
      "You're using coconuts!\n",
      "What?\n",
      "You've got ... coconut[s] and you're banin' 'em together. \n",
      "\n"
     ]
    },
    {
     "name": "stderr",
     "output_type": "stream",
     "text": [
      "<>:1: SyntaxWarning: invalid escape sequence '\\w'\n",
      "<>:1: SyntaxWarning: invalid escape sequence '\\w'\n",
      "C:\\Users\\User\\AppData\\Local\\Temp\\ipykernel_22388\\677301835.py:1: SyntaxWarning: invalid escape sequence '\\w'\n",
      "  p = '\\w+\\s?\\w+:\\s?'\n"
     ]
    }
   ],
   "source": [
    "p = '\\w+\\s?\\w+:\\s?'\n",
    "\n",
    "s = re.sub(pattern=p, string=multi_str, repl='')\n",
    "print(s)"
   ]
  },
  {
   "cell_type": "markdown",
   "metadata": {},
   "source": [
    "Agora podemos obter linhas de qualquer uma das partes usando fatiamento com incrementos"
   ]
  },
  {
   "cell_type": "code",
   "execution_count": 43,
   "metadata": {},
   "outputs": [
    {
     "name": "stdout",
     "output_type": "stream",
     "text": [
      "['What ? Ridden on a horse?', \"You're using coconuts!\", \"You've got ... coconut[s] and you're banin' 'em together. \"] \n",
      "\n",
      "['Yes!', 'What?']\n"
     ]
    }
   ],
   "source": [
    "guard = s.splitlines()[::2]\n",
    "king_A = s.splitlines()[1::2]\n",
    "\n",
    "print(guard, '\\n')\n",
    "print(king_A)"
   ]
  },
  {
   "cell_type": "markdown",
   "metadata": {},
   "source": [
    "8.6.4 Compilando padrão"
   ]
  },
  {
   "cell_type": "markdown",
   "metadata": {},
   "source": [
    "O módulo re de Python nos permite compilar um padrão com compile para que este seja reutilizado.  \n",
    "A sintaxe é quase igual. Passamos o padrão de expressão regular diretamente para a função compile e salvamos o resultado, e como o padrão já está compilado não precisamos especificar o parâmetro do padrão no método"
   ]
  },
  {
   "cell_type": "markdown",
   "metadata": {},
   "source": [
    "exemplo com match:"
   ]
  },
  {
   "cell_type": "code",
   "execution_count": 44,
   "metadata": {},
   "outputs": [
    {
     "name": "stdout",
     "output_type": "stream",
     "text": [
      "<re.Match object; span=(0, 10), match='1234567890'> \n",
      "\n",
      "<class 're.Match'> \n",
      "\n",
      "True\n"
     ]
    },
    {
     "name": "stderr",
     "output_type": "stream",
     "text": [
      "<>:1: SyntaxWarning: invalid escape sequence '\\d'\n",
      "<>:1: SyntaxWarning: invalid escape sequence '\\d'\n",
      "C:\\Users\\User\\AppData\\Local\\Temp\\ipykernel_22388\\3082028590.py:1: SyntaxWarning: invalid escape sequence '\\d'\n",
      "  p = re.compile('\\d{10}')\n"
     ]
    }
   ],
   "source": [
    "p = re.compile('\\d{10}')\n",
    "s = '1234567890'\n",
    "\n",
    "m = p.match(s)\n",
    "\n",
    "print(m, '\\n')\n",
    "print(type(m), '\\n')\n",
    "print(bool(m))"
   ]
  },
  {
   "cell_type": "markdown",
   "metadata": {},
   "source": [
    "Exemplo com findall"
   ]
  },
  {
   "cell_type": "code",
   "execution_count": 45,
   "metadata": {},
   "outputs": [
    {
     "name": "stdout",
     "output_type": "stream",
     "text": [
      "['13', '12', '11', '10', '9'] \n",
      "\n",
      "<class 'list'> \n",
      "\n",
      "True\n"
     ]
    },
    {
     "name": "stderr",
     "output_type": "stream",
     "text": [
      "<>:1: SyntaxWarning: invalid escape sequence '\\d'\n",
      "<>:1: SyntaxWarning: invalid escape sequence '\\d'\n",
      "C:\\Users\\User\\AppData\\Local\\Temp\\ipykernel_22388\\2358209079.py:1: SyntaxWarning: invalid escape sequence '\\d'\n",
      "  p = re.compile('\\d+')\n"
     ]
    }
   ],
   "source": [
    "p = re.compile('\\d+')\n",
    "s = \"13 Jodie, war John Hurt, 12 Peter, \"\\\n",
    "    \"11 Matt Smith, 10 David, 9 Christopher\"\n",
    "\n",
    "m = p.findall(s)\n",
    "\n",
    "print(m, '\\n')\n",
    "print(type(m), '\\n')\n",
    "print(bool(m))"
   ]
  }
 ],
 "metadata": {
  "kernelspec": {
   "display_name": "pfe_certo",
   "language": "python",
   "name": "python3"
  },
  "language_info": {
   "codemirror_mode": {
    "name": "ipython",
    "version": 3
   },
   "file_extension": ".py",
   "mimetype": "text/x-python",
   "name": "python",
   "nbconvert_exporter": "python",
   "pygments_lexer": "ipython3",
   "version": "3.12.3"
  }
 },
 "nbformat": 4,
 "nbformat_minor": 2
}
